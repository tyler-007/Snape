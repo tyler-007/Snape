{
 "cells": [
  {
   "cell_type": "code",
   "execution_count": 1,
   "metadata": {},
   "outputs": [],
   "source": [
    "import pandas as pd \n",
    "import numpy as np \n",
    "import matplotlib.pyplot as plt\n",
    "import seaborn as sns\n"
   ]
  },
  {
   "cell_type": "code",
   "execution_count": 2,
   "metadata": {},
   "outputs": [],
   "source": [
    "repair=pd.read_csv(\"/Users/aayushjain/codes/projects/company assignements/Snape/Vehicle Repair Dashboard/Repair Records-Grid view (2).csv\")"
   ]
  },
  {
   "cell_type": "code",
   "execution_count": 3,
   "metadata": {},
   "outputs": [],
   "source": [
    "service=pd.read_csv(\"/Users/aayushjain/codes/projects/company assignements/Snape/Vehicle Repair Dashboard/Service Record-Grid view (1).csv\")\n"
   ]
  },
  {
   "cell_type": "code",
   "execution_count": 4,
   "metadata": {},
   "outputs": [
    {
     "name": "stdout",
     "output_type": "stream",
     "text": [
      "<class 'pandas.core.frame.DataFrame'>\n",
      "RangeIndex: 2398 entries, 0 to 2397\n",
      "Data columns (total 55 columns):\n",
      " #   Column                                                    Non-Null Count  Dtype  \n",
      "---  ------                                                    --------------  -----  \n",
      " 0   SL No.                                                    2398 non-null   int64  \n",
      " 1   Registration Number                                       2397 non-null   object \n",
      " 2   Vehicle Status (from Registration Number) 2               2397 non-null   object \n",
      " 3   Model                                                     2397 non-null   object \n",
      " 4   Incident Date                                             2396 non-null   object \n",
      " 5   Driver Deduction Completed by Labanya                     1601 non-null   object \n",
      " 6   Vehicle Hub                                               2397 non-null   object \n",
      " 7   Driver ID                                                 2396 non-null   float64\n",
      " 8   Driver Name                                               2385 non-null   object \n",
      " 9   Driver Type                                               2032 non-null   object \n",
      " 10  Driver Hub                                                0 non-null      float64\n",
      " 11  Damage Type                                               2398 non-null   object \n",
      " 12  Driver Penalty                                            2368 non-null   object \n",
      " 13  Vehicle Photo                                             2185 non-null   object \n",
      " 14  Recovery from Third Party                                 0 non-null      float64\n",
      " 15  Repair Vendors                                            2191 non-null   object \n",
      " 16  Date Sent                                                 2252 non-null   object \n",
      " 17  Date Received                                             2263 non-null   object \n",
      " 18  Received Month/Year                                       2398 non-null   object \n",
      " 19  Downtime (Days)                                           2212 non-null   float64\n",
      " 20  Approval Status                                           2398 non-null   object \n",
      " 21  Invoice Number                                            1726 non-null   object \n",
      " 22  Invoice Amount                                            1726 non-null   object \n",
      " 23  Invoice                                                   1727 non-null   object \n",
      " 24  Invoice Payment Status                                    2316 non-null   object \n",
      " 25  Insurance DO Amount                                       23 non-null     object \n",
      " 26  Traditional Insurance Claim                               1904 non-null   object \n",
      " 27  Traditional Insurance Claim- Accident Details             217 non-null    object \n",
      " 28  Traditional Insurance Claim Current Insurance Status      65 non-null     object \n",
      " 29  Insurance Partner (from Registration Number)              2397 non-null   object \n",
      " 30  Insurance Policy Number (from Registration Number)        2397 non-null   object \n",
      " 31  Spot Insurance Claim                                      87 non-null     object \n",
      " 32  Spot Insurance Claim Amount Settled                       14 non-null     object \n",
      " 33  Spot Insurance Claim Amount Settled Attachment            13 non-null     object \n",
      " 34  Our Cost                                                  2398 non-null   int64  \n",
      " 35  Created By                                                2398 non-null   object \n",
      " 36  Created                                                   2398 non-null   object \n",
      " 37  Last Modified By                                          2398 non-null   object \n",
      " 38  Created Date                                              2396 non-null   float64\n",
      " 39  Last Modified                                             2398 non-null   object \n",
      " 40  Hub Manager Emails (from Hub) (from Registration Number)  2385 non-null   object \n",
      " 41  Rejection Reason                                          29 non-null     object \n",
      " 42  Sent Month/Year                                           2398 non-null   object \n",
      " 43  Remarks                                                   5 non-null      object \n",
      " 44  Vehicle Status (from Registration Number)                 2397 non-null   object \n",
      " 45  Maintenance Remarks                                       435 non-null    object \n",
      " 46  Vehicle Status (from Registration Number) 3               2397 non-null   object \n",
      " 47  Field 44                                                  53 non-null     object \n",
      " 48  Miscellaneous Damages Remarks                             281 non-null    object \n",
      " 49  Driver Penalty rollup                                     2398 non-null   object \n",
      " 50  Repair KM Reading                                         685 non-null    float64\n",
      " 51  Email Subject Line                                        38 non-null     object \n",
      " 52  Vehicle Status (from Registration Number) 4               2397 non-null   object \n",
      " 53  Deduction Completed                                       127 non-null    float64\n",
      " 54  Deduction Pending                                         2398 non-null   int64  \n",
      "dtypes: float64(7), int64(3), object(45)\n",
      "memory usage: 1.0+ MB\n"
     ]
    }
   ],
   "source": [
    "repair.info()"
   ]
  },
  {
   "cell_type": "code",
   "execution_count": 5,
   "metadata": {},
   "outputs": [
    {
     "data": {
      "text/plain": [
       "SL No.                                                         0\n",
       "Registration Number                                            1\n",
       "Vehicle Status (from Registration Number) 2                    1\n",
       "Model                                                          1\n",
       "Incident Date                                                  2\n",
       "Driver Deduction Completed by Labanya                        797\n",
       "Vehicle Hub                                                    1\n",
       "Driver ID                                                      2\n",
       "Driver Name                                                   13\n",
       "Driver Type                                                  366\n",
       "Driver Hub                                                  2398\n",
       "Damage Type                                                    0\n",
       "Driver Penalty                                                30\n",
       "Vehicle Photo                                                213\n",
       "Recovery from Third Party                                   2398\n",
       "Repair Vendors                                               207\n",
       "Date Sent                                                    146\n",
       "Date Received                                                135\n",
       "Received Month/Year                                            0\n",
       "Downtime (Days)                                              186\n",
       "Approval Status                                                0\n",
       "Invoice Number                                               672\n",
       "Invoice Amount                                               672\n",
       "Invoice                                                      671\n",
       "Invoice Payment Status                                        82\n",
       "Insurance DO Amount                                         2375\n",
       "Traditional Insurance Claim                                  494\n",
       "Traditional Insurance Claim- Accident Details               2181\n",
       "Traditional Insurance Claim Current Insurance Status        2333\n",
       "Insurance Partner (from Registration Number)                   1\n",
       "Insurance Policy Number (from Registration Number)             1\n",
       "Spot Insurance Claim                                        2311\n",
       "Spot Insurance Claim Amount Settled                         2384\n",
       "Spot Insurance Claim Amount Settled Attachment              2385\n",
       "Our Cost                                                       0\n",
       "Created By                                                     0\n",
       "Created                                                        0\n",
       "Last Modified By                                               0\n",
       "Created Date                                                   2\n",
       "Last Modified                                                  0\n",
       "Hub Manager Emails (from Hub) (from Registration Number)      13\n",
       "Rejection Reason                                            2369\n",
       "Sent Month/Year                                                0\n",
       "Remarks                                                     2393\n",
       "Vehicle Status (from Registration Number)                      1\n",
       "Maintenance Remarks                                         1963\n",
       "Vehicle Status (from Registration Number) 3                    1\n",
       "Field 44                                                    2345\n",
       "Miscellaneous Damages Remarks                               2117\n",
       "Driver Penalty rollup                                          0\n",
       "Repair KM Reading                                           1713\n",
       "Email Subject Line                                          2360\n",
       "Vehicle Status (from Registration Number) 4                    1\n",
       "Deduction Completed                                         2271\n",
       "Deduction Pending                                              0\n",
       "dtype: int64"
      ]
     },
     "execution_count": 5,
     "metadata": {},
     "output_type": "execute_result"
    }
   ],
   "source": [
    "repair.isnull().sum()"
   ]
  },
  {
   "cell_type": "code",
   "execution_count": 6,
   "metadata": {},
   "outputs": [
    {
     "data": {
      "text/plain": [
       "Vehicle Status (from Registration Number) 2\n",
       "Running    2152\n",
       "Down        245\n",
       "Name: count, dtype: int64"
      ]
     },
     "execution_count": 6,
     "metadata": {},
     "output_type": "execute_result"
    }
   ],
   "source": [
    "repair['Vehicle Status (from Registration Number) 2'].value_counts()"
   ]
  },
  {
   "cell_type": "code",
   "execution_count": 7,
   "metadata": {},
   "outputs": [
    {
     "data": {
      "text/plain": [
       "Model\n",
       "Xpres-T Ziptron    1580\n",
       "Xpres-T Electra     676\n",
       "eC3                 141\n",
       "Name: count, dtype: int64"
      ]
     },
     "execution_count": 7,
     "metadata": {},
     "output_type": "execute_result"
    }
   ],
   "source": [
    "repair['Model'].value_counts()"
   ]
  },
  {
   "cell_type": "code",
   "execution_count": 8,
   "metadata": {},
   "outputs": [],
   "source": [
    "driver_counts = repair['Driver Name'].value_counts()\n",
    "\n",
    "# Step 2: Filter the names with more than 3 occurrences\n",
    "drivers_name_with_more_than_5 = driver_counts[driver_counts > 5].index"
   ]
  },
  {
   "cell_type": "code",
   "execution_count": 9,
   "metadata": {},
   "outputs": [
    {
     "data": {
      "text/plain": [
       "57"
      ]
     },
     "execution_count": 9,
     "metadata": {},
     "output_type": "execute_result"
    }
   ],
   "source": [
    "len(drivers_name_with_more_than_5)"
   ]
  },
  {
   "cell_type": "code",
   "execution_count": 10,
   "metadata": {},
   "outputs": [
    {
     "name": "stdout",
     "output_type": "stream",
     "text": [
      "Index(['INTERNAL ID ', 'NDITA HUB- Security', 'Dileep Paswan', 'Honey Maharaj',\n",
      "       'Avijit Ghosh', 'HIDCO HUB- Security', 'Jagannath Dey', 'Rahul Yadav',\n",
      "       'Alok Singh', 'Ansar Hussain', 'Surfil Ali Mondal', 'Abhitesh Singh',\n",
      "       'Sanjay Das', 'Rajendra Kr yadav', 'Vijay Singh', 'Sk Azad ',\n",
      "       'Khiderpore HUB- Security', 'Tapas Das', 'Ashok kr Yadav ',\n",
      "       'Niraj Gupta', 'Md Samim Ansari', 'RAJESH MISHRA', 'Bappa Ghosh',\n",
      "       'Madhumita Mondal', 'Md Amanul Haque ', 'Eman Bhattacharyya',\n",
      "       'Gopal Saha ', 'M Avinash', 'Krishnendu Kundu', 'samim Reja',\n",
      "       'Shamima Shamima Parveen', 'Abhijit Roy ', 'Indrajit Biswas',\n",
      "       'Jhantu Das', 'Subrata Chatterjee', 'Sk Jamaluddin', 'Amit Das',\n",
      "       'Shivam Yadav', 'VISHAL KUMAR SINGH', 'Amit Kumar  ', 'Priyanka Mistry',\n",
      "       'Azhar Ahmed', 'Avijit Das', 'Debasish Tarafdar', 'O2 HUB- Security',\n",
      "       'Pranati Pakrey', 'Afsar Ali', 'Amit Majumder', 'Bijay Kumar Kurmi',\n",
      "       'SAMIR Mondal', 'Gaurav Kumar ', 'Umesh Singh', 'Sanjeev Kumar',\n",
      "       'Punyadeep Basu', 'Shyamali Kayal', 'Md Sajid', 'Somnath Ray'],\n",
      "      dtype='object', name='Driver Name')\n"
     ]
    }
   ],
   "source": [
    "print(drivers_name_with_more_than_5)"
   ]
  },
  {
   "cell_type": "code",
   "execution_count": 11,
   "metadata": {},
   "outputs": [
    {
     "data": {
      "text/plain": [
       "955"
      ]
     },
     "execution_count": 11,
     "metadata": {},
     "output_type": "execute_result"
    }
   ],
   "source": [
    "repair['Driver Name'].nunique()"
   ]
  },
  {
   "cell_type": "code",
   "execution_count": 12,
   "metadata": {},
   "outputs": [
    {
     "data": {
      "text/plain": [
       "492      250\n",
       "732      729\n",
       "793        0\n",
       "988      880\n",
       "1546       0\n",
       "1924     921\n",
       "2132    1200\n",
       "2282     500\n",
       "Name: Our Cost, dtype: int64"
      ]
     },
     "execution_count": 12,
     "metadata": {},
     "output_type": "execute_result"
    }
   ],
   "source": [
    "repair[repair['Driver Name']=='Madhumita Mondal']['Our Cost']"
   ]
  },
  {
   "cell_type": "code",
   "execution_count": 13,
   "metadata": {},
   "outputs": [
    {
     "data": {
      "text/plain": [
       "Vehicle Hub  Repair Vendors         \n",
       "Axis         Speedy Autocare            110\n",
       "             Automovill                 101\n",
       "             Go Mechanic                 17\n",
       "             Swift Wench Car Service     12\n",
       "             My Carz Studio              11\n",
       "                                       ... \n",
       "Rishi Tower  Go Mechanic                  3\n",
       "             My Carz Studio               1\n",
       "Somponno     Swift Wench Car Service      5\n",
       "             Celica Motorcorp             2\n",
       "             Speedy Autocare              1\n",
       "Name: count, Length: 62, dtype: int64"
      ]
     },
     "execution_count": 13,
     "metadata": {},
     "output_type": "execute_result"
    }
   ],
   "source": [
    "repair.groupby(\"Vehicle Hub\")['Repair Vendors'].value_counts()"
   ]
  },
  {
   "cell_type": "code",
   "execution_count": 14,
   "metadata": {},
   "outputs": [
    {
     "name": "stdout",
     "output_type": "stream",
     "text": [
      "The output has been saved to grouped_counts_output.txt\n"
     ]
    }
   ],
   "source": [
    "grouped_counts = repair.groupby(\"Vehicle Hub\")['Repair Vendors'].value_counts()\n",
    "\n",
    "# Convert the output to a string\n",
    "output_str = grouped_counts.to_string()\n",
    "\n",
    "# Specify the path to the text file\n",
    "file_path = 'grouped_counts_output.txt'\n",
    "\n",
    "# Write the output to a text file\n",
    "with open(file_path, 'w') as file:\n",
    "    file.write(output_str)\n",
    "\n",
    "print(f\"The output has been saved to {file_path}\")\n"
   ]
  },
  {
   "cell_type": "code",
   "execution_count": 15,
   "metadata": {},
   "outputs": [
    {
     "data": {
      "text/plain": [
       "Vehicle Hub\n",
       "NDITA          583\n",
       "O2             517\n",
       "HIDCO          431\n",
       "EVRE           344\n",
       "Axis           265\n",
       "Khiderpore     149\n",
       "Rishi Tower     76\n",
       "Hyatt           20\n",
       "Somponno        12\n",
       "Name: count, dtype: int64"
      ]
     },
     "execution_count": 15,
     "metadata": {},
     "output_type": "execute_result"
    }
   ],
   "source": [
    "repair[\"Vehicle Hub\"].value_counts()\n"
   ]
  },
  {
   "cell_type": "code",
   "execution_count": 16,
   "metadata": {},
   "outputs": [],
   "source": [
    "repair=repair[['Registration Number','Vehicle Status (from Registration Number) 2','Model','Incident Date','Vehicle Hub','Driver ID','Damage Type','Driver Penalty','Repair Vendors','Date Sent','Date Received','Downtime (Days)','Invoice Amount','Traditional Insurance Claim- Accident Details','Traditional Insurance Claim Current Insurance Status']]"
   ]
  },
  {
   "cell_type": "code",
   "execution_count": 17,
   "metadata": {},
   "outputs": [
    {
     "name": "stdout",
     "output_type": "stream",
     "text": [
      "<class 'pandas.core.frame.DataFrame'>\n",
      "RangeIndex: 2398 entries, 0 to 2397\n",
      "Data columns (total 15 columns):\n",
      " #   Column                                                Non-Null Count  Dtype  \n",
      "---  ------                                                --------------  -----  \n",
      " 0   Registration Number                                   2397 non-null   object \n",
      " 1   Vehicle Status (from Registration Number) 2           2397 non-null   object \n",
      " 2   Model                                                 2397 non-null   object \n",
      " 3   Incident Date                                         2396 non-null   object \n",
      " 4   Vehicle Hub                                           2397 non-null   object \n",
      " 5   Driver ID                                             2396 non-null   float64\n",
      " 6   Damage Type                                           2398 non-null   object \n",
      " 7   Driver Penalty                                        2368 non-null   object \n",
      " 8   Repair Vendors                                        2191 non-null   object \n",
      " 9   Date Sent                                             2252 non-null   object \n",
      " 10  Date Received                                         2263 non-null   object \n",
      " 11  Downtime (Days)                                       2212 non-null   float64\n",
      " 12  Invoice Amount                                        1726 non-null   object \n",
      " 13  Traditional Insurance Claim- Accident Details         217 non-null    object \n",
      " 14  Traditional Insurance Claim Current Insurance Status  65 non-null     object \n",
      "dtypes: float64(2), object(13)\n",
      "memory usage: 281.1+ KB\n"
     ]
    }
   ],
   "source": [
    "repair.info()"
   ]
  },
  {
   "cell_type": "code",
   "execution_count": 18,
   "metadata": {},
   "outputs": [
    {
     "data": {
      "text/html": [
       "<div>\n",
       "<style scoped>\n",
       "    .dataframe tbody tr th:only-of-type {\n",
       "        vertical-align: middle;\n",
       "    }\n",
       "\n",
       "    .dataframe tbody tr th {\n",
       "        vertical-align: top;\n",
       "    }\n",
       "\n",
       "    .dataframe thead th {\n",
       "        text-align: right;\n",
       "    }\n",
       "</style>\n",
       "<table border=\"1\" class=\"dataframe\">\n",
       "  <thead>\n",
       "    <tr style=\"text-align: right;\">\n",
       "      <th></th>\n",
       "      <th>Driver ID</th>\n",
       "      <th>Downtime (Days)</th>\n",
       "    </tr>\n",
       "  </thead>\n",
       "  <tbody>\n",
       "    <tr>\n",
       "      <th>count</th>\n",
       "      <td>2.396000e+03</td>\n",
       "      <td>2212.000000</td>\n",
       "    </tr>\n",
       "    <tr>\n",
       "      <th>mean</th>\n",
       "      <td>1.319862e+07</td>\n",
       "      <td>2.404611</td>\n",
       "    </tr>\n",
       "    <tr>\n",
       "      <th>std</th>\n",
       "      <td>4.020867e+06</td>\n",
       "      <td>17.297316</td>\n",
       "    </tr>\n",
       "    <tr>\n",
       "      <th>min</th>\n",
       "      <td>1.000000e+00</td>\n",
       "      <td>-31.000000</td>\n",
       "    </tr>\n",
       "    <tr>\n",
       "      <th>25%</th>\n",
       "      <td>1.370870e+07</td>\n",
       "      <td>0.000000</td>\n",
       "    </tr>\n",
       "    <tr>\n",
       "      <th>50%</th>\n",
       "      <td>1.437235e+07</td>\n",
       "      <td>0.000000</td>\n",
       "    </tr>\n",
       "    <tr>\n",
       "      <th>75%</th>\n",
       "      <td>1.488747e+07</td>\n",
       "      <td>0.000000</td>\n",
       "    </tr>\n",
       "    <tr>\n",
       "      <th>max</th>\n",
       "      <td>1.569138e+07</td>\n",
       "      <td>497.000000</td>\n",
       "    </tr>\n",
       "  </tbody>\n",
       "</table>\n",
       "</div>"
      ],
      "text/plain": [
       "          Driver ID  Downtime (Days)\n",
       "count  2.396000e+03      2212.000000\n",
       "mean   1.319862e+07         2.404611\n",
       "std    4.020867e+06        17.297316\n",
       "min    1.000000e+00       -31.000000\n",
       "25%    1.370870e+07         0.000000\n",
       "50%    1.437235e+07         0.000000\n",
       "75%    1.488747e+07         0.000000\n",
       "max    1.569138e+07       497.000000"
      ]
     },
     "execution_count": 18,
     "metadata": {},
     "output_type": "execute_result"
    }
   ],
   "source": [
    "repair.describe()"
   ]
  },
  {
   "cell_type": "code",
   "execution_count": 19,
   "metadata": {},
   "outputs": [
    {
     "data": {
      "text/plain": [
       "Damage Type\n",
       "Side Mirror 1 piece                                    606\n",
       "No-Driver Fault- Miscellaneous Damages                 527\n",
       "Major Accident with spot survey and spot photos        151\n",
       "Tail Light 1 Piece                                     115\n",
       "Major Accident without spot survey and spot photos     110\n",
       "                                                      ... \n",
       "1 Panel 1 Bumper,Dicky Lock Damage                       1\n",
       "Panel 1 Piece,Dicky Lock Damage                          1\n",
       "Panel 2 Piece,Headlight 1 Piece                          1\n",
       "-_______-R                                               1\n",
       "Headlight 1 Piece,Side Mirror 1 piece,Panel 1 Piece      1\n",
       "Name: count, Length: 135, dtype: int64"
      ]
     },
     "execution_count": 19,
     "metadata": {},
     "output_type": "execute_result"
    }
   ],
   "source": [
    "repair['Damage Type'].value_counts()"
   ]
  },
  {
   "cell_type": "code",
   "execution_count": 20,
   "metadata": {},
   "outputs": [],
   "source": [
    "driver_counts = repair['Driver ID'].value_counts()\n",
    "drivers_with_more_than_5 = driver_counts[driver_counts > 5].index"
   ]
  },
  {
   "cell_type": "code",
   "execution_count": 21,
   "metadata": {},
   "outputs": [
    {
     "data": {
      "text/plain": [
       "Index([       9.0,        1.0, 14405440.0, 14415037.0, 14049427.0,        2.0,\n",
       "       14303026.0, 14427441.0, 13330856.0, 14422376.0, 14585540.0, 14666039.0,\n",
       "              4.0, 13708700.0, 13160177.0, 14175045.0, 14472863.0, 14715399.0,\n",
       "       13338596.0, 14754051.0, 14186371.0, 14336506.0, 14093377.0, 14132627.0,\n",
       "       14298202.0, 14306333.0, 14560421.0, 14463764.0, 14818652.0, 14310580.0,\n",
       "       14385954.0, 15417445.0, 14938174.0, 13944301.0, 14913659.0, 14463090.0,\n",
       "       13170606.0, 13700952.0, 13875915.0, 14231712.0, 14211192.0, 15166674.0,\n",
       "       15180096.0, 13336837.0, 14372346.0, 13152077.0,        3.0, 14132282.0,\n",
       "       14206335.0, 15022421.0, 14310627.0, 13418181.0, 15225838.0, 13147675.0,\n",
       "       14904308.0],\n",
       "      dtype='float64', name='Driver ID')"
      ]
     },
     "execution_count": 21,
     "metadata": {},
     "output_type": "execute_result"
    }
   ],
   "source": [
    "drivers_with_more_than_5"
   ]
  },
  {
   "cell_type": "code",
   "execution_count": 22,
   "metadata": {},
   "outputs": [
    {
     "data": {
      "text/plain": [
       "Index(['INTERNAL ID ', 'NDITA HUB- Security', 'Dileep Paswan', 'Honey Maharaj',\n",
       "       'Avijit Ghosh', 'HIDCO HUB- Security', 'Jagannath Dey', 'Rahul Yadav',\n",
       "       'Alok Singh', 'Ansar Hussain', 'Surfil Ali Mondal', 'Abhitesh Singh',\n",
       "       'Sanjay Das', 'Rajendra Kr yadav', 'Vijay Singh', 'Sk Azad ',\n",
       "       'Khiderpore HUB- Security', 'Tapas Das', 'Ashok kr Yadav ',\n",
       "       'Niraj Gupta', 'Md Samim Ansari', 'RAJESH MISHRA', 'Bappa Ghosh',\n",
       "       'Madhumita Mondal', 'Md Amanul Haque ', 'Eman Bhattacharyya',\n",
       "       'Gopal Saha ', 'M Avinash', 'Krishnendu Kundu', 'samim Reja',\n",
       "       'Shamima Shamima Parveen', 'Abhijit Roy ', 'Indrajit Biswas',\n",
       "       'Jhantu Das', 'Subrata Chatterjee', 'Sk Jamaluddin', 'Amit Das',\n",
       "       'Shivam Yadav', 'VISHAL KUMAR SINGH', 'Amit Kumar  ', 'Priyanka Mistry',\n",
       "       'Azhar Ahmed', 'Avijit Das', 'Debasish Tarafdar', 'O2 HUB- Security',\n",
       "       'Pranati Pakrey', 'Afsar Ali', 'Amit Majumder', 'Bijay Kumar Kurmi',\n",
       "       'SAMIR Mondal', 'Gaurav Kumar ', 'Umesh Singh', 'Sanjeev Kumar',\n",
       "       'Punyadeep Basu', 'Shyamali Kayal', 'Md Sajid', 'Somnath Ray'],\n",
       "      dtype='object', name='Driver Name')"
      ]
     },
     "execution_count": 22,
     "metadata": {},
     "output_type": "execute_result"
    }
   ],
   "source": [
    "drivers_name_with_more_than_5"
   ]
  },
  {
   "cell_type": "code",
   "execution_count": 23,
   "metadata": {},
   "outputs": [],
   "source": [
    "car_counts = repair['Registration Number'].value_counts()\n",
    "car_with_more_than_6 = car_counts[car_counts > 6].index"
   ]
  },
  {
   "cell_type": "code",
   "execution_count": 24,
   "metadata": {},
   "outputs": [
    {
     "data": {
      "text/plain": [
       "count    551.000000\n",
       "mean       4.350272\n",
       "std        2.937345\n",
       "min        1.000000\n",
       "25%        2.000000\n",
       "50%        4.000000\n",
       "75%        6.000000\n",
       "max       18.000000\n",
       "Name: count, dtype: float64"
      ]
     },
     "execution_count": 24,
     "metadata": {},
     "output_type": "execute_result"
    }
   ],
   "source": [
    "repair['Registration Number'].value_counts().describe()"
   ]
  },
  {
   "cell_type": "code",
   "execution_count": 25,
   "metadata": {},
   "outputs": [
    {
     "data": {
      "text/plain": [
       "Index(['WB07K1175', 'WB04J0943', 'WB07K0498', 'WB05A0884', 'WB05A0934',\n",
       "       'WB05A0864', 'WB07K0325', 'WB04J0949', 'WB07K1247', 'WB04J0909',\n",
       "       ...\n",
       "       'WB07K0251', 'WB07K1314', 'WB07K0386', 'WB05A0210', 'WB07K1275',\n",
       "       'WB07K1452', 'WB05A0889', 'WB07K0320', 'WB04J2487', 'WB07K0641'],\n",
       "      dtype='object', name='Registration Number', length=106)"
      ]
     },
     "execution_count": 25,
     "metadata": {},
     "output_type": "execute_result"
    }
   ],
   "source": [
    "car_with_more_than_6"
   ]
  },
  {
   "cell_type": "code",
   "execution_count": 26,
   "metadata": {},
   "outputs": [
    {
     "data": {
      "text/plain": [
       "Vehicle Hub\n",
       "O2             299\n",
       "NDITA          292\n",
       "HIDCO          236\n",
       "EVRE            59\n",
       "Axis            48\n",
       "Rishi Tower     21\n",
       "Hyatt            8\n",
       "Name: count, dtype: int64"
      ]
     },
     "execution_count": 26,
     "metadata": {},
     "output_type": "execute_result"
    }
   ],
   "source": [
    "repair[repair['Registration Number'].isin(car_with_more_than_6)]['Vehicle Hub'].value_counts()"
   ]
  },
  {
   "cell_type": "code",
   "execution_count": 27,
   "metadata": {},
   "outputs": [
    {
     "name": "stdout",
     "output_type": "stream",
     "text": [
      "Vehicle Hub\n",
      "Axis            6\n",
      "EVRE            7\n",
      "HIDCO          26\n",
      "Hyatt           1\n",
      "NDITA          32\n",
      "O2             32\n",
      "Rishi Tower     2\n",
      "Name: Registration Number, dtype: int64\n"
     ]
    }
   ],
   "source": [
    "registration_counts = repair['Registration Number'].value_counts()\n",
    "car_with_more_than_6 = registration_counts[registration_counts > 6].index\n",
    "\n",
    "filtered_repair = repair[repair['Registration Number'].isin(car_with_more_than_6)]\n",
    "\n",
    "unique_car_counts_per_hub = filtered_repair.groupby('Vehicle Hub')['Registration Number'].nunique()\n",
    "\n",
    "print(unique_car_counts_per_hub)"
   ]
  },
  {
   "cell_type": "code",
   "execution_count": 28,
   "metadata": {},
   "outputs": [
    {
     "name": "stdout",
     "output_type": "stream",
     "text": [
      "<class 'pandas.core.frame.DataFrame'>\n",
      "RangeIndex: 2398 entries, 0 to 2397\n",
      "Data columns (total 15 columns):\n",
      " #   Column                                                Non-Null Count  Dtype  \n",
      "---  ------                                                --------------  -----  \n",
      " 0   Registration Number                                   2397 non-null   object \n",
      " 1   Vehicle Status (from Registration Number) 2           2397 non-null   object \n",
      " 2   Model                                                 2397 non-null   object \n",
      " 3   Incident Date                                         2396 non-null   object \n",
      " 4   Vehicle Hub                                           2397 non-null   object \n",
      " 5   Driver ID                                             2396 non-null   float64\n",
      " 6   Damage Type                                           2398 non-null   object \n",
      " 7   Driver Penalty                                        2368 non-null   object \n",
      " 8   Repair Vendors                                        2191 non-null   object \n",
      " 9   Date Sent                                             2252 non-null   object \n",
      " 10  Date Received                                         2263 non-null   object \n",
      " 11  Downtime (Days)                                       2212 non-null   float64\n",
      " 12  Invoice Amount                                        1726 non-null   object \n",
      " 13  Traditional Insurance Claim- Accident Details         217 non-null    object \n",
      " 14  Traditional Insurance Claim Current Insurance Status  65 non-null     object \n",
      "dtypes: float64(2), object(13)\n",
      "memory usage: 281.1+ KB\n"
     ]
    }
   ],
   "source": [
    "repair.info()"
   ]
  },
  {
   "cell_type": "code",
   "execution_count": 29,
   "metadata": {},
   "outputs": [
    {
     "data": {
      "text/plain": [
       "count    2212.000000\n",
       "mean        2.404611\n",
       "std        17.297316\n",
       "min       -31.000000\n",
       "25%         0.000000\n",
       "50%         0.000000\n",
       "75%         0.000000\n",
       "max       497.000000\n",
       "Name: Downtime (Days), dtype: float64"
      ]
     },
     "execution_count": 29,
     "metadata": {},
     "output_type": "execute_result"
    }
   ],
   "source": [
    "repair['Downtime (Days)'].describe()"
   ]
  },
  {
   "cell_type": "code",
   "execution_count": 30,
   "metadata": {},
   "outputs": [
    {
     "data": {
      "text/plain": [
       "0    ₹330359.00\n",
       "1           NaN\n",
       "2      ₹3691.00\n",
       "3    ₹217039.00\n",
       "4           NaN\n",
       "Name: Invoice Amount, dtype: object"
      ]
     },
     "execution_count": 30,
     "metadata": {},
     "output_type": "execute_result"
    }
   ],
   "source": [
    "repair['Invoice Amount'].head()"
   ]
  },
  {
   "cell_type": "code",
   "execution_count": 31,
   "metadata": {},
   "outputs": [],
   "source": [
    "repair['Invoice Amount']= repair['Invoice Amount'].replace('NaN', pd.NA).str.replace('₹', '', regex=False)\n"
   ]
  },
  {
   "cell_type": "code",
   "execution_count": 32,
   "metadata": {},
   "outputs": [],
   "source": [
    "repair['Invoice Amount'] = repair['Invoice Amount'].astype(float)\n"
   ]
  },
  {
   "cell_type": "code",
   "execution_count": 33,
   "metadata": {},
   "outputs": [
    {
     "data": {
      "text/plain": [
       "count      1726.000000\n",
       "mean       4406.280070\n",
       "std       18855.567815\n",
       "min          79.000000\n",
       "25%         823.925000\n",
       "50%        1228.700000\n",
       "75%        3760.000000\n",
       "max      403002.000000\n",
       "Name: Invoice Amount, dtype: float64"
      ]
     },
     "execution_count": 33,
     "metadata": {},
     "output_type": "execute_result"
    }
   ],
   "source": [
    "repair['Invoice Amount'].describe()"
   ]
  },
  {
   "cell_type": "code",
   "execution_count": 34,
   "metadata": {},
   "outputs": [
    {
     "data": {
      "text/plain": [
       "count    135.000000\n",
       "mean      17.762963\n",
       "std       71.767162\n",
       "min        1.000000\n",
       "25%        1.000000\n",
       "50%        1.000000\n",
       "75%        4.000000\n",
       "max      606.000000\n",
       "Name: count, dtype: float64"
      ]
     },
     "execution_count": 34,
     "metadata": {},
     "output_type": "execute_result"
    }
   ],
   "source": [
    "damage_cat = repair['Damage Type'].value_counts()\n",
    "damage_cat_more_than_4 = damage_cat[damage_cat > 4].index\n",
    "repair['Damage Type'].value_counts().describe()"
   ]
  },
  {
   "cell_type": "code",
   "execution_count": 35,
   "metadata": {},
   "outputs": [
    {
     "data": {
      "text/plain": [
       "Index(['Side Mirror 1 piece', 'No-Driver Fault- Miscellaneous Damages',\n",
       "       'Major Accident with spot survey and spot photos', 'Tail Light 1 Piece',\n",
       "       'Major Accident without spot survey and spot photos',\n",
       "       'Headlight 1 Piece', 'Panel 1 Piece', '1 Bumper', 'Dicky Lock Damage',\n",
       "       'Panel 2 Piece', 'Driver Fault- Miscellaneous Damages', 'Tyre Damage',\n",
       "       '1 Panel 1 Bumper', 'Refresh look', '1 Headlight with Bumper',\n",
       "       'Horn Not Working ', 'Headlight Blub issue', 'Auxiliary battery ',\n",
       "       'Tail Light 2 Piece', 'Headlight 1 Piece,Panel 1 Piece',\n",
       "       'Front Windshield Damage', 'Number plate Missing ', 'Panel 3 Piece',\n",
       "       'Side Mirror 2 piece', '2 Panel 1 Bumper', 'Suspension Damage',\n",
       "       'Side Mirror 1 piece,Panel 1 Piece', 'Wiper Bled ', '-__- ',\n",
       "       '1 Headlight with Bumper,Panel 1 Piece', 'Window Glass Damage',\n",
       "       '1 Tail Light with Bumper'],\n",
       "      dtype='object', name='Damage Type')"
      ]
     },
     "execution_count": 35,
     "metadata": {},
     "output_type": "execute_result"
    }
   ],
   "source": [
    "damage_cat_more_than_4"
   ]
  },
  {
   "cell_type": "code",
   "execution_count": 36,
   "metadata": {},
   "outputs": [],
   "source": [
    "repair_all=pd.read_csv(\"/Users/aayushjain/codes/projects/company assignements/Snape/Vehicle Repair Dashboard/Repair Records-Grid view (2).csv\")"
   ]
  },
  {
   "cell_type": "code",
   "execution_count": 37,
   "metadata": {},
   "outputs": [
    {
     "data": {
      "text/plain": [
       "Model\n",
       "Xpres-T Ziptron    1580\n",
       "Xpres-T Electra     676\n",
       "eC3                 141\n",
       "Name: count, dtype: int64"
      ]
     },
     "execution_count": 37,
     "metadata": {},
     "output_type": "execute_result"
    }
   ],
   "source": [
    "repair_all['Model'].value_counts()"
   ]
  },
  {
   "cell_type": "code",
   "execution_count": 38,
   "metadata": {},
   "outputs": [
    {
     "ename": "KeyError",
     "evalue": "'Columns not found: False, True'",
     "output_type": "error",
     "traceback": [
      "\u001b[0;31m---------------------------------------------------------------------------\u001b[0m",
      "\u001b[0;31mKeyError\u001b[0m                                  Traceback (most recent call last)",
      "Cell \u001b[0;32mIn[38], line 1\u001b[0m\n\u001b[0;32m----> 1\u001b[0m \u001b[43mrepair_all\u001b[49m\u001b[38;5;241;43m.\u001b[39;49m\u001b[43mgroupby\u001b[49m\u001b[43m(\u001b[49m\u001b[38;5;124;43m\"\u001b[39;49m\u001b[38;5;124;43mRegistration Number\u001b[39;49m\u001b[38;5;124;43m\"\u001b[39;49m\u001b[43m)\u001b[49m\u001b[43m[\u001b[49m\u001b[43mrepair_all\u001b[49m\u001b[43m[\u001b[49m\u001b[38;5;124;43m'\u001b[39;49m\u001b[38;5;124;43mDamage Type\u001b[39;49m\u001b[38;5;124;43m'\u001b[39;49m\u001b[43m]\u001b[49m\u001b[38;5;241;43m==\u001b[39;49m\u001b[38;5;124;43m'\u001b[39;49m\u001b[38;5;124;43mSide Mirror 1 piece\u001b[39;49m\u001b[38;5;124;43m'\u001b[39;49m\u001b[43m]\u001b[49m\n",
      "File \u001b[0;32m~/Library/Python/3.9/lib/python/site-packages/pandas/core/groupby/generic.py:1771\u001b[0m, in \u001b[0;36mDataFrameGroupBy.__getitem__\u001b[0;34m(self, key)\u001b[0m\n\u001b[1;32m   1764\u001b[0m \u001b[38;5;28;01mif\u001b[39;00m \u001b[38;5;28misinstance\u001b[39m(key, \u001b[38;5;28mtuple\u001b[39m) \u001b[38;5;129;01mand\u001b[39;00m \u001b[38;5;28mlen\u001b[39m(key) \u001b[38;5;241m>\u001b[39m \u001b[38;5;241m1\u001b[39m:\n\u001b[1;32m   1765\u001b[0m     \u001b[38;5;66;03m# if len == 1, then it becomes a SeriesGroupBy and this is actually\u001b[39;00m\n\u001b[1;32m   1766\u001b[0m     \u001b[38;5;66;03m# valid syntax, so don't raise\u001b[39;00m\n\u001b[1;32m   1767\u001b[0m     \u001b[38;5;28;01mraise\u001b[39;00m \u001b[38;5;167;01mValueError\u001b[39;00m(\n\u001b[1;32m   1768\u001b[0m         \u001b[38;5;124m\"\u001b[39m\u001b[38;5;124mCannot subset columns with a tuple with more than one element. \u001b[39m\u001b[38;5;124m\"\u001b[39m\n\u001b[1;32m   1769\u001b[0m         \u001b[38;5;124m\"\u001b[39m\u001b[38;5;124mUse a list instead.\u001b[39m\u001b[38;5;124m\"\u001b[39m\n\u001b[1;32m   1770\u001b[0m     )\n\u001b[0;32m-> 1771\u001b[0m \u001b[38;5;28;01mreturn\u001b[39;00m \u001b[38;5;28;43msuper\u001b[39;49m\u001b[43m(\u001b[49m\u001b[43m)\u001b[49m\u001b[38;5;241;43m.\u001b[39;49m\u001b[38;5;21;43m__getitem__\u001b[39;49m\u001b[43m(\u001b[49m\u001b[43mkey\u001b[49m\u001b[43m)\u001b[49m\n",
      "File \u001b[0;32m~/Library/Python/3.9/lib/python/site-packages/pandas/core/base.py:239\u001b[0m, in \u001b[0;36mSelectionMixin.__getitem__\u001b[0;34m(self, key)\u001b[0m\n\u001b[1;32m    237\u001b[0m     \u001b[38;5;28;01mif\u001b[39;00m \u001b[38;5;28mlen\u001b[39m(\u001b[38;5;28mself\u001b[39m\u001b[38;5;241m.\u001b[39mobj\u001b[38;5;241m.\u001b[39mcolumns\u001b[38;5;241m.\u001b[39mintersection(key)) \u001b[38;5;241m!=\u001b[39m \u001b[38;5;28mlen\u001b[39m(\u001b[38;5;28mset\u001b[39m(key)):\n\u001b[1;32m    238\u001b[0m         bad_keys \u001b[38;5;241m=\u001b[39m \u001b[38;5;28mlist\u001b[39m(\u001b[38;5;28mset\u001b[39m(key)\u001b[38;5;241m.\u001b[39mdifference(\u001b[38;5;28mself\u001b[39m\u001b[38;5;241m.\u001b[39mobj\u001b[38;5;241m.\u001b[39mcolumns))\n\u001b[0;32m--> 239\u001b[0m         \u001b[38;5;28;01mraise\u001b[39;00m \u001b[38;5;167;01mKeyError\u001b[39;00m(\u001b[38;5;124mf\u001b[39m\u001b[38;5;124m\"\u001b[39m\u001b[38;5;124mColumns not found: \u001b[39m\u001b[38;5;132;01m{\u001b[39;00m\u001b[38;5;28mstr\u001b[39m(bad_keys)[\u001b[38;5;241m1\u001b[39m:\u001b[38;5;241m-\u001b[39m\u001b[38;5;241m1\u001b[39m]\u001b[38;5;132;01m}\u001b[39;00m\u001b[38;5;124m\"\u001b[39m)\n\u001b[1;32m    240\u001b[0m     \u001b[38;5;28;01mreturn\u001b[39;00m \u001b[38;5;28mself\u001b[39m\u001b[38;5;241m.\u001b[39m_gotitem(\u001b[38;5;28mlist\u001b[39m(key), ndim\u001b[38;5;241m=\u001b[39m\u001b[38;5;241m2\u001b[39m)\n\u001b[1;32m    242\u001b[0m \u001b[38;5;28;01melse\u001b[39;00m:\n",
      "\u001b[0;31mKeyError\u001b[0m: 'Columns not found: False, True'"
     ]
    }
   ],
   "source": [
    "repair_all.groupby(\"Registration Number\")[repair_all['Damage Type']=='Side Mirror 1 piece']"
   ]
  },
  {
   "cell_type": "code",
   "execution_count": 39,
   "metadata": {},
   "outputs": [],
   "source": [
    "\n",
    "filtered_data = repair_all[repair_all['Damage Type'] == 'Side Mirror 1 piece']\n",
    "\n",
    "count_per_registration = filtered_data.groupby('Registration Number').size().reset_index(name='count')\n",
    "\n",
    "count_per_registration = count_per_registration.sort_values(by='count', ascending=False)\n"
   ]
  },
  {
   "cell_type": "code",
   "execution_count": 40,
   "metadata": {},
   "outputs": [
    {
     "data": {
      "text/html": [
       "<div>\n",
       "<style scoped>\n",
       "    .dataframe tbody tr th:only-of-type {\n",
       "        vertical-align: middle;\n",
       "    }\n",
       "\n",
       "    .dataframe tbody tr th {\n",
       "        vertical-align: top;\n",
       "    }\n",
       "\n",
       "    .dataframe thead th {\n",
       "        text-align: right;\n",
       "    }\n",
       "</style>\n",
       "<table border=\"1\" class=\"dataframe\">\n",
       "  <thead>\n",
       "    <tr style=\"text-align: right;\">\n",
       "      <th></th>\n",
       "      <th>Registration Number</th>\n",
       "      <th>count</th>\n",
       "    </tr>\n",
       "  </thead>\n",
       "  <tbody>\n",
       "    <tr>\n",
       "      <th>116</th>\n",
       "      <td>WB05A0869</td>\n",
       "      <td>6</td>\n",
       "    </tr>\n",
       "    <tr>\n",
       "      <th>18</th>\n",
       "      <td>WB04J2178</td>\n",
       "      <td>6</td>\n",
       "    </tr>\n",
       "    <tr>\n",
       "      <th>303</th>\n",
       "      <td>WB07K1314</td>\n",
       "      <td>5</td>\n",
       "    </tr>\n",
       "    <tr>\n",
       "      <th>49</th>\n",
       "      <td>WB04J2487</td>\n",
       "      <td>5</td>\n",
       "    </tr>\n",
       "    <tr>\n",
       "      <th>294</th>\n",
       "      <td>WB07K1247</td>\n",
       "      <td>5</td>\n",
       "    </tr>\n",
       "    <tr>\n",
       "      <th>300</th>\n",
       "      <td>WB07K1275</td>\n",
       "      <td>5</td>\n",
       "    </tr>\n",
       "    <tr>\n",
       "      <th>186</th>\n",
       "      <td>WB07K0325</td>\n",
       "      <td>5</td>\n",
       "    </tr>\n",
       "    <tr>\n",
       "      <th>8</th>\n",
       "      <td>WB04J0949</td>\n",
       "      <td>5</td>\n",
       "    </tr>\n",
       "    <tr>\n",
       "      <th>187</th>\n",
       "      <td>WB07K0326</td>\n",
       "      <td>5</td>\n",
       "    </tr>\n",
       "    <tr>\n",
       "      <th>124</th>\n",
       "      <td>WB05A0889</td>\n",
       "      <td>5</td>\n",
       "    </tr>\n",
       "    <tr>\n",
       "      <th>143</th>\n",
       "      <td>WB05A0948</td>\n",
       "      <td>5</td>\n",
       "    </tr>\n",
       "    <tr>\n",
       "      <th>245</th>\n",
       "      <td>WB07K0649</td>\n",
       "      <td>4</td>\n",
       "    </tr>\n",
       "    <tr>\n",
       "      <th>199</th>\n",
       "      <td>WB07K0433</td>\n",
       "      <td>4</td>\n",
       "    </tr>\n",
       "    <tr>\n",
       "      <th>31</th>\n",
       "      <td>WB04J2284</td>\n",
       "      <td>4</td>\n",
       "    </tr>\n",
       "    <tr>\n",
       "      <th>75</th>\n",
       "      <td>WB05A0157</td>\n",
       "      <td>4</td>\n",
       "    </tr>\n",
       "    <tr>\n",
       "      <th>171</th>\n",
       "      <td>WB07K0262</td>\n",
       "      <td>4</td>\n",
       "    </tr>\n",
       "    <tr>\n",
       "      <th>242</th>\n",
       "      <td>WB07K0637</td>\n",
       "      <td>4</td>\n",
       "    </tr>\n",
       "    <tr>\n",
       "      <th>287</th>\n",
       "      <td>WB07K1228</td>\n",
       "      <td>4</td>\n",
       "    </tr>\n",
       "    <tr>\n",
       "      <th>1</th>\n",
       "      <td>WB04J0909</td>\n",
       "      <td>4</td>\n",
       "    </tr>\n",
       "    <tr>\n",
       "      <th>280</th>\n",
       "      <td>WB07K1204</td>\n",
       "      <td>4</td>\n",
       "    </tr>\n",
       "  </tbody>\n",
       "</table>\n",
       "</div>"
      ],
      "text/plain": [
       "    Registration Number  count\n",
       "116           WB05A0869      6\n",
       "18            WB04J2178      6\n",
       "303           WB07K1314      5\n",
       "49            WB04J2487      5\n",
       "294           WB07K1247      5\n",
       "300           WB07K1275      5\n",
       "186           WB07K0325      5\n",
       "8             WB04J0949      5\n",
       "187           WB07K0326      5\n",
       "124           WB05A0889      5\n",
       "143           WB05A0948      5\n",
       "245           WB07K0649      4\n",
       "199           WB07K0433      4\n",
       "31            WB04J2284      4\n",
       "75            WB05A0157      4\n",
       "171           WB07K0262      4\n",
       "242           WB07K0637      4\n",
       "287           WB07K1228      4\n",
       "1             WB04J0909      4\n",
       "280           WB07K1204      4"
      ]
     },
     "execution_count": 40,
     "metadata": {},
     "output_type": "execute_result"
    }
   ],
   "source": [
    "count_per_registration.head(20)"
   ]
  },
  {
   "cell_type": "markdown",
   "metadata": {},
   "source": [
    "per driver - amount spent up till now. Number of major accidents, no of minor accidents and downtime dure to driver"
   ]
  },
  {
   "cell_type": "code",
   "execution_count": 41,
   "metadata": {},
   "outputs": [
    {
     "name": "stdout",
     "output_type": "stream",
     "text": [
      "<class 'pandas.core.frame.DataFrame'>\n",
      "RangeIndex: 2398 entries, 0 to 2397\n",
      "Data columns (total 55 columns):\n",
      " #   Column                                                    Non-Null Count  Dtype  \n",
      "---  ------                                                    --------------  -----  \n",
      " 0   SL No.                                                    2398 non-null   int64  \n",
      " 1   Registration Number                                       2397 non-null   object \n",
      " 2   Vehicle Status (from Registration Number) 2               2397 non-null   object \n",
      " 3   Model                                                     2397 non-null   object \n",
      " 4   Incident Date                                             2396 non-null   object \n",
      " 5   Driver Deduction Completed by Labanya                     1601 non-null   object \n",
      " 6   Vehicle Hub                                               2397 non-null   object \n",
      " 7   Driver ID                                                 2396 non-null   float64\n",
      " 8   Driver Name                                               2385 non-null   object \n",
      " 9   Driver Type                                               2032 non-null   object \n",
      " 10  Driver Hub                                                0 non-null      float64\n",
      " 11  Damage Type                                               2398 non-null   object \n",
      " 12  Driver Penalty                                            2368 non-null   object \n",
      " 13  Vehicle Photo                                             2185 non-null   object \n",
      " 14  Recovery from Third Party                                 0 non-null      float64\n",
      " 15  Repair Vendors                                            2191 non-null   object \n",
      " 16  Date Sent                                                 2252 non-null   object \n",
      " 17  Date Received                                             2263 non-null   object \n",
      " 18  Received Month/Year                                       2398 non-null   object \n",
      " 19  Downtime (Days)                                           2212 non-null   float64\n",
      " 20  Approval Status                                           2398 non-null   object \n",
      " 21  Invoice Number                                            1726 non-null   object \n",
      " 22  Invoice Amount                                            1726 non-null   object \n",
      " 23  Invoice                                                   1727 non-null   object \n",
      " 24  Invoice Payment Status                                    2316 non-null   object \n",
      " 25  Insurance DO Amount                                       23 non-null     object \n",
      " 26  Traditional Insurance Claim                               1904 non-null   object \n",
      " 27  Traditional Insurance Claim- Accident Details             217 non-null    object \n",
      " 28  Traditional Insurance Claim Current Insurance Status      65 non-null     object \n",
      " 29  Insurance Partner (from Registration Number)              2397 non-null   object \n",
      " 30  Insurance Policy Number (from Registration Number)        2397 non-null   object \n",
      " 31  Spot Insurance Claim                                      87 non-null     object \n",
      " 32  Spot Insurance Claim Amount Settled                       14 non-null     object \n",
      " 33  Spot Insurance Claim Amount Settled Attachment            13 non-null     object \n",
      " 34  Our Cost                                                  2398 non-null   int64  \n",
      " 35  Created By                                                2398 non-null   object \n",
      " 36  Created                                                   2398 non-null   object \n",
      " 37  Last Modified By                                          2398 non-null   object \n",
      " 38  Created Date                                              2396 non-null   float64\n",
      " 39  Last Modified                                             2398 non-null   object \n",
      " 40  Hub Manager Emails (from Hub) (from Registration Number)  2385 non-null   object \n",
      " 41  Rejection Reason                                          29 non-null     object \n",
      " 42  Sent Month/Year                                           2398 non-null   object \n",
      " 43  Remarks                                                   5 non-null      object \n",
      " 44  Vehicle Status (from Registration Number)                 2397 non-null   object \n",
      " 45  Maintenance Remarks                                       435 non-null    object \n",
      " 46  Vehicle Status (from Registration Number) 3               2397 non-null   object \n",
      " 47  Field 44                                                  53 non-null     object \n",
      " 48  Miscellaneous Damages Remarks                             281 non-null    object \n",
      " 49  Driver Penalty rollup                                     2398 non-null   object \n",
      " 50  Repair KM Reading                                         685 non-null    float64\n",
      " 51  Email Subject Line                                        38 non-null     object \n",
      " 52  Vehicle Status (from Registration Number) 4               2397 non-null   object \n",
      " 53  Deduction Completed                                       127 non-null    float64\n",
      " 54  Deduction Pending                                         2398 non-null   int64  \n",
      "dtypes: float64(7), int64(3), object(45)\n",
      "memory usage: 1.0+ MB\n"
     ]
    }
   ],
   "source": [
    "repair_all.info()"
   ]
  },
  {
   "cell_type": "markdown",
   "metadata": {},
   "source": [
    "avg span.- groupby driver id, and diff between dates."
   ]
  },
  {
   "cell_type": "code",
   "execution_count": 42,
   "metadata": {},
   "outputs": [],
   "source": [
    "repair_req=repair_all[['Driver ID','Invoice Amount','Downtime (Days)','Damage Type','Repair Vendors','Our Cost','Incident Date']]"
   ]
  },
  {
   "cell_type": "code",
   "execution_count": 43,
   "metadata": {},
   "outputs": [
    {
     "data": {
      "text/plain": [
       "Damage Type\n",
       "Side Mirror 1 piece                                    606\n",
       "No-Driver Fault- Miscellaneous Damages                 527\n",
       "Major Accident with spot survey and spot photos        151\n",
       "Tail Light 1 Piece                                     115\n",
       "Major Accident without spot survey and spot photos     110\n",
       "                                                      ... \n",
       "1 Panel 1 Bumper,Dicky Lock Damage                       1\n",
       "Panel 1 Piece,Dicky Lock Damage                          1\n",
       "Panel 2 Piece,Headlight 1 Piece                          1\n",
       "-_______-R                                               1\n",
       "Headlight 1 Piece,Side Mirror 1 piece,Panel 1 Piece      1\n",
       "Name: count, Length: 135, dtype: int64"
      ]
     },
     "execution_count": 43,
     "metadata": {},
     "output_type": "execute_result"
    }
   ],
   "source": [
    "repair_req['Damage Type'].value_counts()"
   ]
  },
  {
   "cell_type": "code",
   "execution_count": 44,
   "metadata": {},
   "outputs": [],
   "source": [
    "# Get the value counts\n",
    "damage_type_counts = repair_req['Damage Type'].value_counts()\n",
    "\n",
    "# Define the file path\n",
    "file_path = \"damage_type_counts.txt\"\n",
    "\n",
    "# Save the value counts to a text file\n",
    "with open(file_path, 'w') as file:\n",
    "    file.write(damage_type_counts.to_string())\n"
   ]
  },
  {
   "cell_type": "code",
   "execution_count": 45,
   "metadata": {},
   "outputs": [
    {
     "name": "stderr",
     "output_type": "stream",
     "text": [
      "/var/folders/q_/dn720rf91691y39h0s_hr_280000gn/T/ipykernel_47908/2961373458.py:8: SettingWithCopyWarning: \n",
      "A value is trying to be set on a copy of a slice from a DataFrame.\n",
      "Try using .loc[row_indexer,col_indexer] = value instead\n",
      "\n",
      "See the caveats in the documentation: https://pandas.pydata.org/pandas-docs/stable/user_guide/indexing.html#returning-a-view-versus-a-copy\n",
      "  repair_req['Classification'] = repair_req['Damage Type'].apply(classify_damage_type)\n"
     ]
    }
   ],
   "source": [
    "def classify_damage_type(damage_type):\n",
    "    if 'major' in damage_type.lower():\n",
    "        return 'Major'\n",
    "    else:\n",
    "        return 'Minor'\n",
    "\n",
    "# Apply the function to create a new column 'Classification'\n",
    "repair_req['Classification'] = repair_req['Damage Type'].apply(classify_damage_type)\n"
   ]
  },
  {
   "cell_type": "code",
   "execution_count": 46,
   "metadata": {},
   "outputs": [
    {
     "data": {
      "text/plain": [
       "Classification\n",
       "Minor    2131\n",
       "Major     267\n",
       "Name: count, dtype: int64"
      ]
     },
     "execution_count": 46,
     "metadata": {},
     "output_type": "execute_result"
    }
   ],
   "source": [
    "repair_req['Classification'].value_counts()"
   ]
  },
  {
   "cell_type": "code",
   "execution_count": 47,
   "metadata": {},
   "outputs": [
    {
     "name": "stdout",
     "output_type": "stream",
     "text": [
      "<class 'pandas.core.frame.DataFrame'>\n",
      "RangeIndex: 2398 entries, 0 to 2397\n",
      "Data columns (total 8 columns):\n",
      " #   Column           Non-Null Count  Dtype  \n",
      "---  ------           --------------  -----  \n",
      " 0   Driver ID        2396 non-null   float64\n",
      " 1   Invoice Amount   1726 non-null   object \n",
      " 2   Downtime (Days)  2212 non-null   float64\n",
      " 3   Damage Type      2398 non-null   object \n",
      " 4   Repair Vendors   2191 non-null   object \n",
      " 5   Our Cost         2398 non-null   int64  \n",
      " 6   Incident Date    2396 non-null   object \n",
      " 7   Classification   2398 non-null   object \n",
      "dtypes: float64(2), int64(1), object(5)\n",
      "memory usage: 150.0+ KB\n"
     ]
    }
   ],
   "source": [
    "repair_req.info()"
   ]
  },
  {
   "cell_type": "code",
   "execution_count": 48,
   "metadata": {},
   "outputs": [
    {
     "data": {
      "text/plain": [
       "count    2212.000000\n",
       "mean        2.404611\n",
       "std        17.297316\n",
       "min       -31.000000\n",
       "25%         0.000000\n",
       "50%         0.000000\n",
       "75%         0.000000\n",
       "max       497.000000\n",
       "Name: Downtime (Days), dtype: float64"
      ]
     },
     "execution_count": 48,
     "metadata": {},
     "output_type": "execute_result"
    }
   ],
   "source": [
    "repair_req['Downtime (Days)'].describe()"
   ]
  },
  {
   "cell_type": "code",
   "execution_count": 49,
   "metadata": {},
   "outputs": [
    {
     "name": "stdout",
     "output_type": "stream",
     "text": [
      "DataFrame successfully saved to Excel file: repair_data.xlsx\n"
     ]
    }
   ],
   "source": [
    "file_path = 'repair_data.xlsx'\n",
    "\n",
    "# Write the DataFrame to an Excel file\n",
    "repair_req.to_excel(file_path, index=True)\n",
    "\n",
    "print(\"DataFrame successfully saved to Excel file:\", file_path)"
   ]
  },
  {
   "cell_type": "code",
   "execution_count": 50,
   "metadata": {},
   "outputs": [
    {
     "name": "stdout",
     "output_type": "stream",
     "text": [
      "                                         Total Invoice Amount  \\\n",
      "Driver ID                                                       \n",
      "1.0         ₹7540.70₹1228.70₹1228.70₹2014.00₹240.00₹1228.7...   \n",
      "2.0         ₹6313.40₹1228.70₹4140.70₹2140.70₹4140.70₹2640....   \n",
      "3.0                   ₹1000.00₹123049.00₹190.00₹878.40₹650.00   \n",
      "4.0         ₹1228.70₹1228.70₹1228.70₹1228.70₹15152.80₹1200...   \n",
      "9.0         ₹1228.70₹3828.70₹2600.00₹6740.70₹177.00₹176.70...   \n",
      "...                                                       ...   \n",
      "15593448.0                                           ₹3000.00   \n",
      "15607479.0                                                  0   \n",
      "15614944.0                                                  0   \n",
      "15621989.0                                                  0   \n",
      "15691382.0                                                  0   \n",
      "\n",
      "            Total Downtime (Days)  Count of Major Damage Types  \\\n",
      "Driver ID                                                        \n",
      "1.0                         147.0                            1   \n",
      "2.0                         181.0                            2   \n",
      "3.0                          76.0                            1   \n",
      "4.0                          97.0                            3   \n",
      "9.0                          89.0                            3   \n",
      "...                           ...                          ...   \n",
      "15593448.0                    0.0                            1   \n",
      "15607479.0                    0.0                            0   \n",
      "15614944.0                    0.0                            0   \n",
      "15621989.0                    0.0                            0   \n",
      "15691382.0                    0.0                            0   \n",
      "\n",
      "            Total Our Cost First Incident Date Last Incident Date  \\\n",
      "Driver ID                                                           \n",
      "1.0                  82883            3/8/2023          30/1/2024   \n",
      "2.0                  32925           15/3/2023          22/3/2024   \n",
      "3.0                 119567            2/8/2023          17/3/2024   \n",
      "4.0                  27148           27/7/2023          22/3/2024   \n",
      "9.0                 272792           26/7/2023           4/5/2024   \n",
      "...                    ...                 ...                ...   \n",
      "15593448.0           -2000           30/4/2024          30/4/2024   \n",
      "15607479.0            -500           10/5/2024          10/5/2024   \n",
      "15614944.0            -500           21/5/2024          21/5/2024   \n",
      "15621989.0               0           10/5/2024          10/5/2024   \n",
      "15691382.0            -700           17/5/2024          17/5/2024   \n",
      "\n",
      "            Number of Incidents  \n",
      "Driver ID                        \n",
      "1.0                          57  \n",
      "2.0                          34  \n",
      "3.0                           6  \n",
      "4.0                          10  \n",
      "9.0                          90  \n",
      "...                         ...  \n",
      "15593448.0                    2  \n",
      "15607479.0                    1  \n",
      "15614944.0                    1  \n",
      "15621989.0                    1  \n",
      "15691382.0                    1  \n",
      "\n",
      "[979 rows x 7 columns]\n"
     ]
    }
   ],
   "source": [
    "import numpy as np\n",
    "\n",
    "# Grouping the data by 'Driver ID'\n",
    "grouped = repair_req.groupby('Driver ID')\n",
    "\n",
    "# Define custom aggregation functions\n",
    "agg_functions = {\n",
    "    'Invoice Amount': 'sum',\n",
    "    'Downtime (Days)': 'sum',\n",
    "    'Damage Type': lambda x: (x.str.lower().str.contains('major')).sum(),\n",
    "    'Our Cost': 'sum',\n",
    "    'Incident Date': ['first', 'last', 'count']\n",
    "}\n",
    "\n",
    "# Apply the aggregation functions to the grouped data\n",
    "result = grouped.agg(agg_functions)\n",
    "\n",
    "# Rename the columns for better readability\n",
    "result.columns = ['Total Invoice Amount', \n",
    "                  'Total Downtime (Days)', \n",
    "                  'Count of Major Damage Types', \n",
    "                  'Total Our Cost', \n",
    "                  'First Incident Date', \n",
    "                  'Last Incident Date', \n",
    "                  'Number of Incidents']\n",
    "\n",
    "# Calculate average span between two accidents\n",
    "\n",
    "# Display the result\n",
    "print(result)\n"
   ]
  },
  {
   "cell_type": "code",
   "execution_count": 51,
   "metadata": {},
   "outputs": [
    {
     "name": "stdout",
     "output_type": "stream",
     "text": [
      "DataFrame successfully saved to Excel file: result.xlsx\n"
     ]
    }
   ],
   "source": [
    "# Specify the file path where you want to save the Excel file\n",
    "file_path = 'result.xlsx'\n",
    "\n",
    "# Write the DataFrame to an Excel file\n",
    "result.to_excel(file_path, index=True)\n",
    "\n",
    "print(\"DataFrame successfully saved to Excel file:\", file_path)\n"
   ]
  },
  {
   "cell_type": "code",
   "execution_count": 52,
   "metadata": {},
   "outputs": [
    {
     "ename": "TypeError",
     "evalue": "unsupported operand type(s) for -: 'str' and 'str'",
     "output_type": "error",
     "traceback": [
      "\u001b[0;31m---------------------------------------------------------------------------\u001b[0m",
      "\u001b[0;31mTypeError\u001b[0m                                 Traceback (most recent call last)",
      "File \u001b[0;32m~/Library/Python/3.9/lib/python/site-packages/pandas/core/ops/array_ops.py:171\u001b[0m, in \u001b[0;36m_na_arithmetic_op\u001b[0;34m(left, right, op, is_cmp)\u001b[0m\n\u001b[1;32m    170\u001b[0m \u001b[38;5;28;01mtry\u001b[39;00m:\n\u001b[0;32m--> 171\u001b[0m     result \u001b[38;5;241m=\u001b[39m \u001b[43mfunc\u001b[49m\u001b[43m(\u001b[49m\u001b[43mleft\u001b[49m\u001b[43m,\u001b[49m\u001b[43m \u001b[49m\u001b[43mright\u001b[49m\u001b[43m)\u001b[49m\n\u001b[1;32m    172\u001b[0m \u001b[38;5;28;01mexcept\u001b[39;00m \u001b[38;5;167;01mTypeError\u001b[39;00m:\n",
      "File \u001b[0;32m~/Library/Python/3.9/lib/python/site-packages/pandas/core/computation/expressions.py:239\u001b[0m, in \u001b[0;36mevaluate\u001b[0;34m(op, a, b, use_numexpr)\u001b[0m\n\u001b[1;32m    237\u001b[0m     \u001b[38;5;28;01mif\u001b[39;00m use_numexpr:\n\u001b[1;32m    238\u001b[0m         \u001b[38;5;66;03m# error: \"None\" not callable\u001b[39;00m\n\u001b[0;32m--> 239\u001b[0m         \u001b[38;5;28;01mreturn\u001b[39;00m \u001b[43m_evaluate\u001b[49m\u001b[43m(\u001b[49m\u001b[43mop\u001b[49m\u001b[43m,\u001b[49m\u001b[43m \u001b[49m\u001b[43mop_str\u001b[49m\u001b[43m,\u001b[49m\u001b[43m \u001b[49m\u001b[43ma\u001b[49m\u001b[43m,\u001b[49m\u001b[43m \u001b[49m\u001b[43mb\u001b[49m\u001b[43m)\u001b[49m  \u001b[38;5;66;03m# type: ignore[misc]\u001b[39;00m\n\u001b[1;32m    240\u001b[0m \u001b[38;5;28;01mreturn\u001b[39;00m _evaluate_standard(op, op_str, a, b)\n",
      "File \u001b[0;32m~/Library/Python/3.9/lib/python/site-packages/pandas/core/computation/expressions.py:70\u001b[0m, in \u001b[0;36m_evaluate_standard\u001b[0;34m(op, op_str, a, b)\u001b[0m\n\u001b[1;32m     69\u001b[0m     _store_test_result(\u001b[38;5;28;01mFalse\u001b[39;00m)\n\u001b[0;32m---> 70\u001b[0m \u001b[38;5;28;01mreturn\u001b[39;00m \u001b[43mop\u001b[49m\u001b[43m(\u001b[49m\u001b[43ma\u001b[49m\u001b[43m,\u001b[49m\u001b[43m \u001b[49m\u001b[43mb\u001b[49m\u001b[43m)\u001b[49m\n",
      "\u001b[0;31mTypeError\u001b[0m: unsupported operand type(s) for -: 'str' and 'str'",
      "\nDuring handling of the above exception, another exception occurred:\n",
      "\u001b[0;31mTypeError\u001b[0m                                 Traceback (most recent call last)",
      "Cell \u001b[0;32mIn[52], line 1\u001b[0m\n\u001b[0;32m----> 1\u001b[0m result[\u001b[38;5;124m'\u001b[39m\u001b[38;5;124mAverage Span Between Accidents\u001b[39m\u001b[38;5;124m'\u001b[39m] \u001b[38;5;241m=\u001b[39m (\u001b[43mresult\u001b[49m\u001b[43m[\u001b[49m\u001b[38;5;124;43m'\u001b[39;49m\u001b[38;5;124;43mLast Incident Date\u001b[39;49m\u001b[38;5;124;43m'\u001b[39;49m\u001b[43m]\u001b[49m\u001b[43m \u001b[49m\u001b[38;5;241;43m-\u001b[39;49m\u001b[43m \u001b[49m\u001b[43mresult\u001b[49m\u001b[43m[\u001b[49m\u001b[38;5;124;43m'\u001b[39;49m\u001b[38;5;124;43mFirst Incident Date\u001b[39;49m\u001b[38;5;124;43m'\u001b[39;49m\u001b[43m]\u001b[49m)\u001b[38;5;241m.\u001b[39mdt\u001b[38;5;241m.\u001b[39mdays \u001b[38;5;241m/\u001b[39m (result[\u001b[38;5;124m'\u001b[39m\u001b[38;5;124mNumber of Incidents\u001b[39m\u001b[38;5;124m'\u001b[39m] \u001b[38;5;241m-\u001b[39m \u001b[38;5;241m1\u001b[39m)\n\u001b[1;32m      3\u001b[0m \u001b[38;5;66;03m# Drop the 'Last Incident Date' column as it's no longer needed\u001b[39;00m\n\u001b[1;32m      4\u001b[0m result\u001b[38;5;241m.\u001b[39mdrop(\u001b[38;5;124m'\u001b[39m\u001b[38;5;124mLast Incident Date\u001b[39m\u001b[38;5;124m'\u001b[39m, axis\u001b[38;5;241m=\u001b[39m\u001b[38;5;241m1\u001b[39m, inplace\u001b[38;5;241m=\u001b[39m\u001b[38;5;28;01mTrue\u001b[39;00m)\n",
      "File \u001b[0;32m~/Library/Python/3.9/lib/python/site-packages/pandas/core/ops/common.py:81\u001b[0m, in \u001b[0;36m_unpack_zerodim_and_defer.<locals>.new_method\u001b[0;34m(self, other)\u001b[0m\n\u001b[1;32m     77\u001b[0m             \u001b[38;5;28;01mreturn\u001b[39;00m \u001b[38;5;28mNotImplemented\u001b[39m\n\u001b[1;32m     79\u001b[0m other \u001b[38;5;241m=\u001b[39m item_from_zerodim(other)\n\u001b[0;32m---> 81\u001b[0m \u001b[38;5;28;01mreturn\u001b[39;00m \u001b[43mmethod\u001b[49m\u001b[43m(\u001b[49m\u001b[38;5;28;43mself\u001b[39;49m\u001b[43m,\u001b[49m\u001b[43m \u001b[49m\u001b[43mother\u001b[49m\u001b[43m)\u001b[49m\n",
      "File \u001b[0;32m~/Library/Python/3.9/lib/python/site-packages/pandas/core/arraylike.py:194\u001b[0m, in \u001b[0;36mOpsMixin.__sub__\u001b[0;34m(self, other)\u001b[0m\n\u001b[1;32m    192\u001b[0m \u001b[38;5;129m@unpack_zerodim_and_defer\u001b[39m(\u001b[38;5;124m\"\u001b[39m\u001b[38;5;124m__sub__\u001b[39m\u001b[38;5;124m\"\u001b[39m)\n\u001b[1;32m    193\u001b[0m \u001b[38;5;28;01mdef\u001b[39;00m \u001b[38;5;21m__sub__\u001b[39m(\u001b[38;5;28mself\u001b[39m, other):\n\u001b[0;32m--> 194\u001b[0m     \u001b[38;5;28;01mreturn\u001b[39;00m \u001b[38;5;28;43mself\u001b[39;49m\u001b[38;5;241;43m.\u001b[39;49m\u001b[43m_arith_method\u001b[49m\u001b[43m(\u001b[49m\u001b[43mother\u001b[49m\u001b[43m,\u001b[49m\u001b[43m \u001b[49m\u001b[43moperator\u001b[49m\u001b[38;5;241;43m.\u001b[39;49m\u001b[43msub\u001b[49m\u001b[43m)\u001b[49m\n",
      "File \u001b[0;32m~/Library/Python/3.9/lib/python/site-packages/pandas/core/series.py:6112\u001b[0m, in \u001b[0;36mSeries._arith_method\u001b[0;34m(self, other, op)\u001b[0m\n\u001b[1;32m   6110\u001b[0m \u001b[38;5;28;01mdef\u001b[39;00m \u001b[38;5;21m_arith_method\u001b[39m(\u001b[38;5;28mself\u001b[39m, other, op):\n\u001b[1;32m   6111\u001b[0m     \u001b[38;5;28mself\u001b[39m, other \u001b[38;5;241m=\u001b[39m ops\u001b[38;5;241m.\u001b[39malign_method_SERIES(\u001b[38;5;28mself\u001b[39m, other)\n\u001b[0;32m-> 6112\u001b[0m     \u001b[38;5;28;01mreturn\u001b[39;00m \u001b[43mbase\u001b[49m\u001b[38;5;241;43m.\u001b[39;49m\u001b[43mIndexOpsMixin\u001b[49m\u001b[38;5;241;43m.\u001b[39;49m\u001b[43m_arith_method\u001b[49m\u001b[43m(\u001b[49m\u001b[38;5;28;43mself\u001b[39;49m\u001b[43m,\u001b[49m\u001b[43m \u001b[49m\u001b[43mother\u001b[49m\u001b[43m,\u001b[49m\u001b[43m \u001b[49m\u001b[43mop\u001b[49m\u001b[43m)\u001b[49m\n",
      "File \u001b[0;32m~/Library/Python/3.9/lib/python/site-packages/pandas/core/base.py:1348\u001b[0m, in \u001b[0;36mIndexOpsMixin._arith_method\u001b[0;34m(self, other, op)\u001b[0m\n\u001b[1;32m   1345\u001b[0m rvalues \u001b[38;5;241m=\u001b[39m ensure_wrapped_if_datetimelike(rvalues)\n\u001b[1;32m   1347\u001b[0m \u001b[38;5;28;01mwith\u001b[39;00m np\u001b[38;5;241m.\u001b[39merrstate(\u001b[38;5;28mall\u001b[39m\u001b[38;5;241m=\u001b[39m\u001b[38;5;124m\"\u001b[39m\u001b[38;5;124mignore\u001b[39m\u001b[38;5;124m\"\u001b[39m):\n\u001b[0;32m-> 1348\u001b[0m     result \u001b[38;5;241m=\u001b[39m \u001b[43mops\u001b[49m\u001b[38;5;241;43m.\u001b[39;49m\u001b[43marithmetic_op\u001b[49m\u001b[43m(\u001b[49m\u001b[43mlvalues\u001b[49m\u001b[43m,\u001b[49m\u001b[43m \u001b[49m\u001b[43mrvalues\u001b[49m\u001b[43m,\u001b[49m\u001b[43m \u001b[49m\u001b[43mop\u001b[49m\u001b[43m)\u001b[49m\n\u001b[1;32m   1350\u001b[0m \u001b[38;5;28;01mreturn\u001b[39;00m \u001b[38;5;28mself\u001b[39m\u001b[38;5;241m.\u001b[39m_construct_result(result, name\u001b[38;5;241m=\u001b[39mres_name)\n",
      "File \u001b[0;32m~/Library/Python/3.9/lib/python/site-packages/pandas/core/ops/array_ops.py:232\u001b[0m, in \u001b[0;36marithmetic_op\u001b[0;34m(left, right, op)\u001b[0m\n\u001b[1;32m    228\u001b[0m     _bool_arith_check(op, left, right)\n\u001b[1;32m    230\u001b[0m     \u001b[38;5;66;03m# error: Argument 1 to \"_na_arithmetic_op\" has incompatible type\u001b[39;00m\n\u001b[1;32m    231\u001b[0m     \u001b[38;5;66;03m# \"Union[ExtensionArray, ndarray[Any, Any]]\"; expected \"ndarray[Any, Any]\"\u001b[39;00m\n\u001b[0;32m--> 232\u001b[0m     res_values \u001b[38;5;241m=\u001b[39m \u001b[43m_na_arithmetic_op\u001b[49m\u001b[43m(\u001b[49m\u001b[43mleft\u001b[49m\u001b[43m,\u001b[49m\u001b[43m \u001b[49m\u001b[43mright\u001b[49m\u001b[43m,\u001b[49m\u001b[43m \u001b[49m\u001b[43mop\u001b[49m\u001b[43m)\u001b[49m  \u001b[38;5;66;03m# type: ignore[arg-type]\u001b[39;00m\n\u001b[1;32m    234\u001b[0m \u001b[38;5;28;01mreturn\u001b[39;00m res_values\n",
      "File \u001b[0;32m~/Library/Python/3.9/lib/python/site-packages/pandas/core/ops/array_ops.py:178\u001b[0m, in \u001b[0;36m_na_arithmetic_op\u001b[0;34m(left, right, op, is_cmp)\u001b[0m\n\u001b[1;32m    172\u001b[0m \u001b[38;5;28;01mexcept\u001b[39;00m \u001b[38;5;167;01mTypeError\u001b[39;00m:\n\u001b[1;32m    173\u001b[0m     \u001b[38;5;28;01mif\u001b[39;00m \u001b[38;5;129;01mnot\u001b[39;00m is_cmp \u001b[38;5;129;01mand\u001b[39;00m (is_object_dtype(left\u001b[38;5;241m.\u001b[39mdtype) \u001b[38;5;129;01mor\u001b[39;00m is_object_dtype(right)):\n\u001b[1;32m    174\u001b[0m         \u001b[38;5;66;03m# For object dtype, fallback to a masked operation (only operating\u001b[39;00m\n\u001b[1;32m    175\u001b[0m         \u001b[38;5;66;03m#  on the non-missing values)\u001b[39;00m\n\u001b[1;32m    176\u001b[0m         \u001b[38;5;66;03m# Don't do this for comparisons, as that will handle complex numbers\u001b[39;00m\n\u001b[1;32m    177\u001b[0m         \u001b[38;5;66;03m#  incorrectly, see GH#32047\u001b[39;00m\n\u001b[0;32m--> 178\u001b[0m         result \u001b[38;5;241m=\u001b[39m \u001b[43m_masked_arith_op\u001b[49m\u001b[43m(\u001b[49m\u001b[43mleft\u001b[49m\u001b[43m,\u001b[49m\u001b[43m \u001b[49m\u001b[43mright\u001b[49m\u001b[43m,\u001b[49m\u001b[43m \u001b[49m\u001b[43mop\u001b[49m\u001b[43m)\u001b[49m\n\u001b[1;32m    179\u001b[0m     \u001b[38;5;28;01melse\u001b[39;00m:\n\u001b[1;32m    180\u001b[0m         \u001b[38;5;28;01mraise\u001b[39;00m\n",
      "File \u001b[0;32m~/Library/Python/3.9/lib/python/site-packages/pandas/core/ops/array_ops.py:116\u001b[0m, in \u001b[0;36m_masked_arith_op\u001b[0;34m(x, y, op)\u001b[0m\n\u001b[1;32m    114\u001b[0m     \u001b[38;5;66;03m# See GH#5284, GH#5035, GH#19448 for historical reference\u001b[39;00m\n\u001b[1;32m    115\u001b[0m     \u001b[38;5;28;01mif\u001b[39;00m mask\u001b[38;5;241m.\u001b[39many():\n\u001b[0;32m--> 116\u001b[0m         result[mask] \u001b[38;5;241m=\u001b[39m \u001b[43mop\u001b[49m\u001b[43m(\u001b[49m\u001b[43mxrav\u001b[49m\u001b[43m[\u001b[49m\u001b[43mmask\u001b[49m\u001b[43m]\u001b[49m\u001b[43m,\u001b[49m\u001b[43m \u001b[49m\u001b[43myrav\u001b[49m\u001b[43m[\u001b[49m\u001b[43mmask\u001b[49m\u001b[43m]\u001b[49m\u001b[43m)\u001b[49m\n\u001b[1;32m    118\u001b[0m \u001b[38;5;28;01melse\u001b[39;00m:\n\u001b[1;32m    119\u001b[0m     \u001b[38;5;28;01mif\u001b[39;00m \u001b[38;5;129;01mnot\u001b[39;00m is_scalar(y):\n",
      "\u001b[0;31mTypeError\u001b[0m: unsupported operand type(s) for -: 'str' and 'str'"
     ]
    }
   ],
   "source": [
    "result['Average Span Between Accidents'] = (result['Last Incident Date'] - result['First Incident Date']).dt.days / (result['Number of Incidents'] - 1)\n",
    "\n",
    "# Drop the 'Last Incident Date' column as it's no longer needed\n",
    "result.drop('Last Incident Date', axis=1, inplace=True)\n"
   ]
  },
  {
   "cell_type": "code",
   "execution_count": null,
   "metadata": {},
   "outputs": [
    {
     "name": "stdout",
     "output_type": "stream",
     "text": [
      "<class 'pandas.core.frame.DataFrame'>\n",
      "RangeIndex: 2337 entries, 0 to 2336\n",
      "Data columns (total 30 columns):\n",
      " #   Column                                                    Non-Null Count  Dtype  \n",
      "---  ------                                                    --------------  -----  \n",
      " 0   SL No.                                                    2337 non-null   int64  \n",
      " 1   Registration Number                                       2335 non-null   object \n",
      " 2   Delivery Date (from Registration Number)                  2335 non-null   object \n",
      " 3   Current Vehicle Age in Months                             2335 non-null   float64\n",
      " 4   Model                                                     2335 non-null   object \n",
      " 5   Hub                                                       2335 non-null   object \n",
      " 6   Date Sent                                                 2289 non-null   object \n",
      " 7   Date Received                                             2265 non-null   object \n",
      " 8   Received Month/Year                                       2337 non-null   object \n",
      " 9   Vehicle Age At Service Time                               2288 non-null   float64\n",
      " 10  Downtime                                                  2253 non-null   float64\n",
      " 11  Service Vendors                                           2290 non-null   object \n",
      " 12  Service Type                                              2335 non-null   object \n",
      " 13  Other's Data                                              909 non-null    object \n",
      " 14  Approval Status                                           2337 non-null   object \n",
      " 15  Invoice Number                                            1606 non-null   object \n",
      " 16  Invoice Amount                                            1606 non-null   object \n",
      " 17  Invoice                                                   1600 non-null   object \n",
      " 18  Invoice Payment Status                                    2336 non-null   object \n",
      " 19  Created By                                                2337 non-null   object \n",
      " 20  Created                                                   2337 non-null   object \n",
      " 21  Last Modified By                                          2337 non-null   object \n",
      " 22  Last Modified                                             2337 non-null   object \n",
      " 23  Hub Manager Emails (from Hub) (from Registration Number)  2299 non-null   object \n",
      " 24  Rejection Reason                                          61 non-null     object \n",
      " 25  Sent Month/Year                                           2337 non-null   object \n",
      " 26  Maintenance Remarks                                       971 non-null    object \n",
      " 27  Service KM Reading                                        882 non-null    float64\n",
      " 28  Vehicle Status (from Registration Number)                 2335 non-null   object \n",
      " 29  Record ID                                                 2337 non-null   object \n",
      "dtypes: float64(4), int64(1), object(25)\n",
      "memory usage: 547.9+ KB\n"
     ]
    }
   ],
   "source": [
    "service.info()"
   ]
  },
  {
   "cell_type": "code",
   "execution_count": null,
   "metadata": {},
   "outputs": [
    {
     "data": {
      "text/html": [
       "<div>\n",
       "<style scoped>\n",
       "    .dataframe tbody tr th:only-of-type {\n",
       "        vertical-align: middle;\n",
       "    }\n",
       "\n",
       "    .dataframe tbody tr th {\n",
       "        vertical-align: top;\n",
       "    }\n",
       "\n",
       "    .dataframe thead th {\n",
       "        text-align: right;\n",
       "    }\n",
       "</style>\n",
       "<table border=\"1\" class=\"dataframe\">\n",
       "  <thead>\n",
       "    <tr style=\"text-align: right;\">\n",
       "      <th></th>\n",
       "      <th>Service Vendors</th>\n",
       "      <th>Service Type</th>\n",
       "    </tr>\n",
       "  </thead>\n",
       "  <tbody>\n",
       "    <tr>\n",
       "      <th>80</th>\n",
       "      <td>TC Motors Foreshore Road</td>\n",
       "      <td>Other</td>\n",
       "    </tr>\n",
       "    <tr>\n",
       "      <th>1087</th>\n",
       "      <td>Dulichand</td>\n",
       "      <td>Air Conditioner Issue</td>\n",
       "    </tr>\n",
       "    <tr>\n",
       "      <th>1487</th>\n",
       "      <td>Dulichand</td>\n",
       "      <td>Other</td>\n",
       "    </tr>\n",
       "    <tr>\n",
       "      <th>1505</th>\n",
       "      <td>Dulichand</td>\n",
       "      <td>Air Conditioner Issue</td>\n",
       "    </tr>\n",
       "    <tr>\n",
       "      <th>1917</th>\n",
       "      <td>Dulichand</td>\n",
       "      <td>Air Conditioner Issue</td>\n",
       "    </tr>\n",
       "    <tr>\n",
       "      <th>2119</th>\n",
       "      <td>Speedy Autocare</td>\n",
       "      <td>Air Conditioner Issue</td>\n",
       "    </tr>\n",
       "    <tr>\n",
       "      <th>2148</th>\n",
       "      <td>TC Motors Foreshore Road</td>\n",
       "      <td>Air Conditioner Issue</td>\n",
       "    </tr>\n",
       "  </tbody>\n",
       "</table>\n",
       "</div>"
      ],
      "text/plain": [
       "               Service Vendors           Service Type\n",
       "80    TC Motors Foreshore Road                  Other\n",
       "1087                 Dulichand  Air Conditioner Issue\n",
       "1487                 Dulichand                  Other\n",
       "1505                 Dulichand  Air Conditioner Issue\n",
       "1917                 Dulichand  Air Conditioner Issue\n",
       "2119           Speedy Autocare  Air Conditioner Issue\n",
       "2148  TC Motors Foreshore Road  Air Conditioner Issue"
      ]
     },
     "execution_count": 136,
     "metadata": {},
     "output_type": "execute_result"
    }
   ],
   "source": [
    "service[service['Registration Number']=='WB04J0909'][['Service Vendors','Service Type']]"
   ]
  },
  {
   "cell_type": "code",
   "execution_count": 53,
   "metadata": {},
   "outputs": [
    {
     "ename": "ValueError",
     "evalue": "could not convert string to float: '7540.701228.701228.702014.00240.001228.701228.701228.703088.701228.701228.706281.401228.701228.707510.101228.70328.00103595.001041.70118.001062.001015.001015.001015.003361.80500.001200.001015.001015.002000.001600.001015.00371.10613.40503.701228.701204.001959.002999.001015.001015.00480.001015.004172.70300.002014.00176.001959.00880.00400.002500.00'",
     "output_type": "error",
     "traceback": [
      "\u001b[0;31m---------------------------------------------------------------------------\u001b[0m",
      "\u001b[0;31mValueError\u001b[0m                                Traceback (most recent call last)",
      "Cell \u001b[0;32mIn[53], line 5\u001b[0m\n\u001b[1;32m      2\u001b[0m \u001b[38;5;28;01mfrom\u001b[39;00m \u001b[38;5;21;01mdatetime\u001b[39;00m \u001b[38;5;28;01mimport\u001b[39;00m datetime\n\u001b[1;32m      4\u001b[0m \u001b[38;5;66;03m# Convert the rupee symbol and commas to float values\u001b[39;00m\n\u001b[0;32m----> 5\u001b[0m result[\u001b[38;5;124m'\u001b[39m\u001b[38;5;124mTotal Invoice Amount\u001b[39m\u001b[38;5;124m'\u001b[39m] \u001b[38;5;241m=\u001b[39m \u001b[43mresult\u001b[49m\u001b[43m[\u001b[49m\u001b[38;5;124;43m'\u001b[39;49m\u001b[38;5;124;43mTotal Invoice Amount\u001b[39;49m\u001b[38;5;124;43m'\u001b[39;49m\u001b[43m]\u001b[49m\u001b[38;5;241;43m.\u001b[39;49m\u001b[43mstr\u001b[49m\u001b[38;5;241;43m.\u001b[39;49m\u001b[43mreplace\u001b[49m\u001b[43m(\u001b[49m\u001b[38;5;124;43m'\u001b[39;49m\u001b[38;5;124;43m,\u001b[39;49m\u001b[38;5;124;43m'\u001b[39;49m\u001b[43m,\u001b[49m\u001b[43m \u001b[49m\u001b[38;5;124;43m'\u001b[39;49m\u001b[38;5;124;43m'\u001b[39;49m\u001b[43m)\u001b[49m\u001b[38;5;241;43m.\u001b[39;49m\u001b[43mstr\u001b[49m\u001b[38;5;241;43m.\u001b[39;49m\u001b[43mreplace\u001b[49m\u001b[43m(\u001b[49m\u001b[38;5;124;43m'\u001b[39;49m\u001b[38;5;124;43m₹\u001b[39;49m\u001b[38;5;124;43m'\u001b[39;49m\u001b[43m,\u001b[49m\u001b[43m \u001b[49m\u001b[38;5;124;43m'\u001b[39;49m\u001b[38;5;124;43m'\u001b[39;49m\u001b[43m)\u001b[49m\u001b[38;5;241;43m.\u001b[39;49m\u001b[43mastype\u001b[49m\u001b[43m(\u001b[49m\u001b[38;5;28;43mfloat\u001b[39;49m\u001b[43m)\u001b[49m\n\u001b[1;32m      7\u001b[0m \u001b[38;5;66;03m# Convert 'First Incident Date' and 'Last Incident Date' columns to datetime\u001b[39;00m\n\u001b[1;32m      8\u001b[0m result[\u001b[38;5;124m'\u001b[39m\u001b[38;5;124mFirst Incident Date\u001b[39m\u001b[38;5;124m'\u001b[39m] \u001b[38;5;241m=\u001b[39m pd\u001b[38;5;241m.\u001b[39mto_datetime(result[\u001b[38;5;124m'\u001b[39m\u001b[38;5;124mFirst Incident Date\u001b[39m\u001b[38;5;124m'\u001b[39m])\n",
      "File \u001b[0;32m~/Library/Python/3.9/lib/python/site-packages/pandas/core/generic.py:6324\u001b[0m, in \u001b[0;36mNDFrame.astype\u001b[0;34m(self, dtype, copy, errors)\u001b[0m\n\u001b[1;32m   6317\u001b[0m     results \u001b[38;5;241m=\u001b[39m [\n\u001b[1;32m   6318\u001b[0m         \u001b[38;5;28mself\u001b[39m\u001b[38;5;241m.\u001b[39miloc[:, i]\u001b[38;5;241m.\u001b[39mastype(dtype, copy\u001b[38;5;241m=\u001b[39mcopy)\n\u001b[1;32m   6319\u001b[0m         \u001b[38;5;28;01mfor\u001b[39;00m i \u001b[38;5;129;01min\u001b[39;00m \u001b[38;5;28mrange\u001b[39m(\u001b[38;5;28mlen\u001b[39m(\u001b[38;5;28mself\u001b[39m\u001b[38;5;241m.\u001b[39mcolumns))\n\u001b[1;32m   6320\u001b[0m     ]\n\u001b[1;32m   6322\u001b[0m \u001b[38;5;28;01melse\u001b[39;00m:\n\u001b[1;32m   6323\u001b[0m     \u001b[38;5;66;03m# else, only a single dtype is given\u001b[39;00m\n\u001b[0;32m-> 6324\u001b[0m     new_data \u001b[38;5;241m=\u001b[39m \u001b[38;5;28;43mself\u001b[39;49m\u001b[38;5;241;43m.\u001b[39;49m\u001b[43m_mgr\u001b[49m\u001b[38;5;241;43m.\u001b[39;49m\u001b[43mastype\u001b[49m\u001b[43m(\u001b[49m\u001b[43mdtype\u001b[49m\u001b[38;5;241;43m=\u001b[39;49m\u001b[43mdtype\u001b[49m\u001b[43m,\u001b[49m\u001b[43m \u001b[49m\u001b[43mcopy\u001b[49m\u001b[38;5;241;43m=\u001b[39;49m\u001b[43mcopy\u001b[49m\u001b[43m,\u001b[49m\u001b[43m \u001b[49m\u001b[43merrors\u001b[49m\u001b[38;5;241;43m=\u001b[39;49m\u001b[43merrors\u001b[49m\u001b[43m)\u001b[49m\n\u001b[1;32m   6325\u001b[0m     \u001b[38;5;28;01mreturn\u001b[39;00m \u001b[38;5;28mself\u001b[39m\u001b[38;5;241m.\u001b[39m_constructor(new_data)\u001b[38;5;241m.\u001b[39m__finalize__(\u001b[38;5;28mself\u001b[39m, method\u001b[38;5;241m=\u001b[39m\u001b[38;5;124m\"\u001b[39m\u001b[38;5;124mastype\u001b[39m\u001b[38;5;124m\"\u001b[39m)\n\u001b[1;32m   6327\u001b[0m \u001b[38;5;66;03m# GH 33113: handle empty frame or series\u001b[39;00m\n",
      "File \u001b[0;32m~/Library/Python/3.9/lib/python/site-packages/pandas/core/internals/managers.py:451\u001b[0m, in \u001b[0;36mBaseBlockManager.astype\u001b[0;34m(self, dtype, copy, errors)\u001b[0m\n\u001b[1;32m    448\u001b[0m \u001b[38;5;28;01melif\u001b[39;00m using_copy_on_write():\n\u001b[1;32m    449\u001b[0m     copy \u001b[38;5;241m=\u001b[39m \u001b[38;5;28;01mFalse\u001b[39;00m\n\u001b[0;32m--> 451\u001b[0m \u001b[38;5;28;01mreturn\u001b[39;00m \u001b[38;5;28;43mself\u001b[39;49m\u001b[38;5;241;43m.\u001b[39;49m\u001b[43mapply\u001b[49m\u001b[43m(\u001b[49m\n\u001b[1;32m    452\u001b[0m \u001b[43m    \u001b[49m\u001b[38;5;124;43m\"\u001b[39;49m\u001b[38;5;124;43mastype\u001b[39;49m\u001b[38;5;124;43m\"\u001b[39;49m\u001b[43m,\u001b[49m\n\u001b[1;32m    453\u001b[0m \u001b[43m    \u001b[49m\u001b[43mdtype\u001b[49m\u001b[38;5;241;43m=\u001b[39;49m\u001b[43mdtype\u001b[49m\u001b[43m,\u001b[49m\n\u001b[1;32m    454\u001b[0m \u001b[43m    \u001b[49m\u001b[43mcopy\u001b[49m\u001b[38;5;241;43m=\u001b[39;49m\u001b[43mcopy\u001b[49m\u001b[43m,\u001b[49m\n\u001b[1;32m    455\u001b[0m \u001b[43m    \u001b[49m\u001b[43merrors\u001b[49m\u001b[38;5;241;43m=\u001b[39;49m\u001b[43merrors\u001b[49m\u001b[43m,\u001b[49m\n\u001b[1;32m    456\u001b[0m \u001b[43m    \u001b[49m\u001b[43musing_cow\u001b[49m\u001b[38;5;241;43m=\u001b[39;49m\u001b[43musing_copy_on_write\u001b[49m\u001b[43m(\u001b[49m\u001b[43m)\u001b[49m\u001b[43m,\u001b[49m\n\u001b[1;32m    457\u001b[0m \u001b[43m\u001b[49m\u001b[43m)\u001b[49m\n",
      "File \u001b[0;32m~/Library/Python/3.9/lib/python/site-packages/pandas/core/internals/managers.py:352\u001b[0m, in \u001b[0;36mBaseBlockManager.apply\u001b[0;34m(self, f, align_keys, **kwargs)\u001b[0m\n\u001b[1;32m    350\u001b[0m         applied \u001b[38;5;241m=\u001b[39m b\u001b[38;5;241m.\u001b[39mapply(f, \u001b[38;5;241m*\u001b[39m\u001b[38;5;241m*\u001b[39mkwargs)\n\u001b[1;32m    351\u001b[0m     \u001b[38;5;28;01melse\u001b[39;00m:\n\u001b[0;32m--> 352\u001b[0m         applied \u001b[38;5;241m=\u001b[39m \u001b[38;5;28;43mgetattr\u001b[39;49m\u001b[43m(\u001b[49m\u001b[43mb\u001b[49m\u001b[43m,\u001b[49m\u001b[43m \u001b[49m\u001b[43mf\u001b[49m\u001b[43m)\u001b[49m\u001b[43m(\u001b[49m\u001b[38;5;241;43m*\u001b[39;49m\u001b[38;5;241;43m*\u001b[39;49m\u001b[43mkwargs\u001b[49m\u001b[43m)\u001b[49m\n\u001b[1;32m    353\u001b[0m     result_blocks \u001b[38;5;241m=\u001b[39m extend_blocks(applied, result_blocks)\n\u001b[1;32m    355\u001b[0m out \u001b[38;5;241m=\u001b[39m \u001b[38;5;28mtype\u001b[39m(\u001b[38;5;28mself\u001b[39m)\u001b[38;5;241m.\u001b[39mfrom_blocks(result_blocks, \u001b[38;5;28mself\u001b[39m\u001b[38;5;241m.\u001b[39maxes)\n",
      "File \u001b[0;32m~/Library/Python/3.9/lib/python/site-packages/pandas/core/internals/blocks.py:511\u001b[0m, in \u001b[0;36mBlock.astype\u001b[0;34m(self, dtype, copy, errors, using_cow)\u001b[0m\n\u001b[1;32m    491\u001b[0m \u001b[38;5;250m\u001b[39m\u001b[38;5;124;03m\"\"\"\u001b[39;00m\n\u001b[1;32m    492\u001b[0m \u001b[38;5;124;03mCoerce to the new dtype.\u001b[39;00m\n\u001b[1;32m    493\u001b[0m \n\u001b[0;32m   (...)\u001b[0m\n\u001b[1;32m    507\u001b[0m \u001b[38;5;124;03mBlock\u001b[39;00m\n\u001b[1;32m    508\u001b[0m \u001b[38;5;124;03m\"\"\"\u001b[39;00m\n\u001b[1;32m    509\u001b[0m values \u001b[38;5;241m=\u001b[39m \u001b[38;5;28mself\u001b[39m\u001b[38;5;241m.\u001b[39mvalues\n\u001b[0;32m--> 511\u001b[0m new_values \u001b[38;5;241m=\u001b[39m \u001b[43mastype_array_safe\u001b[49m\u001b[43m(\u001b[49m\u001b[43mvalues\u001b[49m\u001b[43m,\u001b[49m\u001b[43m \u001b[49m\u001b[43mdtype\u001b[49m\u001b[43m,\u001b[49m\u001b[43m \u001b[49m\u001b[43mcopy\u001b[49m\u001b[38;5;241;43m=\u001b[39;49m\u001b[43mcopy\u001b[49m\u001b[43m,\u001b[49m\u001b[43m \u001b[49m\u001b[43merrors\u001b[49m\u001b[38;5;241;43m=\u001b[39;49m\u001b[43merrors\u001b[49m\u001b[43m)\u001b[49m\n\u001b[1;32m    513\u001b[0m new_values \u001b[38;5;241m=\u001b[39m maybe_coerce_values(new_values)\n\u001b[1;32m    515\u001b[0m refs \u001b[38;5;241m=\u001b[39m \u001b[38;5;28;01mNone\u001b[39;00m\n",
      "File \u001b[0;32m~/Library/Python/3.9/lib/python/site-packages/pandas/core/dtypes/astype.py:242\u001b[0m, in \u001b[0;36mastype_array_safe\u001b[0;34m(values, dtype, copy, errors)\u001b[0m\n\u001b[1;32m    239\u001b[0m     dtype \u001b[38;5;241m=\u001b[39m dtype\u001b[38;5;241m.\u001b[39mnumpy_dtype\n\u001b[1;32m    241\u001b[0m \u001b[38;5;28;01mtry\u001b[39;00m:\n\u001b[0;32m--> 242\u001b[0m     new_values \u001b[38;5;241m=\u001b[39m \u001b[43mastype_array\u001b[49m\u001b[43m(\u001b[49m\u001b[43mvalues\u001b[49m\u001b[43m,\u001b[49m\u001b[43m \u001b[49m\u001b[43mdtype\u001b[49m\u001b[43m,\u001b[49m\u001b[43m \u001b[49m\u001b[43mcopy\u001b[49m\u001b[38;5;241;43m=\u001b[39;49m\u001b[43mcopy\u001b[49m\u001b[43m)\u001b[49m\n\u001b[1;32m    243\u001b[0m \u001b[38;5;28;01mexcept\u001b[39;00m (\u001b[38;5;167;01mValueError\u001b[39;00m, \u001b[38;5;167;01mTypeError\u001b[39;00m):\n\u001b[1;32m    244\u001b[0m     \u001b[38;5;66;03m# e.g. _astype_nansafe can fail on object-dtype of strings\u001b[39;00m\n\u001b[1;32m    245\u001b[0m     \u001b[38;5;66;03m#  trying to convert to float\u001b[39;00m\n\u001b[1;32m    246\u001b[0m     \u001b[38;5;28;01mif\u001b[39;00m errors \u001b[38;5;241m==\u001b[39m \u001b[38;5;124m\"\u001b[39m\u001b[38;5;124mignore\u001b[39m\u001b[38;5;124m\"\u001b[39m:\n",
      "File \u001b[0;32m~/Library/Python/3.9/lib/python/site-packages/pandas/core/dtypes/astype.py:187\u001b[0m, in \u001b[0;36mastype_array\u001b[0;34m(values, dtype, copy)\u001b[0m\n\u001b[1;32m    184\u001b[0m     values \u001b[38;5;241m=\u001b[39m values\u001b[38;5;241m.\u001b[39mastype(dtype, copy\u001b[38;5;241m=\u001b[39mcopy)\n\u001b[1;32m    186\u001b[0m \u001b[38;5;28;01melse\u001b[39;00m:\n\u001b[0;32m--> 187\u001b[0m     values \u001b[38;5;241m=\u001b[39m \u001b[43m_astype_nansafe\u001b[49m\u001b[43m(\u001b[49m\u001b[43mvalues\u001b[49m\u001b[43m,\u001b[49m\u001b[43m \u001b[49m\u001b[43mdtype\u001b[49m\u001b[43m,\u001b[49m\u001b[43m \u001b[49m\u001b[43mcopy\u001b[49m\u001b[38;5;241;43m=\u001b[39;49m\u001b[43mcopy\u001b[49m\u001b[43m)\u001b[49m\n\u001b[1;32m    189\u001b[0m \u001b[38;5;66;03m# in pandas we don't store numpy str dtypes, so convert to object\u001b[39;00m\n\u001b[1;32m    190\u001b[0m \u001b[38;5;28;01mif\u001b[39;00m \u001b[38;5;28misinstance\u001b[39m(dtype, np\u001b[38;5;241m.\u001b[39mdtype) \u001b[38;5;129;01mand\u001b[39;00m \u001b[38;5;28missubclass\u001b[39m(values\u001b[38;5;241m.\u001b[39mdtype\u001b[38;5;241m.\u001b[39mtype, \u001b[38;5;28mstr\u001b[39m):\n",
      "File \u001b[0;32m~/Library/Python/3.9/lib/python/site-packages/pandas/core/dtypes/astype.py:138\u001b[0m, in \u001b[0;36m_astype_nansafe\u001b[0;34m(arr, dtype, copy, skipna)\u001b[0m\n\u001b[1;32m    134\u001b[0m     \u001b[38;5;28;01mraise\u001b[39;00m \u001b[38;5;167;01mValueError\u001b[39;00m(msg)\n\u001b[1;32m    136\u001b[0m \u001b[38;5;28;01mif\u001b[39;00m copy \u001b[38;5;129;01mor\u001b[39;00m is_object_dtype(arr\u001b[38;5;241m.\u001b[39mdtype) \u001b[38;5;129;01mor\u001b[39;00m is_object_dtype(dtype):\n\u001b[1;32m    137\u001b[0m     \u001b[38;5;66;03m# Explicit copy, or required since NumPy can't view from / to object.\u001b[39;00m\n\u001b[0;32m--> 138\u001b[0m     \u001b[38;5;28;01mreturn\u001b[39;00m \u001b[43marr\u001b[49m\u001b[38;5;241;43m.\u001b[39;49m\u001b[43mastype\u001b[49m\u001b[43m(\u001b[49m\u001b[43mdtype\u001b[49m\u001b[43m,\u001b[49m\u001b[43m \u001b[49m\u001b[43mcopy\u001b[49m\u001b[38;5;241;43m=\u001b[39;49m\u001b[38;5;28;43;01mTrue\u001b[39;49;00m\u001b[43m)\u001b[49m\n\u001b[1;32m    140\u001b[0m \u001b[38;5;28;01mreturn\u001b[39;00m arr\u001b[38;5;241m.\u001b[39mastype(dtype, copy\u001b[38;5;241m=\u001b[39mcopy)\n",
      "\u001b[0;31mValueError\u001b[0m: could not convert string to float: '7540.701228.701228.702014.00240.001228.701228.701228.703088.701228.701228.706281.401228.701228.707510.101228.70328.00103595.001041.70118.001062.001015.001015.001015.003361.80500.001200.001015.001015.002000.001600.001015.00371.10613.40503.701228.701204.001959.002999.001015.001015.00480.001015.004172.70300.002014.00176.001959.00880.00400.002500.00'"
     ]
    }
   ],
   "source": [
    "import pandas as pd\n",
    "from datetime import datetime\n",
    "\n",
    "# Convert the rupee symbol and commas to float values\n",
    "result['Total Invoice Amount'] = result['Total Invoice Amount'].str.replace(',', '').str.replace('₹', '').astype(float)\n",
    "\n",
    "# Convert 'First Incident Date' and 'Last Incident Date' columns to datetime\n",
    "result['First Incident Date'] = pd.to_datetime(result['First Incident Date'])\n",
    "result['Last Incident Date'] = pd.to_datetime(result['Last Incident Date'])\n",
    "\n",
    "# Calculate the span between first and last incidents in days\n",
    "result['Span Between Incidents'] = (result['Last Incident Date'] - result['First Incident Date']).dt.days\n",
    "\n",
    "# Calculate the average span between incidents for each driver\n",
    "avg_span = result.groupby('Driver ID')['Span Between Incidents'].mean().reset_index()\n",
    "\n",
    "# Calculate the total invoice amount sum\n",
    "total_invoice_amount = result['Total Invoice Amount'].sum()\n",
    "\n",
    "print('Average Span Between Incidents:')\n",
    "print(avg_span)\n",
    "\n",
    "print(f'\\nTotal Invoice Amount Sum: {total_invoice_amount}')"
   ]
  },
  {
   "cell_type": "code",
   "execution_count": 56,
   "metadata": {},
   "outputs": [
    {
     "data": {
      "text/html": [
       "<div>\n",
       "<style scoped>\n",
       "    .dataframe tbody tr th:only-of-type {\n",
       "        vertical-align: middle;\n",
       "    }\n",
       "\n",
       "    .dataframe tbody tr th {\n",
       "        vertical-align: top;\n",
       "    }\n",
       "\n",
       "    .dataframe thead th {\n",
       "        text-align: right;\n",
       "    }\n",
       "</style>\n",
       "<table border=\"1\" class=\"dataframe\">\n",
       "  <thead>\n",
       "    <tr style=\"text-align: right;\">\n",
       "      <th></th>\n",
       "      <th>Total Invoice Amount</th>\n",
       "      <th>Total Downtime (Days)</th>\n",
       "      <th>Count of Major Damage Types</th>\n",
       "      <th>Total Our Cost</th>\n",
       "      <th>First Incident Date</th>\n",
       "      <th>Last Incident Date</th>\n",
       "      <th>Number of Incidents</th>\n",
       "    </tr>\n",
       "    <tr>\n",
       "      <th>Driver ID</th>\n",
       "      <th></th>\n",
       "      <th></th>\n",
       "      <th></th>\n",
       "      <th></th>\n",
       "      <th></th>\n",
       "      <th></th>\n",
       "      <th></th>\n",
       "    </tr>\n",
       "  </thead>\n",
       "  <tbody>\n",
       "    <tr>\n",
       "      <th>1.0</th>\n",
       "      <td>7540.7</td>\n",
       "      <td>147.0</td>\n",
       "      <td>1</td>\n",
       "      <td>82883</td>\n",
       "      <td>3/8/2023</td>\n",
       "      <td>30/1/2024</td>\n",
       "      <td>57</td>\n",
       "    </tr>\n",
       "    <tr>\n",
       "      <th>2.0</th>\n",
       "      <td>6313.4</td>\n",
       "      <td>181.0</td>\n",
       "      <td>2</td>\n",
       "      <td>32925</td>\n",
       "      <td>15/3/2023</td>\n",
       "      <td>22/3/2024</td>\n",
       "      <td>34</td>\n",
       "    </tr>\n",
       "    <tr>\n",
       "      <th>3.0</th>\n",
       "      <td>1000.0</td>\n",
       "      <td>76.0</td>\n",
       "      <td>1</td>\n",
       "      <td>119567</td>\n",
       "      <td>2/8/2023</td>\n",
       "      <td>17/3/2024</td>\n",
       "      <td>6</td>\n",
       "    </tr>\n",
       "    <tr>\n",
       "      <th>4.0</th>\n",
       "      <td>1228.7</td>\n",
       "      <td>97.0</td>\n",
       "      <td>3</td>\n",
       "      <td>27148</td>\n",
       "      <td>27/7/2023</td>\n",
       "      <td>22/3/2024</td>\n",
       "      <td>10</td>\n",
       "    </tr>\n",
       "    <tr>\n",
       "      <th>9.0</th>\n",
       "      <td>1228.7</td>\n",
       "      <td>89.0</td>\n",
       "      <td>3</td>\n",
       "      <td>272792</td>\n",
       "      <td>26/7/2023</td>\n",
       "      <td>4/5/2024</td>\n",
       "      <td>90</td>\n",
       "    </tr>\n",
       "    <tr>\n",
       "      <th>...</th>\n",
       "      <td>...</td>\n",
       "      <td>...</td>\n",
       "      <td>...</td>\n",
       "      <td>...</td>\n",
       "      <td>...</td>\n",
       "      <td>...</td>\n",
       "      <td>...</td>\n",
       "    </tr>\n",
       "    <tr>\n",
       "      <th>15593448.0</th>\n",
       "      <td>3000.0</td>\n",
       "      <td>0.0</td>\n",
       "      <td>1</td>\n",
       "      <td>-2000</td>\n",
       "      <td>30/4/2024</td>\n",
       "      <td>30/4/2024</td>\n",
       "      <td>2</td>\n",
       "    </tr>\n",
       "    <tr>\n",
       "      <th>15607479.0</th>\n",
       "      <td>NaN</td>\n",
       "      <td>0.0</td>\n",
       "      <td>0</td>\n",
       "      <td>-500</td>\n",
       "      <td>10/5/2024</td>\n",
       "      <td>10/5/2024</td>\n",
       "      <td>1</td>\n",
       "    </tr>\n",
       "    <tr>\n",
       "      <th>15614944.0</th>\n",
       "      <td>NaN</td>\n",
       "      <td>0.0</td>\n",
       "      <td>0</td>\n",
       "      <td>-500</td>\n",
       "      <td>21/5/2024</td>\n",
       "      <td>21/5/2024</td>\n",
       "      <td>1</td>\n",
       "    </tr>\n",
       "    <tr>\n",
       "      <th>15621989.0</th>\n",
       "      <td>NaN</td>\n",
       "      <td>0.0</td>\n",
       "      <td>0</td>\n",
       "      <td>0</td>\n",
       "      <td>10/5/2024</td>\n",
       "      <td>10/5/2024</td>\n",
       "      <td>1</td>\n",
       "    </tr>\n",
       "    <tr>\n",
       "      <th>15691382.0</th>\n",
       "      <td>NaN</td>\n",
       "      <td>0.0</td>\n",
       "      <td>0</td>\n",
       "      <td>-700</td>\n",
       "      <td>17/5/2024</td>\n",
       "      <td>17/5/2024</td>\n",
       "      <td>1</td>\n",
       "    </tr>\n",
       "  </tbody>\n",
       "</table>\n",
       "<p>979 rows × 7 columns</p>\n",
       "</div>"
      ],
      "text/plain": [
       "            Total Invoice Amount  Total Downtime (Days)  \\\n",
       "Driver ID                                                 \n",
       "1.0                       7540.7                  147.0   \n",
       "2.0                       6313.4                  181.0   \n",
       "3.0                       1000.0                   76.0   \n",
       "4.0                       1228.7                   97.0   \n",
       "9.0                       1228.7                   89.0   \n",
       "...                          ...                    ...   \n",
       "15593448.0                3000.0                    0.0   \n",
       "15607479.0                   NaN                    0.0   \n",
       "15614944.0                   NaN                    0.0   \n",
       "15621989.0                   NaN                    0.0   \n",
       "15691382.0                   NaN                    0.0   \n",
       "\n",
       "            Count of Major Damage Types  Total Our Cost First Incident Date  \\\n",
       "Driver ID                                                                     \n",
       "1.0                                   1           82883            3/8/2023   \n",
       "2.0                                   2           32925           15/3/2023   \n",
       "3.0                                   1          119567            2/8/2023   \n",
       "4.0                                   3           27148           27/7/2023   \n",
       "9.0                                   3          272792           26/7/2023   \n",
       "...                                 ...             ...                 ...   \n",
       "15593448.0                            1           -2000           30/4/2024   \n",
       "15607479.0                            0            -500           10/5/2024   \n",
       "15614944.0                            0            -500           21/5/2024   \n",
       "15621989.0                            0               0           10/5/2024   \n",
       "15691382.0                            0            -700           17/5/2024   \n",
       "\n",
       "           Last Incident Date  Number of Incidents  \n",
       "Driver ID                                           \n",
       "1.0                 30/1/2024                   57  \n",
       "2.0                 22/3/2024                   34  \n",
       "3.0                 17/3/2024                    6  \n",
       "4.0                 22/3/2024                   10  \n",
       "9.0                  4/5/2024                   90  \n",
       "...                       ...                  ...  \n",
       "15593448.0          30/4/2024                    2  \n",
       "15607479.0          10/5/2024                    1  \n",
       "15614944.0          21/5/2024                    1  \n",
       "15621989.0          10/5/2024                    1  \n",
       "15691382.0          17/5/2024                    1  \n",
       "\n",
       "[979 rows x 7 columns]"
      ]
     },
     "execution_count": 56,
     "metadata": {},
     "output_type": "execute_result"
    }
   ],
   "source": [
    "result"
   ]
  },
  {
   "cell_type": "code",
   "execution_count": 58,
   "metadata": {},
   "outputs": [],
   "source": [
    "result.to_excel(\"drive_wise_average.xlsx\",index=True)"
   ]
  },
  {
   "cell_type": "code",
   "execution_count": null,
   "metadata": {},
   "outputs": [],
   "source": []
  }
 ],
 "metadata": {
  "kernelspec": {
   "display_name": "Python 3",
   "language": "python",
   "name": "python3"
  },
  "language_info": {
   "codemirror_mode": {
    "name": "ipython",
    "version": 3
   },
   "file_extension": ".py",
   "mimetype": "text/x-python",
   "name": "python",
   "nbconvert_exporter": "python",
   "pygments_lexer": "ipython3",
   "version": "3.9.6"
  }
 },
 "nbformat": 4,
 "nbformat_minor": 2
}

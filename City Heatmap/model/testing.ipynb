{
 "cells": [
  {
   "cell_type": "code",
   "execution_count": 59,
   "metadata": {},
   "outputs": [],
   "source": [
    "import numpy as np\n",
    "import joblib\n",
    "from tensorflow.keras.models import load_model\n"
   ]
  },
  {
   "cell_type": "code",
   "execution_count": 61,
   "metadata": {},
   "outputs": [],
   "source": [
    "model = load_model('/Users/aayushjain/codes/projects/company assignements/Snape/City Heatmap/model/Scales and Models/lstm_kolkata_city.h5')\n",
    "scaler_x = joblib.load('/Users/aayushjain/codes/projects/company assignements/Snape/City Heatmap/model/Scales and Models/scaler_x_kolkata_city.pkl')\n",
    "scaler_y=joblib.load(\"/Users/aayushjain/codes/projects/company assignements/Snape/City Heatmap/model/Scales and Models/scaler_y_kolkata_city.pkl\")\n"
   ]
  },
  {
   "cell_type": "markdown",
   "metadata": {},
   "source": [
    "rain_intensity\train_accumulation\ttemperature\ty\tlag_1\tlag_8\tlag_12\tlag_24"
   ]
  },
  {
   "cell_type": "code",
   "execution_count": 68,
   "metadata": {},
   "outputs": [
    {
     "name": "stderr",
     "output_type": "stream",
     "text": [
      "/Users/aayushjain/Library/Python/3.9/lib/python/site-packages/sklearn/base.py:465: UserWarning: X does not have valid feature names, but MinMaxScaler was fitted with feature names\n",
      "  warnings.warn(\n"
     ]
    }
   ],
   "source": [
    "new_data = [251,0,0,34,259,53,600,422] \n",
    "new_data = np.array(new_data).reshape(1, -1) \n",
    "new_data_scaled = scaler.transform(new_data)"
   ]
  },
  {
   "cell_type": "code",
   "execution_count": null,
   "metadata": {},
   "outputs": [],
   "source": [
    "rain_intensity\train_accumulation\ttemperature\ty\tlag_1\tlag_8\tlag_12\tlag_24"
   ]
  },
  {
   "cell_type": "code",
   "execution_count": 80,
   "metadata": {},
   "outputs": [
    {
     "name": "stdout",
     "output_type": "stream",
     "text": [
      "1/1 [==============================] - 0s 33ms/step\n",
      "Predicted value of y: [[641.48773]]\n"
     ]
    }
   ],
   "source": [
    "new_sample = np.array([[0,0,36,1385,53,600,422]]) \n",
    "\n",
    "new_sample_scaled = scaler_x.transform(new_sample)\n",
    "\n",
    "new_sample_reshaped = new_sample_scaled.reshape((new_sample_scaled.shape[0], 1, new_sample_scaled.shape[1]))\n",
    "\n",
    "y_pred_scaled = model.predict(new_sample_reshaped)\n",
    "y_pred = scaler_y.inverse_transform(y_pred_scaled)\n",
    "\n",
    "print(\"Predicted value of y:\", y_pred)"
   ]
  },
  {
   "cell_type": "code",
   "execution_count": 81,
   "metadata": {},
   "outputs": [
    {
     "name": "stdout",
     "output_type": "stream",
     "text": [
      "1/1 [==============================] - 0s 345ms/step\n",
      "Predicted value of y: [[772.11804]]\n"
     ]
    }
   ],
   "source": [
    "new_sample = np.array([[0,0,37,1385,44,293,676]]) \n",
    "\n",
    "new_sample_scaled = scaler_x.transform(new_sample)\n",
    "\n",
    "new_sample_reshaped = new_sample_scaled.reshape((new_sample_scaled.shape[0], 1, new_sample_scaled.shape[1]))\n",
    "\n",
    "y_pred_scaled = model.predict(new_sample_reshaped)\n",
    "y_pred = scaler_y.inverse_transform(y_pred_scaled)\n",
    "\n",
    "print(\"Predicted value of y:\", y_pred)"
   ]
  },
  {
   "cell_type": "code",
   "execution_count": 64,
   "metadata": {},
   "outputs": [],
   "source": [
    "import pandas as pd\n",
    "data=pd.read_csv(\"/Users/aayushjain/codes/projects/company assignements/Snape/City Heatmap/model/demand.csv\")"
   ]
  },
  {
   "cell_type": "code",
   "execution_count": 65,
   "metadata": {},
   "outputs": [],
   "source": [
    "data=data[['y'\t,'rain_intensity'\t,'rain_accumulation',\t'temperature'\t,'lag_1',\t'lag_8',\t'lag_12'\t,'lag_24']]"
   ]
  },
  {
   "cell_type": "code",
   "execution_count": 9,
   "metadata": {},
   "outputs": [],
   "source": [
    "import joblib\n",
    "from tensorflow.keras.models import load_model\n",
    "import datetime\n",
    "# Function to predict demand for a given zone\n",
    "def predict_demand_for_zone(zone, hourly_demand):\n",
    "    # Load the LSTM model\n",
    "    model = load_model(f'/Users/aayushjain/codes/projects/company assignements/Snape/City Heatmap/Saved Models and Scales 17 June/lstm_{zone}.h5')\n",
    "    scaler_X = joblib.load(f'/Users/aayushjain/codes/projects/company assignements/Snape/City Heatmap/Saved Models and Scales 17 June/scaler_x_{zone}.pkl')\n",
    "    scaler_y = joblib.load(f'/Users/aayushjain/codes/projects/company assignements/Snape/City Heatmap/Saved Models and Scales 17 June/scaler_y_{zone}.pkl')\n",
    "\n",
    "    # Extract hourly demand for the given zone\n",
    "    hourly_demand_zone = hourly_demand\n",
    "\n",
    "    new_sample = hourly_demand_zone.values\n",
    "    new_sample = new_sample.reshape(1, -1)\n",
    "\n",
    "    new_sample_scaled = scaler_X.transform(new_sample)\n",
    "\n",
    "    new_sample_reshaped = new_sample_scaled.reshape((new_sample_scaled.shape[0], 1, new_sample_scaled.shape[1]))\n",
    "\n",
    "    y_pred_scaled = model.predict(new_sample_reshaped)\n",
    "    y_pred = scaler_y.inverse_transform(y_pred_scaled)\n",
    "    rounded_prediction = round(y_pred.flatten()[0])\n",
    "    \n",
    "    return rounded_prediction\n"
   ]
  },
  {
   "cell_type": "code",
   "execution_count": null,
   "metadata": {},
   "outputs": [],
   "source": [
    "# Example usage:\n",
    "zones = ['airport', 'dakshindari', 'sectorV', 'victoria', 'howrah', 'kolkata_city']\n",
    "\n",
    "hourly_demand = {\n",
    "    'airport': hourly_demand_airpot,\n",
    "    'dakshindari': hourly_demand_dakshinDari,\n",
    "    'sectorV': hourly_demand_sectorV,\n",
    "    'victoria': hourly_demand_rabindrasadan,\n",
    "    'howrah': hourly_demand_howrah,\n",
    "    'kolkata_city': hourly_demand\n",
    "}\n",
    "\n",
    "predicted_values = {}\n",
    "\n",
    "for zone in zones:\n",
    "    predicted_values[zone] = predict_demand_for_zone(zone, hourly_demand)\n",
    "\n",
    "print(\"Predicted values:\", predicted_values)"
   ]
  },
  {
   "cell_type": "code",
   "execution_count": 31,
   "metadata": {},
   "outputs": [
    {
     "name": "stderr",
     "output_type": "stream",
     "text": [
      "WARNING:absl:Compiled the loaded model, but the compiled metrics have yet to be built. `model.compile_metrics` will be empty until you train or evaluate the model.\n"
     ]
    },
    {
     "name": "stdout",
     "output_type": "stream",
     "text": [
      "\u001b[1m1/1\u001b[0m \u001b[32m━━━━━━━━━━━━━━━━━━━━\u001b[0m\u001b[37m\u001b[0m \u001b[1m0s\u001b[0m 199ms/step\n"
     ]
    },
    {
     "data": {
      "text/plain": [
       "819"
      ]
     },
     "execution_count": 31,
     "metadata": {},
     "output_type": "execute_result"
    }
   ],
   "source": [
    "import pandas as pd\n",
    "hourly_demand_city=[0,0,33.09,11,965.0,1069.0,100.0,14.0,375.0,600.0,738.0,5.0]\n",
    "hourly_demand = pd.DataFrame(hourly_demand_city, columns=['HourlyDemand'])\n",
    "predict_demand_for_zone('kolkata_city',hourly_demand)"
   ]
  },
  {
   "cell_type": "code",
   "execution_count": null,
   "metadata": {},
   "outputs": [],
   "source": []
  }
 ],
 "metadata": {
  "kernelspec": {
   "display_name": "Python 3",
   "language": "python",
   "name": "python3"
  },
  "language_info": {
   "codemirror_mode": {
    "name": "ipython",
    "version": 3
   },
   "file_extension": ".py",
   "mimetype": "text/x-python",
   "name": "python",
   "nbconvert_exporter": "python",
   "pygments_lexer": "ipython3",
   "version": "3.12.4"
  }
 },
 "nbformat": 4,
 "nbformat_minor": 2
}

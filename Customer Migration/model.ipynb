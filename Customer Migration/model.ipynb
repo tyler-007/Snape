{
 "cells": [
  {
   "cell_type": "code",
   "execution_count": 12,
   "metadata": {},
   "outputs": [],
   "source": [
    "import pandas as pd\n",
    "import numpy as np\n",
    "import matplotlib.pyplot as plt"
   ]
  },
  {
   "cell_type": "code",
   "execution_count": 13,
   "metadata": {},
   "outputs": [
    {
     "name": "stderr",
     "output_type": "stream",
     "text": [
      "/var/folders/q_/dn720rf91691y39h0s_hr_280000gn/T/ipykernel_97486/166700782.py:1: DtypeWarning: Columns (3) have mixed types. Specify dtype option on import or set low_memory=False.\n",
      "  data=pd.read_csv(\"/Users/aayushjain/codes/projects/company assignements/Snape/Customer Migration/Active Customers Details - 21 May 2024, 5_34_56 pm.csv\")\n"
     ]
    }
   ],
   "source": [
    "data=pd.read_csv(\"/Users/aayushjain/codes/projects/company assignements/Snape/Customer Migration/Active Customers Details - 21 May 2024, 5_34_56 pm.csv\")"
   ]
  },
  {
   "cell_type": "code",
   "execution_count": 14,
   "metadata": {},
   "outputs": [
    {
     "name": "stdout",
     "output_type": "stream",
     "text": [
      "<class 'pandas.core.frame.DataFrame'>\n",
      "RangeIndex: 590467 entries, 0 to 590466\n",
      "Data columns (total 12 columns):\n",
      " #   Column                     Non-Null Count   Dtype \n",
      "---  ------                     --------------   ----- \n",
      " 0   user_ID                    590467 non-null  int64 \n",
      " 1   user_name                  590467 non-null  object\n",
      " 2   city_name                  590467 non-null  object\n",
      " 3   mobile                     590467 non-null  object\n",
      " 4   email                      590467 non-null  object\n",
      " 5   email_verification_status  590467 non-null  object\n",
      " 6   date_registered            590467 non-null  object\n",
      " 7   last_ride_on               234698 non-null  object\n",
      " 8   last_login                 564836 non-null  object\n",
      " 9   SMS_preferred              590467 non-null  object\n",
      " 10  Email_preferred            590467 non-null  object\n",
      " 11  Push_preferred             590467 non-null  object\n",
      "dtypes: int64(1), object(11)\n",
      "memory usage: 54.1+ MB\n"
     ]
    }
   ],
   "source": [
    "data.info()"
   ]
  },
  {
   "cell_type": "code",
   "execution_count": 15,
   "metadata": {},
   "outputs": [
    {
     "data": {
      "text/plain": [
       "590467"
      ]
     },
     "execution_count": 15,
     "metadata": {},
     "output_type": "execute_result"
    }
   ],
   "source": [
    "data['mobile'].nunique()"
   ]
  },
  {
   "cell_type": "code",
   "execution_count": 16,
   "metadata": {},
   "outputs": [
    {
     "data": {
      "text/html": [
       "<div>\n",
       "<style scoped>\n",
       "    .dataframe tbody tr th:only-of-type {\n",
       "        vertical-align: middle;\n",
       "    }\n",
       "\n",
       "    .dataframe tbody tr th {\n",
       "        vertical-align: top;\n",
       "    }\n",
       "\n",
       "    .dataframe thead th {\n",
       "        text-align: right;\n",
       "    }\n",
       "</style>\n",
       "<table border=\"1\" class=\"dataframe\">\n",
       "  <thead>\n",
       "    <tr style=\"text-align: right;\">\n",
       "      <th></th>\n",
       "      <th>user_ID</th>\n",
       "      <th>user_name</th>\n",
       "      <th>city_name</th>\n",
       "      <th>mobile</th>\n",
       "      <th>email</th>\n",
       "      <th>email_verification_status</th>\n",
       "      <th>date_registered</th>\n",
       "      <th>last_ride_on</th>\n",
       "      <th>last_login</th>\n",
       "      <th>SMS_preferred</th>\n",
       "      <th>Email_preferred</th>\n",
       "      <th>Push_preferred</th>\n",
       "    </tr>\n",
       "  </thead>\n",
       "  <tbody>\n",
       "    <tr>\n",
       "      <th>0</th>\n",
       "      <td>15728892</td>\n",
       "      <td>Anurag Monu</td>\n",
       "      <td>Kolkata</td>\n",
       "      <td>+919102873657</td>\n",
       "      <td>anuragmonu2024@gmail.com</td>\n",
       "      <td>Unverified</td>\n",
       "      <td>2024-05-21 17:25:04</td>\n",
       "      <td>NaN</td>\n",
       "      <td>2024-05-21 17:25:05</td>\n",
       "      <td>Yes</td>\n",
       "      <td>Yes</td>\n",
       "      <td>Yes</td>\n",
       "    </tr>\n",
       "    <tr>\n",
       "      <th>1</th>\n",
       "      <td>15728847</td>\n",
       "      <td>Madhumita Sengupta</td>\n",
       "      <td>Kolkata</td>\n",
       "      <td>+919038850368</td>\n",
       "      <td>madhumita.sengupta93@gmail.com</td>\n",
       "      <td>Unverified</td>\n",
       "      <td>2024-05-21 17:12:18</td>\n",
       "      <td>NaN</td>\n",
       "      <td>2024-05-21 17:12:18</td>\n",
       "      <td>Yes</td>\n",
       "      <td>Yes</td>\n",
       "      <td>Yes</td>\n",
       "    </tr>\n",
       "    <tr>\n",
       "      <th>2</th>\n",
       "      <td>15728806</td>\n",
       "      <td>Md Shahnawaz</td>\n",
       "      <td>Kolkata</td>\n",
       "      <td>+919123729554</td>\n",
       "      <td>erakirocky@gmail.com</td>\n",
       "      <td>Unverified</td>\n",
       "      <td>2024-05-21 16:57:47</td>\n",
       "      <td>NaN</td>\n",
       "      <td>2024-05-21 17:01:52</td>\n",
       "      <td>Yes</td>\n",
       "      <td>Yes</td>\n",
       "      <td>Yes</td>\n",
       "    </tr>\n",
       "    <tr>\n",
       "      <th>3</th>\n",
       "      <td>15728796</td>\n",
       "      <td>K.raju Babu</td>\n",
       "      <td>Kolkata</td>\n",
       "      <td>+917439635299</td>\n",
       "      <td>rajununia44@gmail.com</td>\n",
       "      <td>Unverified</td>\n",
       "      <td>2024-05-21 16:54:53</td>\n",
       "      <td>NaN</td>\n",
       "      <td>2024-05-21 17:00:54</td>\n",
       "      <td>Yes</td>\n",
       "      <td>Yes</td>\n",
       "      <td>Yes</td>\n",
       "    </tr>\n",
       "    <tr>\n",
       "      <th>4</th>\n",
       "      <td>15728784</td>\n",
       "      <td>S Paul</td>\n",
       "      <td>Kolkata</td>\n",
       "      <td>+919903816216</td>\n",
       "      <td>sanjeebkr.paul@gmail.com</td>\n",
       "      <td>Unverified</td>\n",
       "      <td>2024-05-21 16:50:15</td>\n",
       "      <td>NaN</td>\n",
       "      <td>2024-05-21 16:50:16</td>\n",
       "      <td>Yes</td>\n",
       "      <td>Yes</td>\n",
       "      <td>Yes</td>\n",
       "    </tr>\n",
       "  </tbody>\n",
       "</table>\n",
       "</div>"
      ],
      "text/plain": [
       "    user_ID           user_name city_name         mobile  \\\n",
       "0  15728892         Anurag Monu   Kolkata  +919102873657   \n",
       "1  15728847  Madhumita Sengupta   Kolkata  +919038850368   \n",
       "2  15728806        Md Shahnawaz   Kolkata  +919123729554   \n",
       "3  15728796         K.raju Babu   Kolkata  +917439635299   \n",
       "4  15728784              S Paul   Kolkata  +919903816216   \n",
       "\n",
       "                            email email_verification_status  \\\n",
       "0        anuragmonu2024@gmail.com                Unverified   \n",
       "1  madhumita.sengupta93@gmail.com                Unverified   \n",
       "2            erakirocky@gmail.com                Unverified   \n",
       "3           rajununia44@gmail.com                Unverified   \n",
       "4        sanjeebkr.paul@gmail.com                Unverified   \n",
       "\n",
       "       date_registered last_ride_on           last_login SMS_preferred  \\\n",
       "0  2024-05-21 17:25:04          NaN  2024-05-21 17:25:05           Yes   \n",
       "1  2024-05-21 17:12:18          NaN  2024-05-21 17:12:18           Yes   \n",
       "2  2024-05-21 16:57:47          NaN  2024-05-21 17:01:52           Yes   \n",
       "3  2024-05-21 16:54:53          NaN  2024-05-21 17:00:54           Yes   \n",
       "4  2024-05-21 16:50:15          NaN  2024-05-21 16:50:16           Yes   \n",
       "\n",
       "  Email_preferred Push_preferred  \n",
       "0             Yes            Yes  \n",
       "1             Yes            Yes  \n",
       "2             Yes            Yes  \n",
       "3             Yes            Yes  \n",
       "4             Yes            Yes  "
      ]
     },
     "execution_count": 16,
     "metadata": {},
     "output_type": "execute_result"
    }
   ],
   "source": [
    "data.head()"
   ]
  },
  {
   "cell_type": "code",
   "execution_count": 17,
   "metadata": {},
   "outputs": [],
   "source": [
    "dataset2=pd.read_csv(\"/Users/aayushjain/codes/projects/company assignements/Snape/Customer Migration/snapee.customer121.csv\")"
   ]
  },
  {
   "cell_type": "code",
   "execution_count": 18,
   "metadata": {},
   "outputs": [
    {
     "data": {
      "text/html": [
       "<div>\n",
       "<style scoped>\n",
       "    .dataframe tbody tr th:only-of-type {\n",
       "        vertical-align: middle;\n",
       "    }\n",
       "\n",
       "    .dataframe tbody tr th {\n",
       "        vertical-align: top;\n",
       "    }\n",
       "\n",
       "    .dataframe thead th {\n",
       "        text-align: right;\n",
       "    }\n",
       "</style>\n",
       "<table border=\"1\" class=\"dataframe\">\n",
       "  <thead>\n",
       "    <tr style=\"text-align: right;\">\n",
       "      <th></th>\n",
       "      <th>mobile</th>\n",
       "    </tr>\n",
       "  </thead>\n",
       "  <tbody>\n",
       "    <tr>\n",
       "      <th>0</th>\n",
       "      <td>7003175049</td>\n",
       "    </tr>\n",
       "    <tr>\n",
       "      <th>1</th>\n",
       "      <td>8700466519</td>\n",
       "    </tr>\n",
       "    <tr>\n",
       "      <th>2</th>\n",
       "      <td>6294035244</td>\n",
       "    </tr>\n",
       "    <tr>\n",
       "      <th>3</th>\n",
       "      <td>9870506362</td>\n",
       "    </tr>\n",
       "    <tr>\n",
       "      <th>4</th>\n",
       "      <td>8469645957</td>\n",
       "    </tr>\n",
       "  </tbody>\n",
       "</table>\n",
       "</div>"
      ],
      "text/plain": [
       "       mobile\n",
       "0  7003175049\n",
       "1  8700466519\n",
       "2  6294035244\n",
       "3  9870506362\n",
       "4  8469645957"
      ]
     },
     "execution_count": 18,
     "metadata": {},
     "output_type": "execute_result"
    }
   ],
   "source": [
    "dataset2.head()"
   ]
  },
  {
   "cell_type": "code",
   "execution_count": 19,
   "metadata": {},
   "outputs": [],
   "source": [
    "dataset2['mobile'] = dataset2['mobile'].astype(str)\n",
    "dataset2['mobile'] = \"+91\" + dataset2['mobile']\n"
   ]
  },
  {
   "cell_type": "code",
   "execution_count": 20,
   "metadata": {},
   "outputs": [
    {
     "data": {
      "text/html": [
       "<div>\n",
       "<style scoped>\n",
       "    .dataframe tbody tr th:only-of-type {\n",
       "        vertical-align: middle;\n",
       "    }\n",
       "\n",
       "    .dataframe tbody tr th {\n",
       "        vertical-align: top;\n",
       "    }\n",
       "\n",
       "    .dataframe thead th {\n",
       "        text-align: right;\n",
       "    }\n",
       "</style>\n",
       "<table border=\"1\" class=\"dataframe\">\n",
       "  <thead>\n",
       "    <tr style=\"text-align: right;\">\n",
       "      <th></th>\n",
       "      <th>mobile</th>\n",
       "    </tr>\n",
       "  </thead>\n",
       "  <tbody>\n",
       "    <tr>\n",
       "      <th>0</th>\n",
       "      <td>+917003175049</td>\n",
       "    </tr>\n",
       "    <tr>\n",
       "      <th>1</th>\n",
       "      <td>+918700466519</td>\n",
       "    </tr>\n",
       "    <tr>\n",
       "      <th>2</th>\n",
       "      <td>+916294035244</td>\n",
       "    </tr>\n",
       "    <tr>\n",
       "      <th>3</th>\n",
       "      <td>+919870506362</td>\n",
       "    </tr>\n",
       "    <tr>\n",
       "      <th>4</th>\n",
       "      <td>+918469645957</td>\n",
       "    </tr>\n",
       "  </tbody>\n",
       "</table>\n",
       "</div>"
      ],
      "text/plain": [
       "          mobile\n",
       "0  +917003175049\n",
       "1  +918700466519\n",
       "2  +916294035244\n",
       "3  +919870506362\n",
       "4  +918469645957"
      ]
     },
     "execution_count": 20,
     "metadata": {},
     "output_type": "execute_result"
    }
   ],
   "source": [
    "dataset2.head()"
   ]
  },
  {
   "cell_type": "code",
   "execution_count": 21,
   "metadata": {},
   "outputs": [
    {
     "name": "stdout",
     "output_type": "stream",
     "text": [
      "         user_ID           user_name city_name         mobile  \\\n",
      "151     15724926       Kishore Koner   Kolkata  +919903869255   \n",
      "183     15724770          Yash Gupta   Kolkata  +918210666347   \n",
      "195     15724712        Arvin Raihan   Kolkata  +917029791976   \n",
      "252     15724403        Tanya Bondia   Kolkata  +918420460561   \n",
      "266     15724348           Lalit Ray   Kolkata  +918017400543   \n",
      "...          ...                 ...       ...            ...   \n",
      "589511  13120229       Aditya Mandal   Kolkata  +919748270706   \n",
      "589529  13120184   Abhishek Bhageria   Kolkata  +919874772734   \n",
      "589543  13120157         Abhijit Roy   Kolkata  +919830333406   \n",
      "589574  13120114  Aanchal Gourisaria   Kolkata  +919163167771   \n",
      "589608  13120067  9836319051 Mundhra   Kolkata  +919836319051   \n",
      "\n",
      "                              email email_verification_status  \\\n",
      "151              krckoner@gmail.com                Unverified   \n",
      "183              ygns3563@gmail.com                Unverified   \n",
      "195        tanujaparvez70@gmail.com                Unverified   \n",
      "252           bondiatanya@yahoo.com                Unverified   \n",
      "266           raylalit524@gmail.com                Unverified   \n",
      "...                             ...                       ...   \n",
      "589511       adimandal005@gmail.com                Unverified   \n",
      "589529  abhishek.bhageria@gmail.com                Unverified   \n",
      "589543         abhijitroy90@live.in                  Verified   \n",
      "589574  gourisariaaanchal@gmail.com                Unverified   \n",
      "589608   vinaymundhra9051@yahoo.Com                Unverified   \n",
      "\n",
      "            date_registered         last_ride_on           last_login  \\\n",
      "151     2024-05-20 18:43:49  2024-05-20 19:36:00  2024-05-21 14:34:06   \n",
      "183     2024-05-20 18:11:59                  NaN  2024-05-21 08:30:27   \n",
      "195     2024-05-20 18:01:17  2024-05-20 19:41:20  2024-05-21 14:41:44   \n",
      "252     2024-05-20 16:40:01                  NaN  2024-05-21 15:01:18   \n",
      "266     2024-05-20 16:25:21                  NaN  2024-05-21 11:49:37   \n",
      "...                     ...                  ...                  ...   \n",
      "589511  2022-12-02 01:57:59  2024-04-06 13:42:51  2024-04-06 13:11:20   \n",
      "589529  2022-12-02 01:51:40  2024-03-31 23:45:36  2024-05-09 14:50:05   \n",
      "589543  2022-12-02 01:48:17  2024-02-27 11:41:46  2024-05-09 22:54:42   \n",
      "589574  2022-12-02 01:39:11  2024-05-18 14:25:31  2024-05-18 17:44:53   \n",
      "589608  2022-12-02 01:29:27  2024-05-09 16:49:41  2024-05-17 10:22:00   \n",
      "\n",
      "       SMS_preferred Email_preferred Push_preferred  \n",
      "151              Yes             Yes            Yes  \n",
      "183              Yes             Yes            Yes  \n",
      "195              Yes             Yes            Yes  \n",
      "252              Yes             Yes            Yes  \n",
      "266              Yes             Yes            Yes  \n",
      "...              ...             ...            ...  \n",
      "589511           Yes             Yes            Yes  \n",
      "589529           Yes             Yes            Yes  \n",
      "589543           Yes             Yes            Yes  \n",
      "589574           Yes             Yes            Yes  \n",
      "589608           Yes             Yes            Yes  \n",
      "\n",
      "[33558 rows x 12 columns]\n"
     ]
    }
   ],
   "source": [
    "mobile_set = set(dataset2['mobile'])\n",
    "\n",
    "existing_mobiles = data[data['mobile'].isin(mobile_set)]\n",
    "\n",
    "print(existing_mobiles)"
   ]
  },
  {
   "cell_type": "code",
   "execution_count": 22,
   "metadata": {},
   "outputs": [
    {
     "name": "stdout",
     "output_type": "stream",
     "text": [
      "<class 'pandas.core.frame.DataFrame'>\n",
      "RangeIndex: 590467 entries, 0 to 590466\n",
      "Data columns (total 12 columns):\n",
      " #   Column                     Non-Null Count   Dtype \n",
      "---  ------                     --------------   ----- \n",
      " 0   user_ID                    590467 non-null  int64 \n",
      " 1   user_name                  590467 non-null  object\n",
      " 2   city_name                  590467 non-null  object\n",
      " 3   mobile                     590467 non-null  object\n",
      " 4   email                      590467 non-null  object\n",
      " 5   email_verification_status  590467 non-null  object\n",
      " 6   date_registered            590467 non-null  object\n",
      " 7   last_ride_on               234698 non-null  object\n",
      " 8   last_login                 564836 non-null  object\n",
      " 9   SMS_preferred              590467 non-null  object\n",
      " 10  Email_preferred            590467 non-null  object\n",
      " 11  Push_preferred             590467 non-null  object\n",
      "dtypes: int64(1), object(11)\n",
      "memory usage: 54.1+ MB\n"
     ]
    }
   ],
   "source": [
    "data.info()"
   ]
  },
  {
   "cell_type": "code",
   "execution_count": 23,
   "metadata": {},
   "outputs": [
    {
     "data": {
      "text/plain": [
       "34119"
      ]
     },
     "execution_count": 23,
     "metadata": {},
     "output_type": "execute_result"
    }
   ],
   "source": [
    "dataset2['mobile'].nunique()"
   ]
  },
  {
   "cell_type": "code",
   "execution_count": 24,
   "metadata": {},
   "outputs": [
    {
     "name": "stdout",
     "output_type": "stream",
     "text": [
      "<class 'pandas.core.frame.DataFrame'>\n",
      "RangeIndex: 34119 entries, 0 to 34118\n",
      "Data columns (total 1 columns):\n",
      " #   Column  Non-Null Count  Dtype \n",
      "---  ------  --------------  ----- \n",
      " 0   mobile  34119 non-null  object\n",
      "dtypes: object(1)\n",
      "memory usage: 266.7+ KB\n"
     ]
    }
   ],
   "source": [
    "dataset2.info()"
   ]
  },
  {
   "cell_type": "code",
   "execution_count": 25,
   "metadata": {},
   "outputs": [
    {
     "data": {
      "text/plain": [
       "561"
      ]
     },
     "execution_count": 25,
     "metadata": {},
     "output_type": "execute_result"
    }
   ],
   "source": [
    "34119-33558"
   ]
  },
  {
   "cell_type": "code",
   "execution_count": 26,
   "metadata": {},
   "outputs": [
    {
     "data": {
      "text/html": [
       "<div>\n",
       "<style scoped>\n",
       "    .dataframe tbody tr th:only-of-type {\n",
       "        vertical-align: middle;\n",
       "    }\n",
       "\n",
       "    .dataframe tbody tr th {\n",
       "        vertical-align: top;\n",
       "    }\n",
       "\n",
       "    .dataframe thead th {\n",
       "        text-align: right;\n",
       "    }\n",
       "</style>\n",
       "<table border=\"1\" class=\"dataframe\">\n",
       "  <thead>\n",
       "    <tr style=\"text-align: right;\">\n",
       "      <th></th>\n",
       "      <th>user_ID</th>\n",
       "      <th>user_name</th>\n",
       "      <th>city_name</th>\n",
       "      <th>mobile</th>\n",
       "      <th>email</th>\n",
       "      <th>email_verification_status</th>\n",
       "      <th>date_registered</th>\n",
       "      <th>last_ride_on</th>\n",
       "      <th>last_login</th>\n",
       "      <th>SMS_preferred</th>\n",
       "      <th>Email_preferred</th>\n",
       "      <th>Push_preferred</th>\n",
       "    </tr>\n",
       "  </thead>\n",
       "  <tbody>\n",
       "    <tr>\n",
       "      <th>151</th>\n",
       "      <td>15724926</td>\n",
       "      <td>Kishore Koner</td>\n",
       "      <td>Kolkata</td>\n",
       "      <td>+919903869255</td>\n",
       "      <td>krckoner@gmail.com</td>\n",
       "      <td>Unverified</td>\n",
       "      <td>2024-05-20 18:43:49</td>\n",
       "      <td>2024-05-20 19:36:00</td>\n",
       "      <td>2024-05-21 14:34:06</td>\n",
       "      <td>Yes</td>\n",
       "      <td>Yes</td>\n",
       "      <td>Yes</td>\n",
       "    </tr>\n",
       "    <tr>\n",
       "      <th>183</th>\n",
       "      <td>15724770</td>\n",
       "      <td>Yash Gupta</td>\n",
       "      <td>Kolkata</td>\n",
       "      <td>+918210666347</td>\n",
       "      <td>ygns3563@gmail.com</td>\n",
       "      <td>Unverified</td>\n",
       "      <td>2024-05-20 18:11:59</td>\n",
       "      <td>NaN</td>\n",
       "      <td>2024-05-21 08:30:27</td>\n",
       "      <td>Yes</td>\n",
       "      <td>Yes</td>\n",
       "      <td>Yes</td>\n",
       "    </tr>\n",
       "    <tr>\n",
       "      <th>195</th>\n",
       "      <td>15724712</td>\n",
       "      <td>Arvin Raihan</td>\n",
       "      <td>Kolkata</td>\n",
       "      <td>+917029791976</td>\n",
       "      <td>tanujaparvez70@gmail.com</td>\n",
       "      <td>Unverified</td>\n",
       "      <td>2024-05-20 18:01:17</td>\n",
       "      <td>2024-05-20 19:41:20</td>\n",
       "      <td>2024-05-21 14:41:44</td>\n",
       "      <td>Yes</td>\n",
       "      <td>Yes</td>\n",
       "      <td>Yes</td>\n",
       "    </tr>\n",
       "    <tr>\n",
       "      <th>252</th>\n",
       "      <td>15724403</td>\n",
       "      <td>Tanya Bondia</td>\n",
       "      <td>Kolkata</td>\n",
       "      <td>+918420460561</td>\n",
       "      <td>bondiatanya@yahoo.com</td>\n",
       "      <td>Unverified</td>\n",
       "      <td>2024-05-20 16:40:01</td>\n",
       "      <td>NaN</td>\n",
       "      <td>2024-05-21 15:01:18</td>\n",
       "      <td>Yes</td>\n",
       "      <td>Yes</td>\n",
       "      <td>Yes</td>\n",
       "    </tr>\n",
       "    <tr>\n",
       "      <th>266</th>\n",
       "      <td>15724348</td>\n",
       "      <td>Lalit Ray</td>\n",
       "      <td>Kolkata</td>\n",
       "      <td>+918017400543</td>\n",
       "      <td>raylalit524@gmail.com</td>\n",
       "      <td>Unverified</td>\n",
       "      <td>2024-05-20 16:25:21</td>\n",
       "      <td>NaN</td>\n",
       "      <td>2024-05-21 11:49:37</td>\n",
       "      <td>Yes</td>\n",
       "      <td>Yes</td>\n",
       "      <td>Yes</td>\n",
       "    </tr>\n",
       "  </tbody>\n",
       "</table>\n",
       "</div>"
      ],
      "text/plain": [
       "      user_ID      user_name city_name         mobile  \\\n",
       "151  15724926  Kishore Koner   Kolkata  +919903869255   \n",
       "183  15724770     Yash Gupta   Kolkata  +918210666347   \n",
       "195  15724712   Arvin Raihan   Kolkata  +917029791976   \n",
       "252  15724403   Tanya Bondia   Kolkata  +918420460561   \n",
       "266  15724348      Lalit Ray   Kolkata  +918017400543   \n",
       "\n",
       "                        email email_verification_status      date_registered  \\\n",
       "151        krckoner@gmail.com                Unverified  2024-05-20 18:43:49   \n",
       "183        ygns3563@gmail.com                Unverified  2024-05-20 18:11:59   \n",
       "195  tanujaparvez70@gmail.com                Unverified  2024-05-20 18:01:17   \n",
       "252     bondiatanya@yahoo.com                Unverified  2024-05-20 16:40:01   \n",
       "266     raylalit524@gmail.com                Unverified  2024-05-20 16:25:21   \n",
       "\n",
       "            last_ride_on           last_login SMS_preferred Email_preferred  \\\n",
       "151  2024-05-20 19:36:00  2024-05-21 14:34:06           Yes             Yes   \n",
       "183                  NaN  2024-05-21 08:30:27           Yes             Yes   \n",
       "195  2024-05-20 19:41:20  2024-05-21 14:41:44           Yes             Yes   \n",
       "252                  NaN  2024-05-21 15:01:18           Yes             Yes   \n",
       "266                  NaN  2024-05-21 11:49:37           Yes             Yes   \n",
       "\n",
       "    Push_preferred  \n",
       "151            Yes  \n",
       "183            Yes  \n",
       "195            Yes  \n",
       "252            Yes  \n",
       "266            Yes  "
      ]
     },
     "execution_count": 26,
     "metadata": {},
     "output_type": "execute_result"
    }
   ],
   "source": [
    "existing_mobiles.head()"
   ]
  },
  {
   "cell_type": "code",
   "execution_count": 27,
   "metadata": {},
   "outputs": [
    {
     "ename": "TypeError",
     "evalue": "bad operand type for unary ~: 'method'",
     "output_type": "error",
     "traceback": [
      "\u001b[0;31m---------------------------------------------------------------------------\u001b[0m",
      "\u001b[0;31mTypeError\u001b[0m                                 Traceback (most recent call last)",
      "Cell \u001b[0;32mIn[27], line 3\u001b[0m\n\u001b[1;32m      1\u001b[0m mobile_set \u001b[38;5;241m=\u001b[39m \u001b[38;5;28mset\u001b[39m(data[\u001b[38;5;124m'\u001b[39m\u001b[38;5;124mmobile\u001b[39m\u001b[38;5;124m'\u001b[39m])\n\u001b[0;32m----> 3\u001b[0m non_existing_mobiles \u001b[38;5;241m=\u001b[39m dataset2[\u001b[38;5;241;43m~\u001b[39;49m\u001b[43mdataset2\u001b[49m\u001b[43m[\u001b[49m\u001b[38;5;124;43m'\u001b[39;49m\u001b[38;5;124;43mmobile\u001b[39;49m\u001b[38;5;124;43m'\u001b[39;49m\u001b[43m]\u001b[49m\u001b[38;5;241;43m.\u001b[39;49m\u001b[43misin\u001b[49m](mobile_set)\n",
      "\u001b[0;31mTypeError\u001b[0m: bad operand type for unary ~: 'method'"
     ]
    }
   ],
   "source": [
    "mobile_set = set(data['mobile'])\n",
    "\n",
    "non_existing_mobiles = dataset2[~dataset2['mobile'].isin](mobile_set)\n"
   ]
  },
  {
   "cell_type": "code",
   "execution_count": 28,
   "metadata": {},
   "outputs": [],
   "source": [
    "non_existing_mobiles = dataset2[~dataset2['mobile'].isin(mobile_set)]\n"
   ]
  },
  {
   "cell_type": "code",
   "execution_count": 29,
   "metadata": {},
   "outputs": [
    {
     "data": {
      "text/html": [
       "<div>\n",
       "<style scoped>\n",
       "    .dataframe tbody tr th:only-of-type {\n",
       "        vertical-align: middle;\n",
       "    }\n",
       "\n",
       "    .dataframe tbody tr th {\n",
       "        vertical-align: top;\n",
       "    }\n",
       "\n",
       "    .dataframe thead th {\n",
       "        text-align: right;\n",
       "    }\n",
       "</style>\n",
       "<table border=\"1\" class=\"dataframe\">\n",
       "  <thead>\n",
       "    <tr style=\"text-align: right;\">\n",
       "      <th></th>\n",
       "      <th>mobile</th>\n",
       "    </tr>\n",
       "  </thead>\n",
       "  <tbody>\n",
       "    <tr>\n",
       "      <th>0</th>\n",
       "      <td>+917003175049</td>\n",
       "    </tr>\n",
       "    <tr>\n",
       "      <th>2</th>\n",
       "      <td>+916294035244</td>\n",
       "    </tr>\n",
       "    <tr>\n",
       "      <th>3</th>\n",
       "      <td>+919870506362</td>\n",
       "    </tr>\n",
       "    <tr>\n",
       "      <th>4</th>\n",
       "      <td>+918469645957</td>\n",
       "    </tr>\n",
       "    <tr>\n",
       "      <th>6</th>\n",
       "      <td>+919871606366</td>\n",
       "    </tr>\n",
       "    <tr>\n",
       "      <th>...</th>\n",
       "      <td>...</td>\n",
       "    </tr>\n",
       "    <tr>\n",
       "      <th>34114</th>\n",
       "      <td>+918910885973</td>\n",
       "    </tr>\n",
       "    <tr>\n",
       "      <th>34115</th>\n",
       "      <td>+918335804595</td>\n",
       "    </tr>\n",
       "    <tr>\n",
       "      <th>34116</th>\n",
       "      <td>+917003132806</td>\n",
       "    </tr>\n",
       "    <tr>\n",
       "      <th>34117</th>\n",
       "      <td>+918171276017</td>\n",
       "    </tr>\n",
       "    <tr>\n",
       "      <th>34118</th>\n",
       "      <td>+917781003366</td>\n",
       "    </tr>\n",
       "  </tbody>\n",
       "</table>\n",
       "<p>561 rows × 1 columns</p>\n",
       "</div>"
      ],
      "text/plain": [
       "              mobile\n",
       "0      +917003175049\n",
       "2      +916294035244\n",
       "3      +919870506362\n",
       "4      +918469645957\n",
       "6      +919871606366\n",
       "...              ...\n",
       "34114  +918910885973\n",
       "34115  +918335804595\n",
       "34116  +917003132806\n",
       "34117  +918171276017\n",
       "34118  +917781003366\n",
       "\n",
       "[561 rows x 1 columns]"
      ]
     },
     "execution_count": 29,
     "metadata": {},
     "output_type": "execute_result"
    }
   ],
   "source": [
    "non_existing_mobiles"
   ]
  },
  {
   "cell_type": "code",
   "execution_count": 30,
   "metadata": {},
   "outputs": [],
   "source": [
    "non_existing_mobiles.to_excel(\"Non_existing_mobiles.xlsx\",index=True)"
   ]
  },
  {
   "cell_type": "code",
   "execution_count": 31,
   "metadata": {},
   "outputs": [],
   "source": [
    "existing_mobiles.to_excel(\"existing_mobiles.xlsx\",index=True)"
   ]
  },
  {
   "cell_type": "code",
   "execution_count": 32,
   "metadata": {},
   "outputs": [
    {
     "data": {
      "text/plain": [
       "5800"
      ]
     },
     "execution_count": 32,
     "metadata": {},
     "output_type": "execute_result"
    }
   ],
   "source": [
    "existing_mobiles['last_ride_on'].isnull().sum()"
   ]
  },
  {
   "cell_type": "code",
   "execution_count": 33,
   "metadata": {},
   "outputs": [
    {
     "data": {
      "text/html": [
       "<div>\n",
       "<style scoped>\n",
       "    .dataframe tbody tr th:only-of-type {\n",
       "        vertical-align: middle;\n",
       "    }\n",
       "\n",
       "    .dataframe tbody tr th {\n",
       "        vertical-align: top;\n",
       "    }\n",
       "\n",
       "    .dataframe thead th {\n",
       "        text-align: right;\n",
       "    }\n",
       "</style>\n",
       "<table border=\"1\" class=\"dataframe\">\n",
       "  <thead>\n",
       "    <tr style=\"text-align: right;\">\n",
       "      <th></th>\n",
       "      <th>user_ID</th>\n",
       "      <th>user_name</th>\n",
       "      <th>city_name</th>\n",
       "      <th>mobile</th>\n",
       "      <th>email</th>\n",
       "      <th>email_verification_status</th>\n",
       "      <th>date_registered</th>\n",
       "      <th>last_ride_on</th>\n",
       "      <th>last_login</th>\n",
       "      <th>SMS_preferred</th>\n",
       "      <th>Email_preferred</th>\n",
       "      <th>Push_preferred</th>\n",
       "    </tr>\n",
       "  </thead>\n",
       "  <tbody>\n",
       "    <tr>\n",
       "      <th>151</th>\n",
       "      <td>15724926</td>\n",
       "      <td>Kishore Koner</td>\n",
       "      <td>Kolkata</td>\n",
       "      <td>+919903869255</td>\n",
       "      <td>krckoner@gmail.com</td>\n",
       "      <td>Unverified</td>\n",
       "      <td>2024-05-20 18:43:49</td>\n",
       "      <td>2024-05-20 19:36:00</td>\n",
       "      <td>2024-05-21 14:34:06</td>\n",
       "      <td>Yes</td>\n",
       "      <td>Yes</td>\n",
       "      <td>Yes</td>\n",
       "    </tr>\n",
       "    <tr>\n",
       "      <th>183</th>\n",
       "      <td>15724770</td>\n",
       "      <td>Yash Gupta</td>\n",
       "      <td>Kolkata</td>\n",
       "      <td>+918210666347</td>\n",
       "      <td>ygns3563@gmail.com</td>\n",
       "      <td>Unverified</td>\n",
       "      <td>2024-05-20 18:11:59</td>\n",
       "      <td>NaN</td>\n",
       "      <td>2024-05-21 08:30:27</td>\n",
       "      <td>Yes</td>\n",
       "      <td>Yes</td>\n",
       "      <td>Yes</td>\n",
       "    </tr>\n",
       "    <tr>\n",
       "      <th>195</th>\n",
       "      <td>15724712</td>\n",
       "      <td>Arvin Raihan</td>\n",
       "      <td>Kolkata</td>\n",
       "      <td>+917029791976</td>\n",
       "      <td>tanujaparvez70@gmail.com</td>\n",
       "      <td>Unverified</td>\n",
       "      <td>2024-05-20 18:01:17</td>\n",
       "      <td>2024-05-20 19:41:20</td>\n",
       "      <td>2024-05-21 14:41:44</td>\n",
       "      <td>Yes</td>\n",
       "      <td>Yes</td>\n",
       "      <td>Yes</td>\n",
       "    </tr>\n",
       "    <tr>\n",
       "      <th>252</th>\n",
       "      <td>15724403</td>\n",
       "      <td>Tanya Bondia</td>\n",
       "      <td>Kolkata</td>\n",
       "      <td>+918420460561</td>\n",
       "      <td>bondiatanya@yahoo.com</td>\n",
       "      <td>Unverified</td>\n",
       "      <td>2024-05-20 16:40:01</td>\n",
       "      <td>NaN</td>\n",
       "      <td>2024-05-21 15:01:18</td>\n",
       "      <td>Yes</td>\n",
       "      <td>Yes</td>\n",
       "      <td>Yes</td>\n",
       "    </tr>\n",
       "    <tr>\n",
       "      <th>266</th>\n",
       "      <td>15724348</td>\n",
       "      <td>Lalit Ray</td>\n",
       "      <td>Kolkata</td>\n",
       "      <td>+918017400543</td>\n",
       "      <td>raylalit524@gmail.com</td>\n",
       "      <td>Unverified</td>\n",
       "      <td>2024-05-20 16:25:21</td>\n",
       "      <td>NaN</td>\n",
       "      <td>2024-05-21 11:49:37</td>\n",
       "      <td>Yes</td>\n",
       "      <td>Yes</td>\n",
       "      <td>Yes</td>\n",
       "    </tr>\n",
       "  </tbody>\n",
       "</table>\n",
       "</div>"
      ],
      "text/plain": [
       "      user_ID      user_name city_name         mobile  \\\n",
       "151  15724926  Kishore Koner   Kolkata  +919903869255   \n",
       "183  15724770     Yash Gupta   Kolkata  +918210666347   \n",
       "195  15724712   Arvin Raihan   Kolkata  +917029791976   \n",
       "252  15724403   Tanya Bondia   Kolkata  +918420460561   \n",
       "266  15724348      Lalit Ray   Kolkata  +918017400543   \n",
       "\n",
       "                        email email_verification_status      date_registered  \\\n",
       "151        krckoner@gmail.com                Unverified  2024-05-20 18:43:49   \n",
       "183        ygns3563@gmail.com                Unverified  2024-05-20 18:11:59   \n",
       "195  tanujaparvez70@gmail.com                Unverified  2024-05-20 18:01:17   \n",
       "252     bondiatanya@yahoo.com                Unverified  2024-05-20 16:40:01   \n",
       "266     raylalit524@gmail.com                Unverified  2024-05-20 16:25:21   \n",
       "\n",
       "            last_ride_on           last_login SMS_preferred Email_preferred  \\\n",
       "151  2024-05-20 19:36:00  2024-05-21 14:34:06           Yes             Yes   \n",
       "183                  NaN  2024-05-21 08:30:27           Yes             Yes   \n",
       "195  2024-05-20 19:41:20  2024-05-21 14:41:44           Yes             Yes   \n",
       "252                  NaN  2024-05-21 15:01:18           Yes             Yes   \n",
       "266                  NaN  2024-05-21 11:49:37           Yes             Yes   \n",
       "\n",
       "    Push_preferred  \n",
       "151            Yes  \n",
       "183            Yes  \n",
       "195            Yes  \n",
       "252            Yes  \n",
       "266            Yes  "
      ]
     },
     "execution_count": 33,
     "metadata": {},
     "output_type": "execute_result"
    }
   ],
   "source": [
    "existing_mobiles.head()"
   ]
  },
  {
   "cell_type": "code",
   "execution_count": 34,
   "metadata": {},
   "outputs": [
    {
     "name": "stdout",
     "output_type": "stream",
     "text": [
      "<class 'pandas.core.frame.DataFrame'>\n",
      "RangeIndex: 590467 entries, 0 to 590466\n",
      "Data columns (total 12 columns):\n",
      " #   Column                     Non-Null Count   Dtype \n",
      "---  ------                     --------------   ----- \n",
      " 0   user_ID                    590467 non-null  int64 \n",
      " 1   user_name                  590467 non-null  object\n",
      " 2   city_name                  590467 non-null  object\n",
      " 3   mobile                     590467 non-null  object\n",
      " 4   email                      590467 non-null  object\n",
      " 5   email_verification_status  590467 non-null  object\n",
      " 6   date_registered            590467 non-null  object\n",
      " 7   last_ride_on               234698 non-null  object\n",
      " 8   last_login                 564836 non-null  object\n",
      " 9   SMS_preferred              590467 non-null  object\n",
      " 10  Email_preferred            590467 non-null  object\n",
      " 11  Push_preferred             590467 non-null  object\n",
      "dtypes: int64(1), object(11)\n",
      "memory usage: 54.1+ MB\n"
     ]
    }
   ],
   "source": [
    "data.info()"
   ]
  },
  {
   "cell_type": "code",
   "execution_count": 35,
   "metadata": {},
   "outputs": [],
   "source": [
    "data['last_ride_on']=pd.to_datetime(data['last_ride_on'], format='%Y-%m-%d %H:%M:%S', errors='coerce')\n"
   ]
  },
  {
   "cell_type": "code",
   "execution_count": 36,
   "metadata": {},
   "outputs": [],
   "source": [
    "after_april=data[data['last_ride_on']>\"2024-04-01 00:00:00\"]"
   ]
  },
  {
   "cell_type": "code",
   "execution_count": 37,
   "metadata": {},
   "outputs": [],
   "source": [
    "mobile_set = set(dataset2['mobile'])"
   ]
  },
  {
   "cell_type": "code",
   "execution_count": 38,
   "metadata": {},
   "outputs": [
    {
     "name": "stdout",
     "output_type": "stream",
     "text": [
      "<class 'pandas.core.frame.DataFrame'>\n",
      "Index: 70986 entries, 32 to 589766\n",
      "Data columns (total 12 columns):\n",
      " #   Column                     Non-Null Count  Dtype         \n",
      "---  ------                     --------------  -----         \n",
      " 0   user_ID                    70986 non-null  int64         \n",
      " 1   user_name                  70986 non-null  object        \n",
      " 2   city_name                  70986 non-null  object        \n",
      " 3   mobile                     70986 non-null  object        \n",
      " 4   email                      70986 non-null  object        \n",
      " 5   email_verification_status  70986 non-null  object        \n",
      " 6   date_registered            70986 non-null  object        \n",
      " 7   last_ride_on               70986 non-null  datetime64[ns]\n",
      " 8   last_login                 64551 non-null  object        \n",
      " 9   SMS_preferred              70986 non-null  object        \n",
      " 10  Email_preferred            70986 non-null  object        \n",
      " 11  Push_preferred             70986 non-null  object        \n",
      "dtypes: datetime64[ns](1), int64(1), object(10)\n",
      "memory usage: 7.0+ MB\n"
     ]
    }
   ],
   "source": [
    "after_april.info()"
   ]
  },
  {
   "cell_type": "code",
   "execution_count": 39,
   "metadata": {},
   "outputs": [
    {
     "data": {
      "text/html": [
       "<div>\n",
       "<style scoped>\n",
       "    .dataframe tbody tr th:only-of-type {\n",
       "        vertical-align: middle;\n",
       "    }\n",
       "\n",
       "    .dataframe tbody tr th {\n",
       "        vertical-align: top;\n",
       "    }\n",
       "\n",
       "    .dataframe thead th {\n",
       "        text-align: right;\n",
       "    }\n",
       "</style>\n",
       "<table border=\"1\" class=\"dataframe\">\n",
       "  <thead>\n",
       "    <tr style=\"text-align: right;\">\n",
       "      <th></th>\n",
       "      <th>user_ID</th>\n",
       "      <th>user_name</th>\n",
       "      <th>city_name</th>\n",
       "      <th>mobile</th>\n",
       "      <th>email</th>\n",
       "      <th>email_verification_status</th>\n",
       "      <th>date_registered</th>\n",
       "      <th>last_ride_on</th>\n",
       "      <th>last_login</th>\n",
       "      <th>SMS_preferred</th>\n",
       "      <th>Email_preferred</th>\n",
       "      <th>Push_preferred</th>\n",
       "    </tr>\n",
       "  </thead>\n",
       "  <tbody>\n",
       "    <tr>\n",
       "      <th>151</th>\n",
       "      <td>15724926</td>\n",
       "      <td>Kishore Koner</td>\n",
       "      <td>Kolkata</td>\n",
       "      <td>+919903869255</td>\n",
       "      <td>krckoner@gmail.com</td>\n",
       "      <td>Unverified</td>\n",
       "      <td>2024-05-20 18:43:49</td>\n",
       "      <td>2024-05-20 19:36:00</td>\n",
       "      <td>2024-05-21 14:34:06</td>\n",
       "      <td>Yes</td>\n",
       "      <td>Yes</td>\n",
       "      <td>Yes</td>\n",
       "    </tr>\n",
       "    <tr>\n",
       "      <th>195</th>\n",
       "      <td>15724712</td>\n",
       "      <td>Arvin Raihan</td>\n",
       "      <td>Kolkata</td>\n",
       "      <td>+917029791976</td>\n",
       "      <td>tanujaparvez70@gmail.com</td>\n",
       "      <td>Unverified</td>\n",
       "      <td>2024-05-20 18:01:17</td>\n",
       "      <td>2024-05-20 19:41:20</td>\n",
       "      <td>2024-05-21 14:41:44</td>\n",
       "      <td>Yes</td>\n",
       "      <td>Yes</td>\n",
       "      <td>Yes</td>\n",
       "    </tr>\n",
       "    <tr>\n",
       "      <th>308</th>\n",
       "      <td>15725543</td>\n",
       "      <td>NITESH KUMAR</td>\n",
       "      <td>Not Defined</td>\n",
       "      <td>+918554989746</td>\n",
       "      <td>guest_+918554989746@email.com</td>\n",
       "      <td>Unverified</td>\n",
       "      <td>2024-05-20 15:37:12</td>\n",
       "      <td>2024-05-20 15:57:24</td>\n",
       "      <td>NaN</td>\n",
       "      <td>Yes</td>\n",
       "      <td>Yes</td>\n",
       "      <td>Yes</td>\n",
       "    </tr>\n",
       "    <tr>\n",
       "      <th>314</th>\n",
       "      <td>15724124</td>\n",
       "      <td>Tamal Mandal</td>\n",
       "      <td>Kolkata</td>\n",
       "      <td>+916299902153</td>\n",
       "      <td>tamalmandal12@gmail.com</td>\n",
       "      <td>Verified</td>\n",
       "      <td>2024-05-20 15:32:12</td>\n",
       "      <td>2024-05-20 16:48:27</td>\n",
       "      <td>2024-05-20 23:59:14</td>\n",
       "      <td>Yes</td>\n",
       "      <td>Yes</td>\n",
       "      <td>Yes</td>\n",
       "    </tr>\n",
       "    <tr>\n",
       "      <th>335</th>\n",
       "      <td>15725437</td>\n",
       "      <td>S</td>\n",
       "      <td>Not Defined</td>\n",
       "      <td>+918989253678</td>\n",
       "      <td>guest_+918989253678@email.com</td>\n",
       "      <td>Unverified</td>\n",
       "      <td>2024-05-20 15:06:41</td>\n",
       "      <td>2024-05-20 15:53:00</td>\n",
       "      <td>NaN</td>\n",
       "      <td>Yes</td>\n",
       "      <td>Yes</td>\n",
       "      <td>Yes</td>\n",
       "    </tr>\n",
       "    <tr>\n",
       "      <th>...</th>\n",
       "      <td>...</td>\n",
       "      <td>...</td>\n",
       "      <td>...</td>\n",
       "      <td>...</td>\n",
       "      <td>...</td>\n",
       "      <td>...</td>\n",
       "      <td>...</td>\n",
       "      <td>...</td>\n",
       "      <td>...</td>\n",
       "      <td>...</td>\n",
       "      <td>...</td>\n",
       "      <td>...</td>\n",
       "    </tr>\n",
       "    <tr>\n",
       "      <th>589441</th>\n",
       "      <td>13120361</td>\n",
       "      <td>Amit Pal Chowdhury</td>\n",
       "      <td>Kolkata</td>\n",
       "      <td>+919088008587</td>\n",
       "      <td>amit.chowdhury@elastic.run</td>\n",
       "      <td>Unverified</td>\n",
       "      <td>2022-12-02 02:17:33</td>\n",
       "      <td>2024-05-10 16:13:13</td>\n",
       "      <td>2024-05-17 21:43:00</td>\n",
       "      <td>Yes</td>\n",
       "      <td>Yes</td>\n",
       "      <td>Yes</td>\n",
       "    </tr>\n",
       "    <tr>\n",
       "      <th>589443</th>\n",
       "      <td>13120357</td>\n",
       "      <td>Amit Kochar</td>\n",
       "      <td>Kolkata</td>\n",
       "      <td>+919330793309</td>\n",
       "      <td>amitkochar3@gmail.com</td>\n",
       "      <td>Unverified</td>\n",
       "      <td>2022-12-02 02:17:09</td>\n",
       "      <td>2024-05-19 08:46:52</td>\n",
       "      <td>2024-05-19 08:16:23</td>\n",
       "      <td>Yes</td>\n",
       "      <td>Yes</td>\n",
       "      <td>Yes</td>\n",
       "    </tr>\n",
       "    <tr>\n",
       "      <th>589511</th>\n",
       "      <td>13120229</td>\n",
       "      <td>Aditya Mandal</td>\n",
       "      <td>Kolkata</td>\n",
       "      <td>+919748270706</td>\n",
       "      <td>adimandal005@gmail.com</td>\n",
       "      <td>Unverified</td>\n",
       "      <td>2022-12-02 01:57:59</td>\n",
       "      <td>2024-04-06 13:42:51</td>\n",
       "      <td>2024-04-06 13:11:20</td>\n",
       "      <td>Yes</td>\n",
       "      <td>Yes</td>\n",
       "      <td>Yes</td>\n",
       "    </tr>\n",
       "    <tr>\n",
       "      <th>589574</th>\n",
       "      <td>13120114</td>\n",
       "      <td>Aanchal Gourisaria</td>\n",
       "      <td>Kolkata</td>\n",
       "      <td>+919163167771</td>\n",
       "      <td>gourisariaaanchal@gmail.com</td>\n",
       "      <td>Unverified</td>\n",
       "      <td>2022-12-02 01:39:11</td>\n",
       "      <td>2024-05-18 14:25:31</td>\n",
       "      <td>2024-05-18 17:44:53</td>\n",
       "      <td>Yes</td>\n",
       "      <td>Yes</td>\n",
       "      <td>Yes</td>\n",
       "    </tr>\n",
       "    <tr>\n",
       "      <th>589608</th>\n",
       "      <td>13120067</td>\n",
       "      <td>9836319051 Mundhra</td>\n",
       "      <td>Kolkata</td>\n",
       "      <td>+919836319051</td>\n",
       "      <td>vinaymundhra9051@yahoo.Com</td>\n",
       "      <td>Unverified</td>\n",
       "      <td>2022-12-02 01:29:27</td>\n",
       "      <td>2024-05-09 16:49:41</td>\n",
       "      <td>2024-05-17 10:22:00</td>\n",
       "      <td>Yes</td>\n",
       "      <td>Yes</td>\n",
       "      <td>Yes</td>\n",
       "    </tr>\n",
       "  </tbody>\n",
       "</table>\n",
       "<p>17551 rows × 12 columns</p>\n",
       "</div>"
      ],
      "text/plain": [
       "         user_ID           user_name    city_name         mobile  \\\n",
       "151     15724926       Kishore Koner      Kolkata  +919903869255   \n",
       "195     15724712        Arvin Raihan      Kolkata  +917029791976   \n",
       "308     15725543        NITESH KUMAR  Not Defined  +918554989746   \n",
       "314     15724124        Tamal Mandal      Kolkata  +916299902153   \n",
       "335     15725437                   S  Not Defined  +918989253678   \n",
       "...          ...                 ...          ...            ...   \n",
       "589441  13120361  Amit Pal Chowdhury      Kolkata  +919088008587   \n",
       "589443  13120357         Amit Kochar      Kolkata  +919330793309   \n",
       "589511  13120229       Aditya Mandal      Kolkata  +919748270706   \n",
       "589574  13120114  Aanchal Gourisaria      Kolkata  +919163167771   \n",
       "589608  13120067  9836319051 Mundhra      Kolkata  +919836319051   \n",
       "\n",
       "                                email email_verification_status  \\\n",
       "151                krckoner@gmail.com                Unverified   \n",
       "195          tanujaparvez70@gmail.com                Unverified   \n",
       "308     guest_+918554989746@email.com                Unverified   \n",
       "314           tamalmandal12@gmail.com                  Verified   \n",
       "335     guest_+918989253678@email.com                Unverified   \n",
       "...                               ...                       ...   \n",
       "589441     amit.chowdhury@elastic.run                Unverified   \n",
       "589443          amitkochar3@gmail.com                Unverified   \n",
       "589511         adimandal005@gmail.com                Unverified   \n",
       "589574    gourisariaaanchal@gmail.com                Unverified   \n",
       "589608     vinaymundhra9051@yahoo.Com                Unverified   \n",
       "\n",
       "            date_registered        last_ride_on           last_login  \\\n",
       "151     2024-05-20 18:43:49 2024-05-20 19:36:00  2024-05-21 14:34:06   \n",
       "195     2024-05-20 18:01:17 2024-05-20 19:41:20  2024-05-21 14:41:44   \n",
       "308     2024-05-20 15:37:12 2024-05-20 15:57:24                  NaN   \n",
       "314     2024-05-20 15:32:12 2024-05-20 16:48:27  2024-05-20 23:59:14   \n",
       "335     2024-05-20 15:06:41 2024-05-20 15:53:00                  NaN   \n",
       "...                     ...                 ...                  ...   \n",
       "589441  2022-12-02 02:17:33 2024-05-10 16:13:13  2024-05-17 21:43:00   \n",
       "589443  2022-12-02 02:17:09 2024-05-19 08:46:52  2024-05-19 08:16:23   \n",
       "589511  2022-12-02 01:57:59 2024-04-06 13:42:51  2024-04-06 13:11:20   \n",
       "589574  2022-12-02 01:39:11 2024-05-18 14:25:31  2024-05-18 17:44:53   \n",
       "589608  2022-12-02 01:29:27 2024-05-09 16:49:41  2024-05-17 10:22:00   \n",
       "\n",
       "       SMS_preferred Email_preferred Push_preferred  \n",
       "151              Yes             Yes            Yes  \n",
       "195              Yes             Yes            Yes  \n",
       "308              Yes             Yes            Yes  \n",
       "314              Yes             Yes            Yes  \n",
       "335              Yes             Yes            Yes  \n",
       "...              ...             ...            ...  \n",
       "589441           Yes             Yes            Yes  \n",
       "589443           Yes             Yes            Yes  \n",
       "589511           Yes             Yes            Yes  \n",
       "589574           Yes             Yes            Yes  \n",
       "589608           Yes             Yes            Yes  \n",
       "\n",
       "[17551 rows x 12 columns]"
      ]
     },
     "execution_count": 39,
     "metadata": {},
     "output_type": "execute_result"
    }
   ],
   "source": [
    "after_april[after_april['mobile'].isin(mobile_set)]"
   ]
  },
  {
   "cell_type": "markdown",
   "metadata": {},
   "source": [
    "april ke baad total rides - 70k.\n",
    "But, only 17.5k from these 70k matched in new app."
   ]
  },
  {
   "cell_type": "code",
   "execution_count": 40,
   "metadata": {},
   "outputs": [
    {
     "data": {
      "text/html": [
       "<div>\n",
       "<style scoped>\n",
       "    .dataframe tbody tr th:only-of-type {\n",
       "        vertical-align: middle;\n",
       "    }\n",
       "\n",
       "    .dataframe tbody tr th {\n",
       "        vertical-align: top;\n",
       "    }\n",
       "\n",
       "    .dataframe thead th {\n",
       "        text-align: right;\n",
       "    }\n",
       "</style>\n",
       "<table border=\"1\" class=\"dataframe\">\n",
       "  <thead>\n",
       "    <tr style=\"text-align: right;\">\n",
       "      <th></th>\n",
       "      <th>user_ID</th>\n",
       "      <th>user_name</th>\n",
       "      <th>city_name</th>\n",
       "      <th>mobile</th>\n",
       "      <th>email</th>\n",
       "      <th>email_verification_status</th>\n",
       "      <th>date_registered</th>\n",
       "      <th>last_ride_on</th>\n",
       "      <th>last_login</th>\n",
       "      <th>SMS_preferred</th>\n",
       "      <th>Email_preferred</th>\n",
       "      <th>Push_preferred</th>\n",
       "    </tr>\n",
       "  </thead>\n",
       "  <tbody>\n",
       "    <tr>\n",
       "      <th>16082</th>\n",
       "      <td>15635386</td>\n",
       "      <td>Aayush Jain</td>\n",
       "      <td>Kolkata</td>\n",
       "      <td>+919300319597</td>\n",
       "      <td>bt22cse089@iiitn.ac.in</td>\n",
       "      <td>Unverified</td>\n",
       "      <td>2024-05-04 23:41:13</td>\n",
       "      <td>2024-05-20 14:32:24</td>\n",
       "      <td>2024-05-20 14:32:21</td>\n",
       "      <td>Yes</td>\n",
       "      <td>Yes</td>\n",
       "      <td>Yes</td>\n",
       "    </tr>\n",
       "    <tr>\n",
       "      <th>36777</th>\n",
       "      <td>15554192</td>\n",
       "      <td>Aayush Jain</td>\n",
       "      <td>Kolkata</td>\n",
       "      <td>+918560906150</td>\n",
       "      <td>918560906150x89@email.com</td>\n",
       "      <td>Unverified</td>\n",
       "      <td>2024-04-18 10:09:35</td>\n",
       "      <td>NaT</td>\n",
       "      <td>2024-04-18 10:09:35</td>\n",
       "      <td>Yes</td>\n",
       "      <td>Yes</td>\n",
       "      <td>Yes</td>\n",
       "    </tr>\n",
       "    <tr>\n",
       "      <th>165607</th>\n",
       "      <td>15099799</td>\n",
       "      <td>Aayush Jain</td>\n",
       "      <td>Kolkata</td>\n",
       "      <td>+919855059750</td>\n",
       "      <td>aayush530@gmail.com</td>\n",
       "      <td>Unverified</td>\n",
       "      <td>2023-12-17 19:03:46</td>\n",
       "      <td>NaT</td>\n",
       "      <td>2024-01-03 12:37:56</td>\n",
       "      <td>Yes</td>\n",
       "      <td>Yes</td>\n",
       "      <td>Yes</td>\n",
       "    </tr>\n",
       "    <tr>\n",
       "      <th>212182</th>\n",
       "      <td>14921681</td>\n",
       "      <td>Aayush Jain</td>\n",
       "      <td>Kolkata</td>\n",
       "      <td>+919820621210</td>\n",
       "      <td>aayushjain1098@gmail.com</td>\n",
       "      <td>Unverified</td>\n",
       "      <td>2023-11-04 11:29:47</td>\n",
       "      <td>NaT</td>\n",
       "      <td>2024-05-12 17:07:01</td>\n",
       "      <td>Yes</td>\n",
       "      <td>Yes</td>\n",
       "      <td>Yes</td>\n",
       "    </tr>\n",
       "    <tr>\n",
       "      <th>319842</th>\n",
       "      <td>14458247</td>\n",
       "      <td>Aayush Jain</td>\n",
       "      <td>Kolkata</td>\n",
       "      <td>+919619066816</td>\n",
       "      <td>aayushisalways@gmail.com</td>\n",
       "      <td>Unverified</td>\n",
       "      <td>2023-07-21 13:59:49</td>\n",
       "      <td>NaT</td>\n",
       "      <td>2024-01-01 22:05:55</td>\n",
       "      <td>Yes</td>\n",
       "      <td>Yes</td>\n",
       "      <td>Yes</td>\n",
       "    </tr>\n",
       "    <tr>\n",
       "      <th>360820</th>\n",
       "      <td>14308286</td>\n",
       "      <td>Aayush Jain</td>\n",
       "      <td>Kolkata</td>\n",
       "      <td>+919874616115</td>\n",
       "      <td>jainaayush793@gmail.com</td>\n",
       "      <td>Unverified</td>\n",
       "      <td>2023-06-20 19:16:20</td>\n",
       "      <td>NaT</td>\n",
       "      <td>2023-06-20 19:16:21</td>\n",
       "      <td>Yes</td>\n",
       "      <td>Yes</td>\n",
       "      <td>Yes</td>\n",
       "    </tr>\n",
       "    <tr>\n",
       "      <th>455748</th>\n",
       "      <td>13925743</td>\n",
       "      <td>Aayush Jain</td>\n",
       "      <td>Kolkata</td>\n",
       "      <td>+918700631758</td>\n",
       "      <td>aayush.jain267@yahoo.com</td>\n",
       "      <td>Unverified</td>\n",
       "      <td>2023-04-16 12:46:47</td>\n",
       "      <td>2024-04-18 14:16:46</td>\n",
       "      <td>2024-04-20 22:26:56</td>\n",
       "      <td>Yes</td>\n",
       "      <td>Yes</td>\n",
       "      <td>Yes</td>\n",
       "    </tr>\n",
       "    <tr>\n",
       "      <th>536602</th>\n",
       "      <td>13405295</td>\n",
       "      <td>Aayush Jain</td>\n",
       "      <td>Kolkata</td>\n",
       "      <td>+917044433177</td>\n",
       "      <td>ayushdoshi2020@gmail.com</td>\n",
       "      <td>Unverified</td>\n",
       "      <td>2023-02-04 15:58:43</td>\n",
       "      <td>2023-06-03 11:43:52</td>\n",
       "      <td>2023-06-13 12:24:07</td>\n",
       "      <td>Yes</td>\n",
       "      <td>Yes</td>\n",
       "      <td>Yes</td>\n",
       "    </tr>\n",
       "    <tr>\n",
       "      <th>565007</th>\n",
       "      <td>13269359</td>\n",
       "      <td>Aayush Jain</td>\n",
       "      <td>Kolkata</td>\n",
       "      <td>+919830062273</td>\n",
       "      <td>aayush.jain377@gmail.com</td>\n",
       "      <td>Unverified</td>\n",
       "      <td>2023-01-03 10:27:15</td>\n",
       "      <td>2023-01-29 14:02:39</td>\n",
       "      <td>2024-05-02 10:27:13</td>\n",
       "      <td>Yes</td>\n",
       "      <td>Yes</td>\n",
       "      <td>Yes</td>\n",
       "    </tr>\n",
       "  </tbody>\n",
       "</table>\n",
       "</div>"
      ],
      "text/plain": [
       "         user_ID    user_name city_name         mobile  \\\n",
       "16082   15635386  Aayush Jain   Kolkata  +919300319597   \n",
       "36777   15554192  Aayush Jain   Kolkata  +918560906150   \n",
       "165607  15099799  Aayush Jain   Kolkata  +919855059750   \n",
       "212182  14921681  Aayush Jain   Kolkata  +919820621210   \n",
       "319842  14458247  Aayush Jain   Kolkata  +919619066816   \n",
       "360820  14308286  Aayush Jain   Kolkata  +919874616115   \n",
       "455748  13925743  Aayush Jain   Kolkata  +918700631758   \n",
       "536602  13405295  Aayush Jain   Kolkata  +917044433177   \n",
       "565007  13269359  Aayush Jain   Kolkata  +919830062273   \n",
       "\n",
       "                            email email_verification_status  \\\n",
       "16082      bt22cse089@iiitn.ac.in                Unverified   \n",
       "36777   918560906150x89@email.com                Unverified   \n",
       "165607        aayush530@gmail.com                Unverified   \n",
       "212182   aayushjain1098@gmail.com                Unverified   \n",
       "319842   aayushisalways@gmail.com                Unverified   \n",
       "360820    jainaayush793@gmail.com                Unverified   \n",
       "455748   aayush.jain267@yahoo.com                Unverified   \n",
       "536602   ayushdoshi2020@gmail.com                Unverified   \n",
       "565007   aayush.jain377@gmail.com                Unverified   \n",
       "\n",
       "            date_registered        last_ride_on           last_login  \\\n",
       "16082   2024-05-04 23:41:13 2024-05-20 14:32:24  2024-05-20 14:32:21   \n",
       "36777   2024-04-18 10:09:35                 NaT  2024-04-18 10:09:35   \n",
       "165607  2023-12-17 19:03:46                 NaT  2024-01-03 12:37:56   \n",
       "212182  2023-11-04 11:29:47                 NaT  2024-05-12 17:07:01   \n",
       "319842  2023-07-21 13:59:49                 NaT  2024-01-01 22:05:55   \n",
       "360820  2023-06-20 19:16:20                 NaT  2023-06-20 19:16:21   \n",
       "455748  2023-04-16 12:46:47 2024-04-18 14:16:46  2024-04-20 22:26:56   \n",
       "536602  2023-02-04 15:58:43 2023-06-03 11:43:52  2023-06-13 12:24:07   \n",
       "565007  2023-01-03 10:27:15 2023-01-29 14:02:39  2024-05-02 10:27:13   \n",
       "\n",
       "       SMS_preferred Email_preferred Push_preferred  \n",
       "16082            Yes             Yes            Yes  \n",
       "36777            Yes             Yes            Yes  \n",
       "165607           Yes             Yes            Yes  \n",
       "212182           Yes             Yes            Yes  \n",
       "319842           Yes             Yes            Yes  \n",
       "360820           Yes             Yes            Yes  \n",
       "455748           Yes             Yes            Yes  \n",
       "536602           Yes             Yes            Yes  \n",
       "565007           Yes             Yes            Yes  "
      ]
     },
     "execution_count": 40,
     "metadata": {},
     "output_type": "execute_result"
    }
   ],
   "source": [
    "data[data['user_name']=='Aayush Jain']"
   ]
  },
  {
   "cell_type": "code",
   "execution_count": 41,
   "metadata": {},
   "outputs": [
    {
     "data": {
      "text/plain": [
       "355769"
      ]
     },
     "execution_count": 41,
     "metadata": {},
     "output_type": "execute_result"
    }
   ],
   "source": [
    "data['last_ride_on'].isnull().sum()"
   ]
  },
  {
   "cell_type": "markdown",
   "metadata": {},
   "source": [
    "2.5L customers\n"
   ]
  },
  {
   "cell_type": "code",
   "execution_count": 42,
   "metadata": {},
   "outputs": [
    {
     "data": {
      "text/html": [
       "<div>\n",
       "<style scoped>\n",
       "    .dataframe tbody tr th:only-of-type {\n",
       "        vertical-align: middle;\n",
       "    }\n",
       "\n",
       "    .dataframe tbody tr th {\n",
       "        vertical-align: top;\n",
       "    }\n",
       "\n",
       "    .dataframe thead th {\n",
       "        text-align: right;\n",
       "    }\n",
       "</style>\n",
       "<table border=\"1\" class=\"dataframe\">\n",
       "  <thead>\n",
       "    <tr style=\"text-align: right;\">\n",
       "      <th></th>\n",
       "      <th>user_ID</th>\n",
       "      <th>user_name</th>\n",
       "      <th>city_name</th>\n",
       "      <th>mobile</th>\n",
       "      <th>email</th>\n",
       "      <th>email_verification_status</th>\n",
       "      <th>date_registered</th>\n",
       "      <th>last_ride_on</th>\n",
       "      <th>last_login</th>\n",
       "      <th>SMS_preferred</th>\n",
       "      <th>Email_preferred</th>\n",
       "      <th>Push_preferred</th>\n",
       "    </tr>\n",
       "  </thead>\n",
       "  <tbody>\n",
       "    <tr>\n",
       "      <th>16082</th>\n",
       "      <td>15635386</td>\n",
       "      <td>Aayush Jain</td>\n",
       "      <td>Kolkata</td>\n",
       "      <td>+919300319597</td>\n",
       "      <td>bt22cse089@iiitn.ac.in</td>\n",
       "      <td>Unverified</td>\n",
       "      <td>2024-05-04 23:41:13</td>\n",
       "      <td>2024-05-20 14:32:24</td>\n",
       "      <td>2024-05-20 14:32:21</td>\n",
       "      <td>Yes</td>\n",
       "      <td>Yes</td>\n",
       "      <td>Yes</td>\n",
       "    </tr>\n",
       "  </tbody>\n",
       "</table>\n",
       "</div>"
      ],
      "text/plain": [
       "        user_ID    user_name city_name         mobile                   email  \\\n",
       "16082  15635386  Aayush Jain   Kolkata  +919300319597  bt22cse089@iiitn.ac.in   \n",
       "\n",
       "      email_verification_status      date_registered         last_ride_on  \\\n",
       "16082                Unverified  2024-05-04 23:41:13  2024-05-20 14:32:24   \n",
       "\n",
       "                last_login SMS_preferred Email_preferred Push_preferred  \n",
       "16082  2024-05-20 14:32:21           Yes             Yes            Yes  "
      ]
     },
     "execution_count": 42,
     "metadata": {},
     "output_type": "execute_result"
    }
   ],
   "source": [
    "existing_mobiles[existing_mobiles['user_name']=='Aayush Jain']"
   ]
  },
  {
   "cell_type": "code",
   "execution_count": 43,
   "metadata": {},
   "outputs": [],
   "source": [
    "customer=pd.read_csv(\"/Users/aayushjain/codes/projects/company assignements/Snape/Customer Migration/customer.csv\")"
   ]
  },
  {
   "cell_type": "code",
   "execution_count": 46,
   "metadata": {},
   "outputs": [
    {
     "name": "stdout",
     "output_type": "stream",
     "text": [
      "<class 'pandas.core.frame.DataFrame'>\n",
      "RangeIndex: 29541 entries, 0 to 29540\n",
      "Data columns (total 1 columns):\n",
      " #   Column  Non-Null Count  Dtype\n",
      "---  ------  --------------  -----\n",
      " 0   mobile  29541 non-null  int64\n",
      "dtypes: int64(1)\n",
      "memory usage: 230.9 KB\n"
     ]
    }
   ],
   "source": [
    "customer.info()"
   ]
  },
  {
   "cell_type": "code",
   "execution_count": 65,
   "metadata": {},
   "outputs": [
    {
     "name": "stdout",
     "output_type": "stream",
     "text": [
      "<class 'pandas.core.frame.DataFrame'>\n",
      "RangeIndex: 590467 entries, 0 to 590466\n",
      "Data columns (total 12 columns):\n",
      " #   Column                     Non-Null Count   Dtype         \n",
      "---  ------                     --------------   -----         \n",
      " 0   user_ID                    590467 non-null  int64         \n",
      " 1   user_name                  590467 non-null  object        \n",
      " 2   city_name                  590467 non-null  object        \n",
      " 3   mobile                     590467 non-null  object        \n",
      " 4   email                      590467 non-null  object        \n",
      " 5   email_verification_status  590467 non-null  object        \n",
      " 6   date_registered            590467 non-null  object        \n",
      " 7   last_ride_on               234698 non-null  datetime64[ns]\n",
      " 8   last_login                 564836 non-null  object        \n",
      " 9   SMS_preferred              590467 non-null  object        \n",
      " 10  Email_preferred            590467 non-null  object        \n",
      " 11  Push_preferred             590467 non-null  object        \n",
      "dtypes: datetime64[ns](1), int64(1), object(10)\n",
      "memory usage: 54.1+ MB\n"
     ]
    }
   ],
   "source": [
    "data.info()"
   ]
  },
  {
   "cell_type": "code",
   "execution_count": 58,
   "metadata": {},
   "outputs": [],
   "source": [
    "mobile_set = set(data['mobile'])"
   ]
  },
  {
   "cell_type": "code",
   "execution_count": 66,
   "metadata": {},
   "outputs": [],
   "source": [
    "customer['mobile'] = customer['mobile'].astype(str)\n",
    "customer['mobile'] = \"+91\" + customer['mobile']"
   ]
  },
  {
   "cell_type": "code",
   "execution_count": 79,
   "metadata": {},
   "outputs": [],
   "source": [
    "existing_mobiles_customers = customer[customer['mobile'].isin(mobile_set)]\n"
   ]
  },
  {
   "cell_type": "code",
   "execution_count": 80,
   "metadata": {},
   "outputs": [],
   "source": [
    "non_existing_mobiles_customers = customer[~customer['mobile'].isin(mobile_set)]\n"
   ]
  },
  {
   "cell_type": "code",
   "execution_count": 81,
   "metadata": {},
   "outputs": [
    {
     "name": "stdout",
     "output_type": "stream",
     "text": [
      "<class 'pandas.core.frame.DataFrame'>\n",
      "RangeIndex: 29541 entries, 0 to 29540\n",
      "Data columns (total 1 columns):\n",
      " #   Column  Non-Null Count  Dtype \n",
      "---  ------  --------------  ----- \n",
      " 0   mobile  29541 non-null  object\n",
      "dtypes: object(1)\n",
      "memory usage: 230.9+ KB\n"
     ]
    }
   ],
   "source": [
    "customer.info()"
   ]
  },
  {
   "cell_type": "code",
   "execution_count": 83,
   "metadata": {},
   "outputs": [
    {
     "name": "stdout",
     "output_type": "stream",
     "text": [
      "<class 'pandas.core.frame.DataFrame'>\n",
      "Index: 519 entries, 0 to 29540\n",
      "Data columns (total 1 columns):\n",
      " #   Column  Non-Null Count  Dtype \n",
      "---  ------  --------------  ----- \n",
      " 0   mobile  519 non-null    object\n",
      "dtypes: object(1)\n",
      "memory usage: 8.1+ KB\n"
     ]
    }
   ],
   "source": [
    "non_existing_mobiles_customers.info()"
   ]
  },
  {
   "cell_type": "code",
   "execution_count": 84,
   "metadata": {},
   "outputs": [
    {
     "name": "stdout",
     "output_type": "stream",
     "text": [
      "<class 'pandas.core.frame.DataFrame'>\n",
      "Index: 29022 entries, 1 to 29538\n",
      "Data columns (total 1 columns):\n",
      " #   Column  Non-Null Count  Dtype \n",
      "---  ------  --------------  ----- \n",
      " 0   mobile  29022 non-null  object\n",
      "dtypes: object(1)\n",
      "memory usage: 453.5+ KB\n"
     ]
    }
   ],
   "source": [
    "existing_mobiles_customers.info()"
   ]
  },
  {
   "cell_type": "code",
   "execution_count": 86,
   "metadata": {},
   "outputs": [
    {
     "data": {
      "text/plain": [
       "29541"
      ]
     },
     "execution_count": 86,
     "metadata": {},
     "output_type": "execute_result"
    }
   ],
   "source": [
    "customer['mobile'].nunique()"
   ]
  },
  {
   "cell_type": "code",
   "execution_count": 87,
   "metadata": {},
   "outputs": [
    {
     "data": {
      "text/plain": [
       "590467"
      ]
     },
     "execution_count": 87,
     "metadata": {},
     "output_type": "execute_result"
    }
   ],
   "source": [
    "data['mobile'].nunique()"
   ]
  },
  {
   "cell_type": "code",
   "execution_count": 88,
   "metadata": {},
   "outputs": [
    {
     "name": "stdout",
     "output_type": "stream",
     "text": [
      "<class 'pandas.core.frame.DataFrame'>\n",
      "RangeIndex: 590467 entries, 0 to 590466\n",
      "Data columns (total 12 columns):\n",
      " #   Column                     Non-Null Count   Dtype         \n",
      "---  ------                     --------------   -----         \n",
      " 0   user_ID                    590467 non-null  int64         \n",
      " 1   user_name                  590467 non-null  object        \n",
      " 2   city_name                  590467 non-null  object        \n",
      " 3   mobile                     590467 non-null  object        \n",
      " 4   email                      590467 non-null  object        \n",
      " 5   email_verification_status  590467 non-null  object        \n",
      " 6   date_registered            590467 non-null  object        \n",
      " 7   last_ride_on               234698 non-null  datetime64[ns]\n",
      " 8   last_login                 564836 non-null  object        \n",
      " 9   SMS_preferred              590467 non-null  object        \n",
      " 10  Email_preferred            590467 non-null  object        \n",
      " 11  Push_preferred             590467 non-null  object        \n",
      "dtypes: datetime64[ns](1), int64(1), object(10)\n",
      "memory usage: 54.1+ MB\n"
     ]
    }
   ],
   "source": [
    "data.info()"
   ]
  },
  {
   "cell_type": "code",
   "execution_count": null,
   "metadata": {},
   "outputs": [],
   "source": []
  }
 ],
 "metadata": {
  "kernelspec": {
   "display_name": "Python 3",
   "language": "python",
   "name": "python3"
  },
  "language_info": {
   "codemirror_mode": {
    "name": "ipython",
    "version": 3
   },
   "file_extension": ".py",
   "mimetype": "text/x-python",
   "name": "python",
   "nbconvert_exporter": "python",
   "pygments_lexer": "ipython3",
   "version": "3.9.6"
  }
 },
 "nbformat": 4,
 "nbformat_minor": 2
}

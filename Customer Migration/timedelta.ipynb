{
 "cells": [
  {
   "cell_type": "code",
   "execution_count": 1,
   "metadata": {},
   "outputs": [],
   "source": [
    "import pandas as pd\n",
    "import numpy as np\n",
    "import datetime\n",
    "from datetime import timedelta, datetime"
   ]
  },
  {
   "cell_type": "code",
   "execution_count": 38,
   "metadata": {},
   "outputs": [],
   "source": [
    "data=pd.read_csv(\"/Users/aayushjain/codes/projects/company assignements/Snape/Customer Migration/RENTAL TRIP ISSUE - Sheet1.csv\")"
   ]
  },
  {
   "cell_type": "code",
   "execution_count": 39,
   "metadata": {},
   "outputs": [
    {
     "name": "stdout",
     "output_type": "stream",
     "text": [
      "<class 'pandas.core.frame.DataFrame'>\n",
      "RangeIndex: 281 entries, 0 to 280\n",
      "Data columns (total 11 columns):\n",
      " #   Column                       Non-Null Count  Dtype  \n",
      "---  ------                       --------------  -----  \n",
      " 0   bookingId                    281 non-null    object \n",
      " 1   dateAndTime.created          281 non-null    object \n",
      " 2   Week Begin                   281 non-null    object \n",
      " 3   dateAndTime.accepted         281 non-null    object \n",
      " 4   dateAndTime.journeyStart     281 non-null    object \n",
      " 5   dateAndTime.journeyComplete  281 non-null    object \n",
      " 6   Unnamed: 6                   0 non-null      float64\n",
      " 7   driverDetails.driverId       281 non-null    object \n",
      " 8   driverDetails.firstName      281 non-null    object \n",
      " 9   driverDetails.lastName       281 non-null    object \n",
      " 10  driverDetails.phone          281 non-null    int64  \n",
      "dtypes: float64(1), int64(1), object(9)\n",
      "memory usage: 24.3+ KB\n"
     ]
    }
   ],
   "source": [
    "data.info()"
   ]
  },
  {
   "cell_type": "code",
   "execution_count": 40,
   "metadata": {},
   "outputs": [
    {
     "data": {
      "text/plain": [
       "0      2024-06-17T16:49:26.124Z\n",
       "1      2024-06-17T02:50:36.830Z\n",
       "2      2024-06-17T05:11:26.800Z\n",
       "3      2024-06-17T06:31:39.572Z\n",
       "4      2024-06-17T07:36:06.731Z\n",
       "                 ...           \n",
       "276    2024-06-30T12:42:31.023Z\n",
       "277    2024-06-30T13:37:31.370Z\n",
       "278    2024-06-30T14:52:02.250Z\n",
       "279    2024-06-30T16:15:26.215Z\n",
       "280    2024-06-30T17:50:38.357Z\n",
       "Name: dateAndTime.accepted, Length: 281, dtype: object"
      ]
     },
     "execution_count": 40,
     "metadata": {},
     "output_type": "execute_result"
    }
   ],
   "source": [
    "data['dateAndTime.accepted']"
   ]
  },
  {
   "cell_type": "code",
   "execution_count": 41,
   "metadata": {},
   "outputs": [],
   "source": [
    "data['dateAndTime.created'] = pd.to_datetime(data['dateAndTime.created']) +timedelta(hours=5,minutes=30)\n"
   ]
  },
  {
   "cell_type": "code",
   "execution_count": 42,
   "metadata": {},
   "outputs": [],
   "source": [
    "data['dateAndTime.accepted'] = pd.to_datetime(data['dateAndTime.accepted']) +timedelta(hours=5,minutes=30)\n"
   ]
  },
  {
   "cell_type": "code",
   "execution_count": 43,
   "metadata": {},
   "outputs": [],
   "source": [
    "data['dateAndTime.journeyStart'] = pd.to_datetime(data['dateAndTime.journeyStart']) +timedelta(hours=5,minutes=30)\n"
   ]
  },
  {
   "cell_type": "code",
   "execution_count": 45,
   "metadata": {},
   "outputs": [
    {
     "data": {
      "text/plain": [
       "0      2024-06-17T19:47:44.000Z \n",
       "1       2024-06-17T11:20:16.000Z\n",
       "2       2024-06-17T07:46:16.000Z\n",
       "3       2024-06-17T12:05:25.000Z\n",
       "4       2024-06-17T09:22:17.000Z\n",
       "                 ...            \n",
       "276     2024-06-30T15:58:37.000Z\n",
       "277     2024-06-30T14:38:30.000Z\n",
       "278     2024-06-30T15:41:29.000Z\n",
       "279     2024-06-30T17:10:31.000Z\n",
       "280     2024-06-30T18:16:44.000Z\n",
       "Name: dateAndTime.journeyComplete, Length: 281, dtype: object"
      ]
     },
     "execution_count": 45,
     "metadata": {},
     "output_type": "execute_result"
    }
   ],
   "source": [
    "data['dateAndTime.journeyComplete']"
   ]
  },
  {
   "cell_type": "code",
   "execution_count": 50,
   "metadata": {},
   "outputs": [
    {
     "data": {
      "text/html": [
       "<div>\n",
       "<style scoped>\n",
       "    .dataframe tbody tr th:only-of-type {\n",
       "        vertical-align: middle;\n",
       "    }\n",
       "\n",
       "    .dataframe tbody tr th {\n",
       "        vertical-align: top;\n",
       "    }\n",
       "\n",
       "    .dataframe thead th {\n",
       "        text-align: right;\n",
       "    }\n",
       "</style>\n",
       "<table border=\"1\" class=\"dataframe\">\n",
       "  <thead>\n",
       "    <tr style=\"text-align: right;\">\n",
       "      <th></th>\n",
       "      <th>bookingId</th>\n",
       "      <th>dateAndTime.created</th>\n",
       "      <th>Week Begin</th>\n",
       "      <th>dateAndTime.accepted</th>\n",
       "      <th>dateAndTime.journeyStart</th>\n",
       "      <th>dateAndTime.journeyComplete</th>\n",
       "      <th>Unnamed: 6</th>\n",
       "      <th>driverDetails.driverId</th>\n",
       "      <th>driverDetails.firstName</th>\n",
       "      <th>driverDetails.lastName</th>\n",
       "      <th>driverDetails.phone</th>\n",
       "    </tr>\n",
       "  </thead>\n",
       "  <tbody>\n",
       "    <tr>\n",
       "      <th>0</th>\n",
       "      <td>KOL81718585137</td>\n",
       "      <td>2024-06-17 06:15:37+00:00</td>\n",
       "      <td>WB 17 June</td>\n",
       "      <td>2024-06-17 22:19:26.124000+00:00</td>\n",
       "      <td>2024-06-17 23:52:48+00:00</td>\n",
       "      <td>2024-06-17T19:47:44.000Z</td>\n",
       "      <td>NaN</td>\n",
       "      <td>664c5cdd4ba8ee6f84968764</td>\n",
       "      <td>Avijit</td>\n",
       "      <td>Mondal</td>\n",
       "      <td>7908712661</td>\n",
       "    </tr>\n",
       "    <tr>\n",
       "      <th>1</th>\n",
       "      <td>KOL1991718592634</td>\n",
       "      <td>2024-06-17 08:20:34+00:00</td>\n",
       "      <td>WB 17 June</td>\n",
       "      <td>2024-06-17 08:20:36.830000+00:00</td>\n",
       "      <td>2024-06-17 08:21:10+00:00</td>\n",
       "      <td>2024-06-17T11:20:16.000Z</td>\n",
       "      <td>NaN</td>\n",
       "      <td>6635e3f89f7441001367f01a</td>\n",
       "      <td>Sanjay</td>\n",
       "      <td>Patra</td>\n",
       "      <td>6291192411</td>\n",
       "    </tr>\n",
       "    <tr>\n",
       "      <th>2</th>\n",
       "      <td>KOL2721718595821</td>\n",
       "      <td>2024-06-17 09:13:41+00:00</td>\n",
       "      <td>WB 17 June</td>\n",
       "      <td>2024-06-17 10:41:26.800000+00:00</td>\n",
       "      <td>2024-06-17 13:15:34+00:00</td>\n",
       "      <td>2024-06-17T07:46:16.000Z</td>\n",
       "      <td>NaN</td>\n",
       "      <td>660837c7956187001108f44d</td>\n",
       "      <td>chitta</td>\n",
       "      <td>mandal</td>\n",
       "      <td>7797838651</td>\n",
       "    </tr>\n",
       "    <tr>\n",
       "      <th>3</th>\n",
       "      <td>KOL4311718604173</td>\n",
       "      <td>2024-06-17 11:32:54+00:00</td>\n",
       "      <td>WB 17 June</td>\n",
       "      <td>2024-06-17 12:01:39.572000+00:00</td>\n",
       "      <td>2024-06-17 17:34:47+00:00</td>\n",
       "      <td>2024-06-17T12:05:25.000Z</td>\n",
       "      <td>NaN</td>\n",
       "      <td>6610492a8f92bd001137cae1</td>\n",
       "      <td>Soumen</td>\n",
       "      <td>Das</td>\n",
       "      <td>7980287511</td>\n",
       "    </tr>\n",
       "    <tr>\n",
       "      <th>4</th>\n",
       "      <td>KOL4111718609747</td>\n",
       "      <td>2024-06-17 13:05:47+00:00</td>\n",
       "      <td>WB 17 June</td>\n",
       "      <td>2024-06-17 13:06:06.731000+00:00</td>\n",
       "      <td>2024-06-17 13:43:52+00:00</td>\n",
       "      <td>2024-06-17T09:22:17.000Z</td>\n",
       "      <td>NaN</td>\n",
       "      <td>6663f83d95d25d6c5bceaae8</td>\n",
       "      <td>nagendar</td>\n",
       "      <td>yadav</td>\n",
       "      <td>8114168496</td>\n",
       "    </tr>\n",
       "    <tr>\n",
       "      <th>...</th>\n",
       "      <td>...</td>\n",
       "      <td>...</td>\n",
       "      <td>...</td>\n",
       "      <td>...</td>\n",
       "      <td>...</td>\n",
       "      <td>...</td>\n",
       "      <td>...</td>\n",
       "      <td>...</td>\n",
       "      <td>...</td>\n",
       "      <td>...</td>\n",
       "      <td>...</td>\n",
       "    </tr>\n",
       "    <tr>\n",
       "      <th>276</th>\n",
       "      <td>KOL4101719751272</td>\n",
       "      <td>2024-06-30 18:11:12+00:00</td>\n",
       "      <td>WB 24 June</td>\n",
       "      <td>2024-06-30 18:12:31.023000+00:00</td>\n",
       "      <td>2024-06-30 19:02:20+00:00</td>\n",
       "      <td>2024-06-30T15:58:37.000Z</td>\n",
       "      <td>NaN</td>\n",
       "      <td>660d1ff092baa8001839d5ed</td>\n",
       "      <td>jaybev</td>\n",
       "      <td>mitra</td>\n",
       "      <td>9674448776</td>\n",
       "    </tr>\n",
       "    <tr>\n",
       "      <th>277</th>\n",
       "      <td>KOL6471719754650</td>\n",
       "      <td>2024-06-30 19:07:30+00:00</td>\n",
       "      <td>WB 24 June</td>\n",
       "      <td>2024-06-30 19:07:31.370000+00:00</td>\n",
       "      <td>2024-06-30 19:09:35+00:00</td>\n",
       "      <td>2024-06-30T14:38:30.000Z</td>\n",
       "      <td>NaN</td>\n",
       "      <td>66617adbe750c98072e048f2</td>\n",
       "      <td>Md Mehraj</td>\n",
       "      <td>Ahmed</td>\n",
       "      <td>6291928935</td>\n",
       "    </tr>\n",
       "    <tr>\n",
       "      <th>278</th>\n",
       "      <td>KOL6751719759112</td>\n",
       "      <td>2024-06-30 20:21:52+00:00</td>\n",
       "      <td>WB 24 June</td>\n",
       "      <td>2024-06-30 20:22:02.250000+00:00</td>\n",
       "      <td>2024-06-30 20:26:57+00:00</td>\n",
       "      <td>2024-06-30T15:41:29.000Z</td>\n",
       "      <td>NaN</td>\n",
       "      <td>6673d186c2b86a14e34255ce</td>\n",
       "      <td>Mayank</td>\n",
       "      <td>Sharma</td>\n",
       "      <td>6290958033</td>\n",
       "    </tr>\n",
       "    <tr>\n",
       "      <th>279</th>\n",
       "      <td>KOL5151719764055</td>\n",
       "      <td>2024-06-30 21:44:15+00:00</td>\n",
       "      <td>WB 24 June</td>\n",
       "      <td>2024-06-30 21:45:26.215000+00:00</td>\n",
       "      <td>2024-06-30 22:05:07+00:00</td>\n",
       "      <td>2024-06-30T17:10:31.000Z</td>\n",
       "      <td>NaN</td>\n",
       "      <td>664c55d694e4d5f7e98fe1e2</td>\n",
       "      <td>Vijaydeep</td>\n",
       "      <td>Singh</td>\n",
       "      <td>8806764501</td>\n",
       "    </tr>\n",
       "    <tr>\n",
       "      <th>280</th>\n",
       "      <td>KOL2671719769825</td>\n",
       "      <td>2024-06-30 23:20:25+00:00</td>\n",
       "      <td>WB 24 June</td>\n",
       "      <td>2024-06-30 23:20:38.357000+00:00</td>\n",
       "      <td>2024-06-30 23:28:47+00:00</td>\n",
       "      <td>2024-06-30T18:16:44.000Z</td>\n",
       "      <td>NaN</td>\n",
       "      <td>663704bc8ff90e0011a07312</td>\n",
       "      <td>Protap Rajbanshi</td>\n",
       "      <td>Protap Rajbanshi</td>\n",
       "      <td>8597863832</td>\n",
       "    </tr>\n",
       "  </tbody>\n",
       "</table>\n",
       "<p>281 rows × 11 columns</p>\n",
       "</div>"
      ],
      "text/plain": [
       "            bookingId       dateAndTime.created  Week Begin  \\\n",
       "0      KOL81718585137 2024-06-17 06:15:37+00:00  WB 17 June   \n",
       "1    KOL1991718592634 2024-06-17 08:20:34+00:00  WB 17 June   \n",
       "2    KOL2721718595821 2024-06-17 09:13:41+00:00  WB 17 June   \n",
       "3    KOL4311718604173 2024-06-17 11:32:54+00:00  WB 17 June   \n",
       "4    KOL4111718609747 2024-06-17 13:05:47+00:00  WB 17 June   \n",
       "..                ...                       ...         ...   \n",
       "276  KOL4101719751272 2024-06-30 18:11:12+00:00  WB 24 June   \n",
       "277  KOL6471719754650 2024-06-30 19:07:30+00:00  WB 24 June   \n",
       "278  KOL6751719759112 2024-06-30 20:21:52+00:00  WB 24 June   \n",
       "279  KOL5151719764055 2024-06-30 21:44:15+00:00  WB 24 June   \n",
       "280  KOL2671719769825 2024-06-30 23:20:25+00:00  WB 24 June   \n",
       "\n",
       "                dateAndTime.accepted  dateAndTime.journeyStart  \\\n",
       "0   2024-06-17 22:19:26.124000+00:00 2024-06-17 23:52:48+00:00   \n",
       "1   2024-06-17 08:20:36.830000+00:00 2024-06-17 08:21:10+00:00   \n",
       "2   2024-06-17 10:41:26.800000+00:00 2024-06-17 13:15:34+00:00   \n",
       "3   2024-06-17 12:01:39.572000+00:00 2024-06-17 17:34:47+00:00   \n",
       "4   2024-06-17 13:06:06.731000+00:00 2024-06-17 13:43:52+00:00   \n",
       "..                               ...                       ...   \n",
       "276 2024-06-30 18:12:31.023000+00:00 2024-06-30 19:02:20+00:00   \n",
       "277 2024-06-30 19:07:31.370000+00:00 2024-06-30 19:09:35+00:00   \n",
       "278 2024-06-30 20:22:02.250000+00:00 2024-06-30 20:26:57+00:00   \n",
       "279 2024-06-30 21:45:26.215000+00:00 2024-06-30 22:05:07+00:00   \n",
       "280 2024-06-30 23:20:38.357000+00:00 2024-06-30 23:28:47+00:00   \n",
       "\n",
       "    dateAndTime.journeyComplete  Unnamed: 6    driverDetails.driverId  \\\n",
       "0     2024-06-17T19:47:44.000Z          NaN  664c5cdd4ba8ee6f84968764   \n",
       "1      2024-06-17T11:20:16.000Z         NaN  6635e3f89f7441001367f01a   \n",
       "2      2024-06-17T07:46:16.000Z         NaN  660837c7956187001108f44d   \n",
       "3      2024-06-17T12:05:25.000Z         NaN  6610492a8f92bd001137cae1   \n",
       "4      2024-06-17T09:22:17.000Z         NaN  6663f83d95d25d6c5bceaae8   \n",
       "..                          ...         ...                       ...   \n",
       "276    2024-06-30T15:58:37.000Z         NaN  660d1ff092baa8001839d5ed   \n",
       "277    2024-06-30T14:38:30.000Z         NaN  66617adbe750c98072e048f2   \n",
       "278    2024-06-30T15:41:29.000Z         NaN  6673d186c2b86a14e34255ce   \n",
       "279    2024-06-30T17:10:31.000Z         NaN  664c55d694e4d5f7e98fe1e2   \n",
       "280    2024-06-30T18:16:44.000Z         NaN  663704bc8ff90e0011a07312   \n",
       "\n",
       "    driverDetails.firstName driverDetails.lastName  driverDetails.phone  \n",
       "0                    Avijit                 Mondal           7908712661  \n",
       "1                    Sanjay                  Patra           6291192411  \n",
       "2                    chitta                 mandal           7797838651  \n",
       "3                    Soumen                    Das           7980287511  \n",
       "4                  nagendar                  yadav           8114168496  \n",
       "..                      ...                    ...                  ...  \n",
       "276                  jaybev                  mitra           9674448776  \n",
       "277               Md Mehraj                  Ahmed           6291928935  \n",
       "278                  Mayank                 Sharma           6290958033  \n",
       "279               Vijaydeep                  Singh           8806764501  \n",
       "280        Protap Rajbanshi       Protap Rajbanshi           8597863832  \n",
       "\n",
       "[281 rows x 11 columns]"
      ]
     },
     "execution_count": 50,
     "metadata": {},
     "output_type": "execute_result"
    }
   ],
   "source": [
    "data"
   ]
  },
  {
   "cell_type": "code",
   "execution_count": 52,
   "metadata": {},
   "outputs": [
    {
     "name": "stderr",
     "output_type": "stream",
     "text": [
      "/var/folders/q_/dn720rf91691y39h0s_hr_280000gn/T/ipykernel_37333/436598140.py:1: SettingWithCopyWarning: \n",
      "A value is trying to be set on a copy of a slice from a DataFrame.\n",
      "Try using .loc[row_indexer,col_indexer] = value instead\n",
      "\n",
      "See the caveats in the documentation: https://pandas.pydata.org/pandas-docs/stable/user_guide/indexing.html#returning-a-view-versus-a-copy\n",
      "  data[data['bookingId']=='KOL81718585137']['dateAndTime.journeyComplete']='2024-06-17T19:47:44.000Z'\n"
     ]
    }
   ],
   "source": [
    "data[data['bookingId']=='KOL81718585137']['dateAndTime.journeyComplete']='2024-06-17T19:47:44.000Z'"
   ]
  },
  {
   "cell_type": "code",
   "execution_count": 54,
   "metadata": {},
   "outputs": [
    {
     "data": {
      "text/plain": [
       "0      2024-06-17T19:47:44.000Z \n",
       "1       2024-06-17T11:20:16.000Z\n",
       "2       2024-06-17T07:46:16.000Z\n",
       "3       2024-06-17T12:05:25.000Z\n",
       "4       2024-06-17T09:22:17.000Z\n",
       "                 ...            \n",
       "276     2024-06-30T15:58:37.000Z\n",
       "277     2024-06-30T14:38:30.000Z\n",
       "278     2024-06-30T15:41:29.000Z\n",
       "279     2024-06-30T17:10:31.000Z\n",
       "280     2024-06-30T18:16:44.000Z\n",
       "Name: dateAndTime.journeyComplete, Length: 281, dtype: object"
      ]
     },
     "execution_count": 54,
     "metadata": {},
     "output_type": "execute_result"
    }
   ],
   "source": [
    "data['dateAndTime.journeyComplete']"
   ]
  },
  {
   "cell_type": "code",
   "execution_count": 53,
   "metadata": {},
   "outputs": [
    {
     "ename": "ValueError",
     "evalue": "time data \"2024-06-17T11:20:16.000Z\" doesn't match format \"%Y-%m-%dT%H:%M:%S.%fZ \", at position 1. You might want to try:\n    - passing `format` if your strings have a consistent format;\n    - passing `format='ISO8601'` if your strings are all ISO8601 but not necessarily in exactly the same format;\n    - passing `format='mixed'`, and the format will be inferred for each element individually. You might want to use `dayfirst` alongside this.",
     "output_type": "error",
     "traceback": [
      "\u001b[0;31m---------------------------------------------------------------------------\u001b[0m",
      "\u001b[0;31mValueError\u001b[0m                                Traceback (most recent call last)",
      "Cell \u001b[0;32mIn[53], line 1\u001b[0m\n\u001b[0;32m----> 1\u001b[0m data[\u001b[38;5;124m'\u001b[39m\u001b[38;5;124mdateAndTime.journeyComplete\u001b[39m\u001b[38;5;124m'\u001b[39m] \u001b[38;5;241m=\u001b[39m \u001b[43mpd\u001b[49m\u001b[38;5;241;43m.\u001b[39;49m\u001b[43mto_datetime\u001b[49m\u001b[43m(\u001b[49m\u001b[43mdata\u001b[49m\u001b[43m[\u001b[49m\u001b[38;5;124;43m'\u001b[39;49m\u001b[38;5;124;43mdateAndTime.journeyComplete\u001b[39;49m\u001b[38;5;124;43m'\u001b[39;49m\u001b[43m]\u001b[49m\u001b[43m)\u001b[49m \u001b[38;5;241m+\u001b[39mtimedelta(hours\u001b[38;5;241m=\u001b[39m\u001b[38;5;241m5\u001b[39m,minutes\u001b[38;5;241m=\u001b[39m\u001b[38;5;241m30\u001b[39m)\n",
      "File \u001b[0;32m/Library/Frameworks/Python.framework/Versions/3.12/lib/python3.12/site-packages/pandas/core/tools/datetimes.py:1112\u001b[0m, in \u001b[0;36mto_datetime\u001b[0;34m(arg, errors, dayfirst, yearfirst, utc, format, exact, unit, infer_datetime_format, origin, cache)\u001b[0m\n\u001b[1;32m   1110\u001b[0m         result \u001b[38;5;241m=\u001b[39m arg\u001b[38;5;241m.\u001b[39mmap(cache_array)\n\u001b[1;32m   1111\u001b[0m     \u001b[38;5;28;01melse\u001b[39;00m:\n\u001b[0;32m-> 1112\u001b[0m         values \u001b[38;5;241m=\u001b[39m \u001b[43mconvert_listlike\u001b[49m\u001b[43m(\u001b[49m\u001b[43marg\u001b[49m\u001b[38;5;241;43m.\u001b[39;49m\u001b[43m_values\u001b[49m\u001b[43m,\u001b[49m\u001b[43m \u001b[49m\u001b[38;5;28;43mformat\u001b[39;49m\u001b[43m)\u001b[49m\n\u001b[1;32m   1113\u001b[0m         result \u001b[38;5;241m=\u001b[39m arg\u001b[38;5;241m.\u001b[39m_constructor(values, index\u001b[38;5;241m=\u001b[39marg\u001b[38;5;241m.\u001b[39mindex, name\u001b[38;5;241m=\u001b[39marg\u001b[38;5;241m.\u001b[39mname)\n\u001b[1;32m   1114\u001b[0m \u001b[38;5;28;01melif\u001b[39;00m \u001b[38;5;28misinstance\u001b[39m(arg, (ABCDataFrame, abc\u001b[38;5;241m.\u001b[39mMutableMapping)):\n",
      "File \u001b[0;32m/Library/Frameworks/Python.framework/Versions/3.12/lib/python3.12/site-packages/pandas/core/tools/datetimes.py:488\u001b[0m, in \u001b[0;36m_convert_listlike_datetimes\u001b[0;34m(arg, format, name, utc, unit, errors, dayfirst, yearfirst, exact)\u001b[0m\n\u001b[1;32m    486\u001b[0m \u001b[38;5;66;03m# `format` could be inferred, or user didn't ask for mixed-format parsing.\u001b[39;00m\n\u001b[1;32m    487\u001b[0m \u001b[38;5;28;01mif\u001b[39;00m \u001b[38;5;28mformat\u001b[39m \u001b[38;5;129;01mis\u001b[39;00m \u001b[38;5;129;01mnot\u001b[39;00m \u001b[38;5;28;01mNone\u001b[39;00m \u001b[38;5;129;01mand\u001b[39;00m \u001b[38;5;28mformat\u001b[39m \u001b[38;5;241m!=\u001b[39m \u001b[38;5;124m\"\u001b[39m\u001b[38;5;124mmixed\u001b[39m\u001b[38;5;124m\"\u001b[39m:\n\u001b[0;32m--> 488\u001b[0m     \u001b[38;5;28;01mreturn\u001b[39;00m \u001b[43m_array_strptime_with_fallback\u001b[49m\u001b[43m(\u001b[49m\u001b[43marg\u001b[49m\u001b[43m,\u001b[49m\u001b[43m \u001b[49m\u001b[43mname\u001b[49m\u001b[43m,\u001b[49m\u001b[43m \u001b[49m\u001b[43mutc\u001b[49m\u001b[43m,\u001b[49m\u001b[43m \u001b[49m\u001b[38;5;28;43mformat\u001b[39;49m\u001b[43m,\u001b[49m\u001b[43m \u001b[49m\u001b[43mexact\u001b[49m\u001b[43m,\u001b[49m\u001b[43m \u001b[49m\u001b[43merrors\u001b[49m\u001b[43m)\u001b[49m\n\u001b[1;32m    490\u001b[0m result, tz_parsed \u001b[38;5;241m=\u001b[39m objects_to_datetime64ns(\n\u001b[1;32m    491\u001b[0m     arg,\n\u001b[1;32m    492\u001b[0m     dayfirst\u001b[38;5;241m=\u001b[39mdayfirst,\n\u001b[0;32m   (...)\u001b[0m\n\u001b[1;32m    496\u001b[0m     allow_object\u001b[38;5;241m=\u001b[39m\u001b[38;5;28;01mTrue\u001b[39;00m,\n\u001b[1;32m    497\u001b[0m )\n\u001b[1;32m    499\u001b[0m \u001b[38;5;28;01mif\u001b[39;00m tz_parsed \u001b[38;5;129;01mis\u001b[39;00m \u001b[38;5;129;01mnot\u001b[39;00m \u001b[38;5;28;01mNone\u001b[39;00m:\n\u001b[1;32m    500\u001b[0m     \u001b[38;5;66;03m# We can take a shortcut since the datetime64 numpy array\u001b[39;00m\n\u001b[1;32m    501\u001b[0m     \u001b[38;5;66;03m# is in UTC\u001b[39;00m\n",
      "File \u001b[0;32m/Library/Frameworks/Python.framework/Versions/3.12/lib/python3.12/site-packages/pandas/core/tools/datetimes.py:519\u001b[0m, in \u001b[0;36m_array_strptime_with_fallback\u001b[0;34m(arg, name, utc, fmt, exact, errors)\u001b[0m\n\u001b[1;32m    508\u001b[0m \u001b[38;5;28;01mdef\u001b[39;00m \u001b[38;5;21m_array_strptime_with_fallback\u001b[39m(\n\u001b[1;32m    509\u001b[0m     arg,\n\u001b[1;32m    510\u001b[0m     name,\n\u001b[0;32m   (...)\u001b[0m\n\u001b[1;32m    514\u001b[0m     errors: \u001b[38;5;28mstr\u001b[39m,\n\u001b[1;32m    515\u001b[0m ) \u001b[38;5;241m-\u001b[39m\u001b[38;5;241m>\u001b[39m Index:\n\u001b[1;32m    516\u001b[0m \u001b[38;5;250m    \u001b[39m\u001b[38;5;124;03m\"\"\"\u001b[39;00m\n\u001b[1;32m    517\u001b[0m \u001b[38;5;124;03m    Call array_strptime, with fallback behavior depending on 'errors'.\u001b[39;00m\n\u001b[1;32m    518\u001b[0m \u001b[38;5;124;03m    \"\"\"\u001b[39;00m\n\u001b[0;32m--> 519\u001b[0m     result, timezones \u001b[38;5;241m=\u001b[39m \u001b[43marray_strptime\u001b[49m\u001b[43m(\u001b[49m\u001b[43marg\u001b[49m\u001b[43m,\u001b[49m\u001b[43m \u001b[49m\u001b[43mfmt\u001b[49m\u001b[43m,\u001b[49m\u001b[43m \u001b[49m\u001b[43mexact\u001b[49m\u001b[38;5;241;43m=\u001b[39;49m\u001b[43mexact\u001b[49m\u001b[43m,\u001b[49m\u001b[43m \u001b[49m\u001b[43merrors\u001b[49m\u001b[38;5;241;43m=\u001b[39;49m\u001b[43merrors\u001b[49m\u001b[43m,\u001b[49m\u001b[43m \u001b[49m\u001b[43mutc\u001b[49m\u001b[38;5;241;43m=\u001b[39;49m\u001b[43mutc\u001b[49m\u001b[43m)\u001b[49m\n\u001b[1;32m    520\u001b[0m     \u001b[38;5;28;01mif\u001b[39;00m \u001b[38;5;28many\u001b[39m(tz \u001b[38;5;129;01mis\u001b[39;00m \u001b[38;5;129;01mnot\u001b[39;00m \u001b[38;5;28;01mNone\u001b[39;00m \u001b[38;5;28;01mfor\u001b[39;00m tz \u001b[38;5;129;01min\u001b[39;00m timezones):\n\u001b[1;32m    521\u001b[0m         \u001b[38;5;28;01mreturn\u001b[39;00m _return_parsed_timezone_results(result, timezones, utc, name)\n",
      "File \u001b[0;32mstrptime.pyx:534\u001b[0m, in \u001b[0;36mpandas._libs.tslibs.strptime.array_strptime\u001b[0;34m()\u001b[0m\n",
      "File \u001b[0;32mstrptime.pyx:355\u001b[0m, in \u001b[0;36mpandas._libs.tslibs.strptime.array_strptime\u001b[0;34m()\u001b[0m\n",
      "\u001b[0;31mValueError\u001b[0m: time data \"2024-06-17T11:20:16.000Z\" doesn't match format \"%Y-%m-%dT%H:%M:%S.%fZ \", at position 1. You might want to try:\n    - passing `format` if your strings have a consistent format;\n    - passing `format='ISO8601'` if your strings are all ISO8601 but not necessarily in exactly the same format;\n    - passing `format='mixed'`, and the format will be inferred for each element individually. You might want to use `dayfirst` alongside this."
     ]
    }
   ],
   "source": [
    "data['dateAndTime.journeyComplete'] = pd.to_datetime(data['dateAndTime.journeyComplete']) +timedelta(hours=5,minutes=30)\n"
   ]
  },
  {
   "cell_type": "code",
   "execution_count": 56,
   "metadata": {},
   "outputs": [],
   "source": [
    "mydata_bruh=data[data['bookingId']=='KOL5811718871710']"
   ]
  },
  {
   "cell_type": "markdown",
   "metadata": {},
   "source": []
  },
  {
   "cell_type": "code",
   "execution_count": null,
   "metadata": {},
   "outputs": [],
   "source": []
  }
 ],
 "metadata": {
  "kernelspec": {
   "display_name": "Python 3",
   "language": "python",
   "name": "python3"
  },
  "language_info": {
   "codemirror_mode": {
    "name": "ipython",
    "version": 3
   },
   "file_extension": ".py",
   "mimetype": "text/x-python",
   "name": "python",
   "nbconvert_exporter": "python",
   "pygments_lexer": "ipython3",
   "version": "3.12.4"
  }
 },
 "nbformat": 4,
 "nbformat_minor": 2
}
